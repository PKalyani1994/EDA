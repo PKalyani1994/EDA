{
  "nbformat": 4,
  "nbformat_minor": 0,
  "metadata": {
    "colab": {
      "private_outputs": true,
      "provenance": [],
      "collapsed_sections": [
        "mDgbUHAGgjLW",
        "gIfDvo9L0UH2"
      ],
      "include_colab_link": true
    },
    "kernelspec": {
      "name": "python3",
      "display_name": "Python 3"
    },
    "language_info": {
      "name": "python"
    }
  },
  "cells": [
    {
      "cell_type": "markdown",
      "metadata": {
        "id": "view-in-github",
        "colab_type": "text"
      },
      "source": [
        "<a href=\"https://colab.research.google.com/github/PKalyani1994/EDA/blob/main/2PK2_EDA_Capstone_Submission.ipynb\" target=\"_parent\"><img src=\"https://colab.research.google.com/assets/colab-badge.svg\" alt=\"Open In Colab\"/></a>"
      ]
    },
    {
      "cell_type": "markdown",
      "source": [
        "# **Project Name**    -\n",
        "\n"
      ],
      "metadata": {
        "id": "vncDsAP0Gaoa"
      }
    },
    {
      "cell_type": "markdown",
      "source": [
        "##### **Project Type**    - Exploratory Data Analysis on **Global Terrorism Database**\n",
        "##### **Contribution**    - Individual\n"
      ],
      "metadata": {
        "id": "beRrZCGUAJYm"
      }
    },
    {
      "cell_type": "markdown",
      "source": [
        "# **Project Summary -**"
      ],
      "metadata": {
        "id": "FJNUwmbgGyua"
      }
    },
    {
      "cell_type": "markdown",
      "source": [
        "The Project is based on the detailed **Exploratory Data Analysis on the Global Terrorism Database**. As known, there is surge in the Global Terrorist Attacks across different countries **since 1970 through 2017 till present**. The Database records more than **1,80,000 Terrorist attacks**. The detailed information about each attack is formulated and presented in the database. The database is maintained by researchers at the **National Consortium for the Study of Terrorism and Responses to Terrorism (START)**, headquartered at the **University of Maryland**. I hereby Explored and analyzed the data to discover key findings pertaining to terrorist activities.\n",
        "\n",
        "**Step wise format of the Project is as follows**:\n",
        "1. A in-depth **Problem Statement** is provided and questions are listed on which detailed analysis is done and solutions are provided.\n",
        "2. A brief **Business Objective** is defined based on how I deemed to enrich the Business with the important suggestions based on specific problem statements to minimize impact of terrorism on society, contribute to national security and make safe place by combating the revolutionized Terrorism.\n",
        "3. While conducting the project, important **Libraries** like Numpy, Pandas, Matplotlib and Seaborn were used.\n",
        "4. Basic **Overview** of the Dataset is given by uploding data, looking at the number of rows and columns, finding out the missing data, filtering data with valuable features, cleaning the dataset by handling the missing values, duplicate values, describing the variables used in the dataset for analysis.\n",
        "5. Visualizing the unique values for all the variables, **Data Wrangling** and **feature Engineering** to make the dataset ready for analysis and making it more valuable.\n",
        "6. **Visualizing** and drawing insights for various problem statements mentioned and listing out the observations.\n",
        "7. Briefing a proper **Conclusion** that is drawn based on the Anaysis.\n",
        "8. **Suggestions** for the Business / Government Service Enhancement and making Safer Environment for the livelihood for the humankind and ultimately contributing to regional and global security."
      ],
      "metadata": {
        "id": "F6v_1wHtG2nS"
      }
    },
    {
      "cell_type": "markdown",
      "source": [
        "# **GitHub Link -**"
      ],
      "metadata": {
        "id": "w6K7xa23Elo4"
      }
    },
    {
      "cell_type": "markdown",
      "source": [
        "https://github.com/PKalyani1994/EDA"
      ],
      "metadata": {
        "id": "h1o69JH3Eqqn"
      }
    },
    {
      "cell_type": "markdown",
      "source": [
        "# **Problem Statement**\n"
      ],
      "metadata": {
        "id": "yQaldy8SH6Dl"
      }
    },
    {
      "cell_type": "markdown",
      "source": [
        "1. The observed **surge** in global terrorist attacks, particularly the exponential increase from **2012 to 2017**, demands urgent attention.\n",
        "2. The concentration of attacks in specific months, the prevalence of **prolonged incidents**, and the shift in weapon usage patterns, notably **biological weapons** between 1995 and 2005, pose significant challenges.\n",
        "3. The geographic hotspots and success rates of major terrorist groups, such as the **Taliban and ISIL**, underscore the need for targeted counter-terrorism strategies.\n",
        "4. Additionally, the rise in **doubtful cases** and the correlation between the number of victims killed and wounded emphasize the complex nature of terrorism.\n",
        "5. Addressing these trends requires a multifaceted, coordinated **global effort** to enhance prevention and response measures.\n",
        "6. For the above said reasons, a **detailed study** is of immediate requirement.\n",
        "\n",
        "I made efforts to conduct a detailed **Exploratory Data Analysis** on the **Global Terrorism Database** and I have decifered important insights from my analysis and suggested solutions to the Business objective mentioned. I will walk you through my **Project** step by step and explain solutions for the following questions.\n",
        "\n",
        "1. Number of Terrorist attacks across the Years.\n",
        "2. Number of Attacks across each Month.\n",
        "3. Number of Attacks across each Day.\n",
        "4. Attacks where Approximate Date recorded as Exact Date of incident is not clear.\n",
        "5. Attacks those extended more than 24 hours and continued on next day.\n",
        "6. Top 10 Countries with Highest number of Attacks.\n",
        "7. Number of Attacks in specific Regions.\n",
        "8. Cities with Most Attacks.\n",
        "9. Attacks occured inside City or Vicinity/Surroundings of the City.\n",
        "10. Attacks that met Criteria - 1, 2 & 3 to be included into GTD.\n",
        "11. Doubtful Attacks and their Most likely Crime Type other than Terrorism.\n",
        "12. Attacks that are part of Multiple Planned Attacks/ Related to One Another.\n",
        "13. Number of Succesfull Attacks / Suicidal Attacks / Attacks by Independent Individuals / Terrorist Groups.\n",
        "14. Different AttackTypes, TargetTypes.\n",
        "15. Weapon type used in different years.\n",
        "16. Most Active Terrorist Groups.\n",
        "17. Victims/Perpetrators killed during Attacks by Most Active Terrorist Groups.\n",
        "18. No.of people Wounded during usage of different Attacking Types.\n",
        "19. Visible Property Damages by Top Terrorist Groups.\n",
        "20. Highest Kidnapped Cases across the Years.\n",
        "21. Claim mode used by top Terrorist groups to claim the responsibility for an attack.\n",
        "22. Incidene on Attacks recorded by different Sources across Years.\n",
        "23. Attacks that are Logistics International, Ideological International and Miscellaneous International.\n",
        "24. Number of Doubtful attacks (other than Terrorism) across the Years.\n",
        "25. Number of attacks succesful and failed over the years.\n",
        "26. Most Succesfull attacks across Regions.\n",
        "27. Most Suicidal cases across Regions.\n",
        "28. Most common Attack types used in Suicidal attacks cases.\n",
        "29. Most prominent Claim Mode used by Terrorist during attacks involving Kidnapping Cases.\n",
        "30. Regions with Most Extended Cases (attacks extended over 24 hrs).\n",
        "31. Terrorists groups targeting different Victim Types.\n",
        "32. Terrorist groups with most succesfull cases.\n",
        "33. Correlation Heatmap visualization for Numerical Variables.\n",
        "34. Relationship between number of killed to tthat of wounded.\n",
        "\n",
        "\n",
        "\n",
        "\n"
      ],
      "metadata": {
        "id": "DpeJGUA3kjGy"
      }
    },
    {
      "cell_type": "markdown",
      "source": [
        "#### **Define Your Business Objective?**"
      ],
      "metadata": {
        "id": "PH-0ReGfmX4f"
      }
    },
    {
      "cell_type": "markdown",
      "source": [
        "###Business Objective:\n",
        "1. My Mission is to provide comprehensive security **solutions** to governments and private entities globally.\n",
        "2. By leveraging advanced **technology**, strategic partnerships, and intelligence-driven **insights**, my goal is to help and suggest on how to **minimize** the impact of terrorism on communities.\n",
        "3. Aiming to provide ways to enhance **safety measures**, strengthen security forces, and implement **preventive strategies**.\n",
        "4. Through continuous innovation, **collaboration** with international partners, and focusing on **dismantling terrorist networks**, I want to help business endeavors to contribute significantly to **national and global security**.\n",
        "5. My commitment is to create a safe environment by addressing root causes, suggesting on implementing strict measures, and providing tailored solutions to combat the **evolving challenges of terrorism**."
      ],
      "metadata": {
        "id": "PhDvGCAqmjP1"
      }
    },
    {
      "cell_type": "markdown",
      "source": [
        "# **General Guidelines** : -  "
      ],
      "metadata": {
        "id": "mDgbUHAGgjLW"
      }
    },
    {
      "cell_type": "markdown",
      "source": [
        "1.   Well-structured, formatted, and commented code is required.\n",
        "2.   Exception Handling, Production Grade Code & Deployment Ready Code will be a plus. Those students will be awarded some additional credits.\n",
        "     \n",
        "     The additional credits will have advantages over other students during Star Student selection.\n",
        "       \n",
        "             [ Note: - Deployment Ready Code is defined as, the whole .ipynb notebook should be executable in one go\n",
        "                       without a single error logged. ]\n",
        "\n",
        "3.   Each and every logic should have proper comments.\n",
        "4. You may add as many number of charts you want. Make Sure for each and every chart the following format should be answered.\n",
        "        \n",
        "\n",
        "```\n",
        "# Chart visualization code\n",
        "```\n",
        "            \n",
        "\n",
        "*   Why did you pick the specific chart?\n",
        "*   What is/are the insight(s) found from the chart?\n",
        "* Will the gained insights help creating a positive business impact?\n",
        "Are there any insights that lead to negative growth? Justify with specific reason.\n",
        "\n",
        "5. You have to create at least 20 logical & meaningful charts having important insights.\n",
        "\n",
        "\n",
        "[ Hints : - Do the Vizualization in  a structured way while following \"UBM\" Rule.\n",
        "\n",
        "U - Univariate Analysis,\n",
        "\n",
        "B - Bivariate Analysis (Numerical - Categorical, Numerical - Numerical, Categorical - Categorical)\n",
        "\n",
        "M - Multivariate Analysis\n",
        " ]\n",
        "\n",
        "\n",
        "\n"
      ],
      "metadata": {
        "id": "ZrxVaUj-hHfC"
      }
    },
    {
      "cell_type": "markdown",
      "source": [
        "# ***Let's Begin !***"
      ],
      "metadata": {
        "id": "O_i_v8NEhb9l"
      }
    },
    {
      "cell_type": "markdown",
      "source": [
        "## ***1. Know Your Data***"
      ],
      "metadata": {
        "id": "HhfV-JJviCcP"
      }
    },
    {
      "cell_type": "markdown",
      "source": [
        "### Import Libraries"
      ],
      "metadata": {
        "id": "Y3lxredqlCYt"
      }
    },
    {
      "cell_type": "code",
      "source": [
        "# Importing required Libraries\n",
        "import pandas as pd\n",
        "import numpy as np\n",
        "import matplotlib.pyplot as plt\n",
        "import seaborn as sns"
      ],
      "metadata": {
        "id": "M8Vqi-pPk-HR"
      },
      "execution_count": null,
      "outputs": []
    },
    {
      "cell_type": "markdown",
      "source": [
        "### Dataset Loading"
      ],
      "metadata": {
        "id": "3RnN4peoiCZX"
      }
    },
    {
      "cell_type": "code",
      "source": [
        "# Mounting the drive\n",
        "from google.colab import drive\n",
        "drive.mount('/content/drive')"
      ],
      "metadata": {
        "id": "4CkvbW_SlZ_R"
      },
      "execution_count": null,
      "outputs": []
    },
    {
      "cell_type": "code",
      "source": [
        "# Loading the dataset\n",
        "file_path = '/content/drive/MyDrive/Global Terrorism Data (1).csv'\n",
        "gtd_df = pd.read_csv(file_path,encoding='latin-1')"
      ],
      "metadata": {
        "id": "uwWuEcjN0yno"
      },
      "execution_count": null,
      "outputs": []
    },
    {
      "cell_type": "markdown",
      "source": [
        "### Dataset First View"
      ],
      "metadata": {
        "id": "x71ZqKXriCWQ"
      }
    },
    {
      "cell_type": "code",
      "source": [
        "# Dataset First Look\n",
        "gtd_df"
      ],
      "metadata": {
        "id": "LWNFOSvLl09H"
      },
      "execution_count": null,
      "outputs": []
    },
    {
      "cell_type": "code",
      "source": [
        "# Renaming the required columns\n",
        "gtd_df.rename(columns={'eventid':'Event_ID','iyear':'Year','imonth':'Month','iday':'Day','approxdate':'Approx_date','extended':'Extended','country_txt':'Country','region_txt':'Region',\n",
        "                       'city':'City','vicinity':'Vicinity','crit1':'Criteria_1','crit2':'Criteria_2','crit3':'Criteria_3',\n",
        "                       'doubtterr':'Doubtful','alternative_txt':'Alternate','multiple':'Multiple','success':'Success',\n",
        "                       'suicide':'Suicide','attacktype1_txt':'Attack_type','targtype1_txt':'Target_type','gname':'Terrorist_grp',\n",
        "                       'individual':'Individual','weaptype1_txt':'Weapon_type','nkill':'Killed','nwound':'Wounded',\n",
        "                       'property':'Prop_damage','ishostkid':'kidnapped','dbsource':'Db_source',\n",
        "                       'INT_LOG':'Int_logistics','INT_IDEO':'Int_ideological','INT_MISC':'Int_Miscellaneous','related':'Related','claimmode_txt':'Claim_mode'},inplace=True)\n"
      ],
      "metadata": {
        "id": "TlCL3GUa0x6y"
      },
      "execution_count": null,
      "outputs": []
    },
    {
      "cell_type": "code",
      "source": [
        "# Creating the Data Frame with necessary columns for EDA\n",
        "Gtd_df = gtd_df[['Event_ID','Year','Month','Day','Approx_date','Extended','Country','Region','City','Vicinity',\n",
        "                 'Criteria_1','Criteria_2','Criteria_3','Doubtful','Alternate','Multiple','Success','Suicide',\n",
        "                 'Attack_type','Target_type','Terrorist_grp','Individual','Weapon_type','Killed',\n",
        "                 'Wounded','Prop_damage','kidnapped','Db_source','Related','Claim_mode','Int_logistics','Int_ideological','Int_Miscellaneous']]\n",
        "Gtd_df"
      ],
      "metadata": {
        "id": "HqwS1wemGFI8"
      },
      "execution_count": null,
      "outputs": []
    },
    {
      "cell_type": "markdown",
      "source": [
        "### Dataset Rows & Columns count"
      ],
      "metadata": {
        "id": "7hBIi_osiCS2"
      }
    },
    {
      "cell_type": "code",
      "source": [
        "# Rows & Columns count\n",
        "rows = Gtd_df.shape[0]\n",
        "columns = Gtd_df.shape[1]\n",
        "print(f\"Rows - {rows}\\nColumns - {columns}\")"
      ],
      "metadata": {
        "id": "Kllu7SJgmLij"
      },
      "execution_count": null,
      "outputs": []
    },
    {
      "cell_type": "markdown",
      "source": [
        "### Dataset Information"
      ],
      "metadata": {
        "id": "JlHwYmJAmNHm"
      }
    },
    {
      "cell_type": "code",
      "source": [
        "# Dataset Info - displays no.of rows, no.of columns, specific column names, no.of Non-null values for each column, its Datatype\n",
        "Gtd_df.info()"
      ],
      "metadata": {
        "id": "e9hRXRi6meOf"
      },
      "execution_count": null,
      "outputs": []
    },
    {
      "cell_type": "markdown",
      "source": [
        "#### Duplicate Values"
      ],
      "metadata": {
        "id": "35m5QtbWiB9F"
      }
    },
    {
      "cell_type": "code",
      "source": [
        "# Dataset Duplicate Value Count\n",
        "duplicate_count = len(Gtd_df[Gtd_df.duplicated()])\n",
        "print(f\"Duplicate Rows = {duplicate_count}\")"
      ],
      "metadata": {
        "id": "1sLdpKYkmox0"
      },
      "execution_count": null,
      "outputs": []
    },
    {
      "cell_type": "markdown",
      "source": [
        "#### Missing Values/Null Values"
      ],
      "metadata": {
        "id": "PoPl-ycgm1ru"
      }
    },
    {
      "cell_type": "code",
      "source": [
        "# Missing Values/Null Values Count\n",
        "Gtd_df.isnull().sum()"
      ],
      "metadata": {
        "id": "GgHWkxvamxVg"
      },
      "execution_count": null,
      "outputs": []
    },
    {
      "cell_type": "code",
      "source": [
        "# Visualizing the missing values using \"Heatmap\" - columns with missing values\n",
        "sns.heatmap(Gtd_df.isnull(),yticklabels=False,cbar=False,cmap='viridis')\n",
        "plt.show()"
      ],
      "metadata": {
        "id": "3q5wnI3om9sJ"
      },
      "execution_count": null,
      "outputs": []
    },
    {
      "cell_type": "markdown",
      "source": [
        "### What did you know about your dataset?"
      ],
      "metadata": {
        "id": "H0kj-8xxnORC"
      }
    },
    {
      "cell_type": "markdown",
      "source": [
        "1. The Dataset is the **GTD (Global Terrorism Database)** containig the records of **Terrorist Attacks** that took place around the world **since 1970**.\n",
        "2. GTD is maintained by the **National Consortium for the Study of Terrorism\n",
        "and Responses to Terrorism (START)** at the University of Maryland.\n",
        "3. There are **181691 entries/rows** and **135 features/columns** in the dataset.\n",
        "4. The features broadly gives information about:\n",
        "\n",
        "\n",
        "> The **date and location** of the attack, the **criterion** the incident should meet, to get included in the database, **whether** incident is an **act of terrorism** or identifying the most likely **categorization** of the incident other than terrorism.\n",
        "\n",
        "\n",
        "> Was an attack a part of **multiple planned attacks** and which attacks were **related to each other**, is the act **succesfull**, is it a **suicidal attack**, the **type of attack**, type of **weapons** used, type of **target** and their **Nationality** .\n",
        "\n",
        "\n",
        "> Name of **Terrorist groups**, **motive** behind the attack, **no. of perpetrators** involved (individual/group), amongst them no.of them **captured** by the authority, **responsibility claimed** by terrorist group for an attack.\n",
        "\n",
        "\n",
        "> No. of people **killed or wounded**, the **property damaged** during attack, the **monetary value** of the damage occured, no. of **hostages kidnapped**, after how many **hours or days** the hostages were released.\n",
        "\n",
        "\n",
        "> Is the flight **hijacked**, the **alternate destination** it was diverted to. The **ransom amount** demanded. The attack categorised according to the **nationality of the perpetrator, target or location** of incident. At last, the name of the **original data collection team**.\n",
        "\n",
        "5. There are few **Dependent variables** like **region and city** for specific country, **resolution date** where the incident **extended** more than 1 day, **alternative crime** if incident was not terrorism related, no.of **hours or days** the hostages were under kidnap stage, date of hostages **released**, **ransom amount** demanded, **multiple attacks** if **related** to each other. And the rest of the variables are **Independent Variables**.\n",
        "6. I have selected **33 features/columns** and all rows for EDA. There are **6 Numerical** variables and **27 Categorical** Variables. But, in the information above, you can find **15 categorical variables in the form of Numerical format** here by **reflecting as 21 features as int/float datatype and 12 as object datatype**.\n",
        "7. We select only those **features that hold value** for the EDA analysis, care was taken to consider features which had **good amount of data with less null values**, if any **feature was selected** even after having **greater amount of null values**, it is because **I want to show specific trends in the available data that add value to the insights and outcome**.\n",
        "\n",
        "\n",
        "\n",
        "\n",
        "\n",
        "\n",
        "\n",
        "\n",
        "\n"
      ],
      "metadata": {
        "id": "gfoNAAC-nUe_"
      }
    },
    {
      "cell_type": "markdown",
      "source": [
        "## ***2. Understanding Your Variables***"
      ],
      "metadata": {
        "id": "nA9Y7ga8ng1Z"
      }
    },
    {
      "cell_type": "code",
      "source": [
        "# Dataset Columns\n",
        "Gtd_df.columns"
      ],
      "metadata": {
        "id": "j7xfkqrt5Ag5"
      },
      "execution_count": null,
      "outputs": []
    },
    {
      "cell_type": "code",
      "source": [
        "# Dataset Describe\n",
        "Gtd_df.describe()"
      ],
      "metadata": {
        "id": "DnOaZdaE5Q5t"
      },
      "execution_count": null,
      "outputs": []
    },
    {
      "cell_type": "markdown",
      "source": [
        "### Variables Description"
      ],
      "metadata": {
        "id": "PBTbrJXOngz2"
      }
    },
    {
      "cell_type": "markdown",
      "source": [
        "1. **Event_ID** - Each incident has 12-digits. First 8 digits is date(YYYYMMDD). Last 4 numbers is sequential case number for the given day (0001, 0002 etc).\n",
        "2. **Year,Month,Day** - These together indicates the date of incident happened. If the exact month/day of the event is unknown, this is recorded as “0”.\n",
        "3. **Approx_date** - If exact date of incident is unclear, this field records the approximate date of the incident.\n",
        "4. **Extended** - Affirms duration of an incident extended more than 24 hours.\n",
        "5. **Country** -  Identifies the country where the incident occurred.\n",
        "6. **Region** - Region in specific country where incident occured.\n",
        "7. **City** - Name of the city, village, or town in which the incident occurred.\n",
        "8. **Vicinity** - Incident occurred in the immediate vicinity of the city in question or in the city itself.\n",
        "\n",
        "**Inclusion Criteria (Criteria 1, 2 & 3)**- Records which of the inclusion criteria (in addition to the necessary criteria) are met. This allows to filter out those incidents whose inclusion was based on specific criterion to get added into GTD.\n",
        "> 9. **Criteria_1** - Aimed at attaining a political, economic, religious, or social goal.\n",
        "> 10. **Criteria_2** - Intention to coerce, intimidate, or convey some other message to a larger audience than the immediate victims.\n",
        "> 11. **Criteria_3** - The action is outside the context of legitimate warfare activities/ Outside the parameters permitted by international humanitarian law.\n",
        "\n",
        "12. **Doubtfull** - In some ambiguous cases, there is doubt as to whether the incident is an act of terrorism.\n",
        "13. **Alternate** - In case of doubtfull attack, identifies the most likely categorization of the incident other than terrorism.\n",
        "14. **Multiple** - Cases where several attacks are connected, but where the various actions do not constitute a single incident.\n",
        "15. **Success** - Defined according to the tangible effects of the attack. Success is not judged in terms of the larger goals of the perpetrators.\n",
        "16. **Suicide** - The attack where there is evidence that the perpetrator did not intend to escape from the attack alive.\n",
        "17. **Attack_type** - Captures the general method of attack and reflects the broad class of tactics used.\n",
        "18. **Target_type** - When a victim is attacked specifically because of his/her relationship to a prominent figure, the target type reflects that motive.\n",
        "19. **Terrorist_grp** - Name of the group that carried out the attack.\n",
        "20. **Individual** -Attack was carried out by an individual or several individuals not known to be affiliated with a specific terrorist group.\n",
        "21. **Weapon_type** - Weapons used in an attack are recorded.\n",
        "22. **Killed** - No.of total confirmed fatalities for the incident. Includes all victims and attackers who died as a direct result of the incident.\n",
        "23. **Wounded** - No.of confirmed non-fatal injuries to both perpetrators and victims.\n",
        "24. **Prop_damage** - Evidence of property damage from the incident.\n",
        "25. **kidnapped** - The victims were taken hostage or kidnapped.\n",
        "26. **Db_source** - This field identifies the original data collection group.\n",
        "27. **Related** - When an attack is part of a coordinated, multi-part incident, the Event_IDs of the related incidents are listed here.\n",
        "28. **Claim_mode** - Mode of claimants to claim responsibility for attack, is useful to verify authenticity, track trends in behavior.\n",
        "29. **Int_logistics** - Attack is logistically international if Nationality of the perpetrator group differs from the location of the attack.\n",
        "30. **Int_ideological** - Attack is ideologically international if Nationality of perpetrator group differs from the nationality of the target/victim.\n",
        "31. **Int_Miscellaneous** - Attack is Miscellaneous international if location of attack differs from the nationality of the target/victim."
      ],
      "metadata": {
        "id": "aJV4KIxSnxay"
      }
    },
    {
      "cell_type": "markdown",
      "source": [],
      "metadata": {
        "id": "V1IwBt9asEUv"
      }
    },
    {
      "cell_type": "markdown",
      "source": [
        "### Check Unique Values for each variable."
      ],
      "metadata": {
        "id": "u3PMJOP6ngxN"
      }
    },
    {
      "cell_type": "code",
      "source": [
        "# Check Unique No.of Values for each variable.\n",
        "for column in Gtd_df.columns:\n",
        "    num_unique_values = Gtd_df[column].nunique()\n",
        "    print(f\"\\033[1m{column}\\033[0m : {num_unique_values}\")"
      ],
      "metadata": {
        "id": "zms12Yq5n-jE"
      },
      "execution_count": null,
      "outputs": []
    },
    {
      "cell_type": "code",
      "source": [
        "# Unique values(181691) for \"Event ID\"\n",
        "Gtd_df['Event_ID'].unique()"
      ],
      "metadata": {
        "id": "dJ2kqKmM-uaX"
      },
      "execution_count": null,
      "outputs": []
    },
    {
      "cell_type": "code",
      "source": [
        "# Unique values(47) for \"Year\" - 1970 to 2017\n",
        "Gtd_df['Year'].unique()"
      ],
      "metadata": {
        "id": "0vHslkle-uHg"
      },
      "execution_count": null,
      "outputs": []
    },
    {
      "cell_type": "code",
      "source": [
        "# Unique values(13) for \"Month\" - 0 to 12 - (\"0\" - where exact month is unknown)\n",
        "Gtd_df['Month'].unique()"
      ],
      "metadata": {
        "id": "GsjbItsC-uBl"
      },
      "execution_count": null,
      "outputs": []
    },
    {
      "cell_type": "code",
      "source": [
        "# Unique values(32) for \"Day\" - 0 to 31 - (\"0\" - where exact day is unknown)\n",
        "Gtd_df['Day'].unique()"
      ],
      "metadata": {
        "id": "LZa3501V-t8Q"
      },
      "execution_count": null,
      "outputs": []
    },
    {
      "cell_type": "code",
      "source": [
        "# Unique values(2244) for \"Approx_date\" - range of date is given when exact date is not known.\n",
        "Gtd_df['Approx_date'].unique()"
      ],
      "metadata": {
        "id": "ITMOnP74-tx5"
      },
      "execution_count": null,
      "outputs": []
    },
    {
      "cell_type": "code",
      "source": [
        "# Unique values for \"Extended\" : \"1\"- attack incident extended more than 24 hours in a day.\n",
        "Gtd_df['Extended'].unique()"
      ],
      "metadata": {
        "id": "znjpvGDk-tud"
      },
      "execution_count": null,
      "outputs": []
    },
    {
      "cell_type": "code",
      "source": [
        "# Unique values(205) for \"Country\"\n",
        "Gtd_df['Country'].unique()"
      ],
      "metadata": {
        "id": "DJgMUIW_-tqA"
      },
      "execution_count": null,
      "outputs": []
    },
    {
      "cell_type": "code",
      "source": [
        "# Unique values(12) for \"Region\" - dependent on country coded for an incident\n",
        "Gtd_df['Region'].unique()"
      ],
      "metadata": {
        "id": "u4-fOtZX-tdH"
      },
      "execution_count": null,
      "outputs": []
    },
    {
      "cell_type": "code",
      "source": [
        "# Unique values(36674) for \"City\" - If city cannot be identified, it is coded as “Unknown”.\n",
        "Gtd_df['City'].unique()"
      ],
      "metadata": {
        "id": "xYRCuLBI-tYg"
      },
      "execution_count": null,
      "outputs": []
    },
    {
      "cell_type": "code",
      "source": [
        "# Unique values for \"Vicinity\" - \"1\" - incident occured in immediate vicinity of the city\n",
        "                             # - \"0\" - incident occured in city itself\n",
        "                             # - \"-9\" - if unknown\n",
        "Gtd_df['Vicinity'].unique()"
      ],
      "metadata": {
        "id": "fDNTT12M-tVC"
      },
      "execution_count": null,
      "outputs": []
    },
    {
      "cell_type": "code",
      "source": [
        "# Unique values for \"Criteria-1\" - \"1\" - meets criteria of \"POLITICAL, ECONOMIC, RELIGIOUS, OR SOCIAL GOAL\".\n",
        "Gtd_df['Criteria_1'].unique()"
      ],
      "metadata": {
        "id": "ufn83qPY-tFy"
      },
      "execution_count": null,
      "outputs": []
    },
    {
      "cell_type": "code",
      "source": [
        "# Unique values for \"Criteria-2\" - \"1\" - meets criteria of \"INTENTION TO COERCE, INTIMIDATE OR PUBLICIZE TO LARGER AUDIENCE\".\n",
        "Gtd_df['Criteria_2'].unique()"
      ],
      "metadata": {
        "id": "UdsPcQfR-tCb"
      },
      "execution_count": null,
      "outputs": []
    },
    {
      "cell_type": "code",
      "source": [
        "# Unique values for \"Criteria-3\" - \"1\" - meets criteria of \"OUTSIDE INTERNATIONAL HUMANITARIAN LAW\".\n",
        "Gtd_df['Criteria_3'].unique()"
      ],
      "metadata": {
        "id": "3EfH8mAe-s-Q"
      },
      "execution_count": null,
      "outputs": []
    },
    {
      "cell_type": "code",
      "source": [
        "# Unique values for \"Doubtful\" - \"1\" - doubt as to whether the incident is an act of terrorism.\n",
        "                              # \"-9\" - If this variable was not included in the data collection process at the time the case was coded.\n",
        "Gtd_df['Doubtful'].unique()"
      ],
      "metadata": {
        "id": "J4PsLKmh-swB"
      },
      "execution_count": null,
      "outputs": []
    },
    {
      "cell_type": "code",
      "source": [
        "# Unique values(5) for \"Alternate\" - dependent on \"Doubtful\" variable - most likely categorization of the incident other than terrorism.\n",
        "Gtd_df['Alternate'].unique()"
      ],
      "metadata": {
        "id": "Ec3Jfder-ssj"
      },
      "execution_count": null,
      "outputs": []
    },
    {
      "cell_type": "code",
      "source": [
        "# Unique values for \"Multiple\" - Where several attacks are connected\n",
        "                        # \"1\" - The attack is part of a multiple incident.\n",
        "                       # \"nan\" - If the value is unknown.\n",
        "Gtd_df['Multiple'].unique()"
      ],
      "metadata": {
        "id": "OzhVfYqz-sox"
      },
      "execution_count": null,
      "outputs": []
    },
    {
      "cell_type": "code",
      "source": [
        "# Unique values of \"Success\" - \"1\" - succesfull / evidence of tangible effects of the attack.\n",
        "Gtd_df['Success'].unique()"
      ],
      "metadata": {
        "id": "afb4_10O-sWw"
      },
      "execution_count": null,
      "outputs": []
    },
    {
      "cell_type": "code",
      "source": [
        "# Unique values of \"Suicide\" - \"1\" - The incident was a suicide attack.\n",
        "Gtd_df['Suicide'].unique()"
      ],
      "metadata": {
        "id": "WVbA6lJt-sTU"
      },
      "execution_count": null,
      "outputs": []
    },
    {
      "cell_type": "code",
      "source": [
        "# Unique values(9) for \"Attack-type\" - If an attacktype is not listed, coded as \"Unknown\".\n",
        "Gtd_df['Attack_type'].unique()"
      ],
      "metadata": {
        "id": "WocZcmah-sPO"
      },
      "execution_count": null,
      "outputs": []
    },
    {
      "cell_type": "code",
      "source": [
        "# Unique values(22) for \"Target-type\" - If an target type is not listed, coded as \"Unknown\".\n",
        "Gtd_df['Target_type'].unique()"
      ],
      "metadata": {
        "id": "V9D2TFF5-sCb"
      },
      "execution_count": null,
      "outputs": []
    },
    {
      "cell_type": "code",
      "source": [
        "# Unique values(3537) for \"Terrorist group\" - if group is not identified, coded as “Unknown”.\n",
        "Gtd_df['Terrorist_grp'].unique()"
      ],
      "metadata": {
        "id": "-S4DFtu1-r9U"
      },
      "execution_count": null,
      "outputs": []
    },
    {
      "cell_type": "code",
      "source": [
        "# Unique values for \"Individual\" - \"1\" - The perpetrator not known to be affiliated with a group or organization.\n",
        "Gtd_df['Individual'].unique()"
      ],
      "metadata": {
        "id": "SoRGB98J-r52"
      },
      "execution_count": null,
      "outputs": []
    },
    {
      "cell_type": "code",
      "source": [
        "# Unique values(12) for \"Weapon-type\" - (Unknown - if weapon type cannot be determined from the available information).\n",
        "Gtd_df['Weapon_type'].unique()"
      ],
      "metadata": {
        "id": "3Xau6ks7-rl8"
      },
      "execution_count": null,
      "outputs": []
    },
    {
      "cell_type": "code",
      "source": [
        "# Unique values(205) for \"Killed\".\n",
        "Gtd_df['Killed'].unique()"
      ],
      "metadata": {
        "id": "gI0wqa85-rii"
      },
      "execution_count": null,
      "outputs": []
    },
    {
      "cell_type": "code",
      "source": [
        "# Unique values(238) for \"Wounded\".\n",
        "Gtd_df['Wounded'].unique()"
      ],
      "metadata": {
        "id": "YmPauuWh-re-"
      },
      "execution_count": null,
      "outputs": []
    },
    {
      "cell_type": "code",
      "source": [
        "# Unique values for \"Property-damage\" - \"1\" - The incident resulted in property damage.\n",
        "                                     # \"-9\" - Unknown if the incident resulted in property damage.\n",
        "Gtd_df['Prop_damage'].unique()"
      ],
      "metadata": {
        "id": "SH_UcZRa-rRD"
      },
      "execution_count": null,
      "outputs": []
    },
    {
      "cell_type": "code",
      "source": [
        "# Unique values for \"Kidnapped\" - \"1\" - The victims were taken hostage or kidnapped.\n",
        "                               # \"-9\" - Unknown if the victims were taken hostage or kidnapped.\n",
        "Gtd_df['kidnapped'].unique()"
      ],
      "metadata": {
        "id": "fmVsovxz-rNi"
      },
      "execution_count": null,
      "outputs": []
    },
    {
      "cell_type": "code",
      "source": [
        "# Unique values(26) for \"Database-source\" - Original data collection effort team in which each event was recorded.\n",
        "Gtd_df['Db_source'].unique()"
      ],
      "metadata": {
        "id": "2j3Au_bx-rKS"
      },
      "execution_count": null,
      "outputs": []
    },
    {
      "cell_type": "code",
      "source": [
        "# Unique values(14306) for \"Related\" - When an attack is part of a coordinated, multi-part incident.\n",
        "                      # The GTD IDs of the related incidents are listed here, separated by commas.\n",
        "Gtd_df['Related'].unique()"
      ],
      "metadata": {
        "id": "83UifzcP-qYG"
      },
      "execution_count": null,
      "outputs": []
    },
    {
      "cell_type": "code",
      "source": [
        "# Unique values(10) for \"Mode for Claim of Responsibility\" - (Unknown - if claim-mode is not known)\n",
        "Gtd_df['Claim_mode'].unique()"
      ],
      "metadata": {
        "id": "0oGFrnYX-qT3"
      },
      "execution_count": null,
      "outputs": []
    },
    {
      "cell_type": "code",
      "source": [
        "# Unique values for \"International- Logistical\" - \"1\"- The nationality of the perpetrator group differs from the location of the attack.\n",
        "          # \"-9\" - Unknown if the attack was logistically international or domestic; the nationality of the perpetrator group is unknown.\n",
        "Gtd_df['Int_logistics'].unique()"
      ],
      "metadata": {
        "id": "kpUaLE41-qQR"
      },
      "execution_count": null,
      "outputs": []
    },
    {
      "cell_type": "code",
      "source": [
        "# Unique values for \"International- Ideological\" - \"1\" - Nationality of the perpetrator group differs from nationality of target/victim.\n",
        "      # \"-9\" - Unknown if the attack was logistically international or domestic; nationality of perpetrator group/target/victim is unknown.\n",
        "Gtd_df['Int_ideological'].unique()"
      ],
      "metadata": {
        "id": "v_3eZz7G-qNj"
      },
      "execution_count": null,
      "outputs": []
    },
    {
      "cell_type": "code",
      "source": [
        "# Unique values for \"International- Miscellaneous\" - \"1\" - Location of attack differs from nationality of target/victim.\n",
        "      # \"-9\" - Unknown if the attack was miscellaneous international or domestic; nationality of target/victim is unknown.\n",
        "Gtd_df['Int_Miscellaneous'].unique()"
      ],
      "metadata": {
        "id": "GsnI90DP-qK5"
      },
      "execution_count": null,
      "outputs": []
    },
    {
      "cell_type": "markdown",
      "source": [
        "## 3. ***Data Wrangling***"
      ],
      "metadata": {
        "id": "dauF4eBmngu3"
      }
    },
    {
      "cell_type": "markdown",
      "source": [
        "### Data Wrangling Code"
      ],
      "metadata": {
        "id": "bKJF3rekwFvQ"
      }
    },
    {
      "cell_type": "code",
      "source": [
        "# Write your code to make your dataset analysis ready.\n",
        "# Finding the columns with missing values.\n",
        "[(f\"{feature} : {Gtd_df[feature].isnull().sum()}\") for feature in Gtd_df.columns if Gtd_df[feature].isnull().sum()>0]"
      ],
      "metadata": {
        "id": "wk-9a2fpoLcV"
      },
      "execution_count": null,
      "outputs": []
    },
    {
      "cell_type": "code",
      "source": [
        "# Cleaning the \"Approx_date\" column with \"172452\" nan values - *Dependent variable*\n",
        "      # 1. filling nan with \"Not given\" where the day/month is \"0\" as approx date is dependent on day/month variables where exact value is notknown.\n",
        "      # 2. coding all the remaining nan as \"Not Appliable\" (approx date is valid only when exact date is not known)\n",
        "\n",
        "Gtd_df.loc[(Gtd_df['Day'] == 0) | (Gtd_df['Month'] == 0), ['Approx_date']] = Gtd_df['Approx_date'].fillna('Not given')\n",
        "Gtd_df = Gtd_df.copy()\n",
        "Gtd_df['Approx_date'] = Gtd_df['Approx_date'].fillna('Not Applicable')\n",
        "print(f\"No.of null values in Approx_date column is : {Gtd_df['Approx_date'].isnull().sum()}\")"
      ],
      "metadata": {
        "id": "cSX419PsVQ57"
      },
      "execution_count": null,
      "outputs": []
    },
    {
      "cell_type": "code",
      "source": [
        "# Cleaning the \"City\" column with \"434\" nan values\n",
        "Gtd_df.loc[:,'City'].fillna('Not given',inplace=True)\n",
        "print(f\"No.of null values in City column is : {Gtd_df['City'].isnull().sum()}\")"
      ],
      "metadata": {
        "id": "Xpmi4CwvbgI-"
      },
      "execution_count": null,
      "outputs": []
    },
    {
      "cell_type": "code",
      "source": [
        "# Cleaning the \"Doubtful\" column with \"1\" nan value\n",
        "Gtd_df.loc[:,'Doubtful'].fillna(-1,inplace=True)\n",
        "print(f\"No.of null values in Doubtful column is : {Gtd_df['Doubtful'].isnull().sum()}\")"
      ],
      "metadata": {
        "id": "iMzMCiVh7AgG"
      },
      "execution_count": null,
      "outputs": []
    },
    {
      "cell_type": "code",
      "source": [
        "# Cleaning the \"Alternate\" column with \"152680\" nan values\n",
        "Gtd_df.loc[:,'Alternate'].fillna('Not given',inplace=True)\n",
        "print(f\"No.of null values in Alternate column is : {Gtd_df['Alternate'].isnull().sum()}\")"
      ],
      "metadata": {
        "id": "U5aWaxf87Ac3"
      },
      "execution_count": null,
      "outputs": []
    },
    {
      "cell_type": "code",
      "source": [
        "# Cleaning the \"Multiple\" column with \"1\" nan value\n",
        "Gtd_df.loc[:,'Multiple'].fillna(-1,inplace=True)\n",
        "print(f\"No.of null values in Multiple column is : {Gtd_df['Multiple'].isnull().sum()}\")"
      ],
      "metadata": {
        "id": "WWPvjIZp7AaE"
      },
      "execution_count": null,
      "outputs": []
    },
    {
      "cell_type": "code",
      "source": [
        "# Cleaning the \"Killed\" column with \"10313\" nan values\n",
        "Gtd_df.loc[:,'Killed'].fillna(-1,inplace=True)\n",
        "print(f\"No.of null values in Killed column is : {Gtd_df['Killed'].isnull().sum()}\")"
      ],
      "metadata": {
        "id": "tdWzqU2_7AXC"
      },
      "execution_count": null,
      "outputs": []
    },
    {
      "cell_type": "code",
      "source": [
        "# Cleaning the \"Wounded\" column with \"16311\" nan values\n",
        "Gtd_df.loc[:,'Wounded'].fillna(-1,inplace=True)\n",
        "print(f\"No.of null values in Wounded column is : {Gtd_df['Wounded'].isnull().sum()}\")"
      ],
      "metadata": {
        "id": "nVx-M65W7AGW"
      },
      "execution_count": null,
      "outputs": []
    },
    {
      "cell_type": "code",
      "source": [
        "# Cleaning the \"kidnapped\" column with \"178\" nan values\n",
        "Gtd_df.loc[:,'kidnapped'].fillna(-1,inplace=True)\n",
        "print(f\"No.of null values in kidnapped column is : {Gtd_df['kidnapped'].isnull().sum()}\")"
      ],
      "metadata": {
        "id": "rzQS1oQ1HZtF"
      },
      "execution_count": null,
      "outputs": []
    },
    {
      "cell_type": "code",
      "source": [
        "# Cleaning the \"Related\" column with \"156653\" nan values - *Dependent Variable* - dependent on \"Multiple column\".\n",
        "    # For all the positive values under \"Multiple\" column, related incident's Event_IDs are given here, separated by commas.\n",
        "    # remaining nan values are the rows where it is not applicable as those incidents are not part of coordinated, multi-part incident.\n",
        "\n",
        "Gtd_df.loc[:,'Related'].fillna('Not Applicable',inplace=True)\n",
        "print(f\"No.of null values in Related column is : {Gtd_df['Related'].isnull().sum()}\")"
      ],
      "metadata": {
        "id": "pcUSk0TEJLkW"
      },
      "execution_count": null,
      "outputs": []
    },
    {
      "cell_type": "code",
      "source": [
        "# Cleaning the \"Claim_mode\" column with \"162608\" nan values\n",
        "Gtd_df.loc[:,'Claim_mode'].fillna('Not Applicable',inplace=True)\n",
        "print(f\"No.of null values in Claim_mode column is : {Gtd_df['Claim_mode'].isnull().sum()}\")"
      ],
      "metadata": {
        "id": "hMmM-B0LJLaH"
      },
      "execution_count": null,
      "outputs": []
    },
    {
      "cell_type": "code",
      "source": [
        "# Visualizing the missing values using \"Heatmap\" after cleaning the dataset\n",
        "sns.heatmap(Gtd_df.isnull(),cbar=False,cmap='viridis')\n",
        "plt.show()"
      ],
      "metadata": {
        "id": "T4EsqjHBJLO3"
      },
      "execution_count": null,
      "outputs": []
    },
    {
      "cell_type": "code",
      "source": [
        "Gtd_df.info()"
      ],
      "metadata": {
        "id": "KWisuW-gxvtm"
      },
      "execution_count": null,
      "outputs": []
    },
    {
      "cell_type": "code",
      "source": [
        "Gtd_df[['Doubtful','Multiple','Killed','Wounded','kidnapped']] = Gtd_df[['Doubtful','Multiple','Killed','Wounded','kidnapped']].astype(int)"
      ],
      "metadata": {
        "id": "x4DS6st6z05l"
      },
      "execution_count": null,
      "outputs": []
    },
    {
      "cell_type": "code",
      "source": [
        "Gtd_df.info()"
      ],
      "metadata": {
        "id": "3E9m17Hs6WTT"
      },
      "execution_count": null,
      "outputs": []
    },
    {
      "cell_type": "markdown",
      "source": [
        "### What all manipulations have you done and insights you found?"
      ],
      "metadata": {
        "id": "MSa1f5Uengrz"
      }
    },
    {
      "cell_type": "markdown",
      "source": [
        "**Manipulations** :-\n",
        "1. Checked for the columns with null values and listed them out.\n",
        "2. Filled the null values with suitable values.\n",
        "3. In Numerical columns, the null values are replaced with \"-1\" to represent the missing values and to maintain the consistency in the datatype.\n",
        "4. In Categorical columns, null values are replaced with \"Not given\" to represent the missing values and to maintain the consistency in the datatype.\n",
        "5. In Dependent variables, few missing values are replaced with \"Not Applicable\", as dependent variable's values depend on other Independent variables. In many cases, these dependent variables have missing values because variables did not meet a certain condition.\n",
        "6. Visualizing the dataframe to screen for any null values using heapmap.\n",
        "7. Converting the datatypes from float datatype to integer datatype to optimize the memory usage.\n",
        "**Insights** :-\n",
        "1. In visualization of heatmap after Data Wrangling process, it is seen that, null values from all the columns are handled.\n",
        "2. Datatype inconsistencies are handled, now data types are intact.\n",
        "3. The dataframe is ready for analysis in all ways."
      ],
      "metadata": {
        "id": "LbyXE7I1olp8"
      }
    },
    {
      "cell_type": "markdown",
      "source": [
        "## ***4. Data Vizualization, Storytelling & Experimenting with charts : Understand the relationships between variables***"
      ],
      "metadata": {
        "id": "GF8Ens_Soomf"
      }
    },
    {
      "cell_type": "markdown",
      "source": [
        "#### Chart - 1"
      ],
      "metadata": {
        "id": "0wOQAZs5pc--"
      }
    },
    {
      "cell_type": "code",
      "source": [
        "# Visualization of \"Number of Attacks by Year\" - \"BAR GRAPH\"\n",
        "# Counting the number of attacks for each year\n",
        "count_by_year = Gtd_df.groupby('Year')['Year'].count()\n",
        "\n",
        "# Creating a gradient color palette\n",
        "colors = sns.color_palette(\"viridis_r\",len(count_by_year))\n",
        "\n",
        "# plotting the graph\n",
        "plt.figure(figsize=(18, 9))\n",
        "plt.bar(count_by_year.index, count_by_year.values, color=colors)\n",
        "plt.title('Number of Attacks by Year', size=20)\n",
        "plt.xlabel('Year', size=15)\n",
        "plt.ylabel('Number of Attacks', size=15)\n",
        "plt.xticks(count_by_year.index, rotation=45)\n",
        "\n",
        "plt.show()"
      ],
      "metadata": {
        "id": "9BOIpvzaNP5y"
      },
      "execution_count": null,
      "outputs": []
    },
    {
      "cell_type": "markdown",
      "source": [
        "##### 1. Why did you pick the specific chart?"
      ],
      "metadata": {
        "id": "K5QZ13OEpz2H"
      }
    },
    {
      "cell_type": "markdown",
      "source": [
        "The Bar Chart is best suited for comparing the values. As I need to check the No.of Attacks across the Years, I believe it serves the purpose."
      ],
      "metadata": {
        "id": "XESiWehPqBRc"
      }
    },
    {
      "cell_type": "markdown",
      "source": [
        "##### 2. What is/are the insight(s) found from the chart?"
      ],
      "metadata": {
        "id": "lQ7QKXXCp7Bj"
      }
    },
    {
      "cell_type": "markdown",
      "source": [
        "1. The Terrorist Attacks have been exponentially increased from 2012-2017.\n",
        "2. The attacks are highest in 2014, followed by 2015 & 2016.\n",
        "3. The attacks were low during period of 1970 to 1976."
      ],
      "metadata": {
        "id": "C_j1G7yiqdRP"
      }
    },
    {
      "cell_type": "markdown",
      "source": [
        "##### 3. Will the gained insights help creating a positive business impact?\n",
        "Are there any insights that lead to negative growth? Justify with specific reason."
      ],
      "metadata": {
        "id": "448CDAPjqfQr"
      }
    },
    {
      "cell_type": "markdown",
      "source": [
        "1. It can be infered that the no.of attacks were increased in the 21st century.\n",
        "2. It is important to increase the security measures and task force to combat the terrorism effects in the current century."
      ],
      "metadata": {
        "id": "3cspy4FjqxJW"
      }
    },
    {
      "cell_type": "markdown",
      "source": [
        "#### Chart - 2"
      ],
      "metadata": {
        "id": "KSlN3yHqYklG"
      }
    },
    {
      "cell_type": "code",
      "source": [
        "# Visualization of \"Number of Attacks by Month\" - \"BAR GRAPH\"\n",
        "# Calculating the number of attacks for each month and sort by month index\n",
        "count_by_month = Gtd_df['Month'].value_counts().sort_index()\n",
        "max_month = count_by_month.idxmax()\n",
        "\n",
        "# Assigning colors to the bars, with a distinctive color for the month with the maximum number of attacks\n",
        "colors = ['#FF5733' if idx == max_month else '#3366CC' for idx in count_by_month.index]\n",
        "\n",
        "plt.bar(count_by_month.index, count_by_month.values, color=colors)\n",
        "plt.title('Number of Attacks by Month')\n",
        "plt.xlabel('Month')\n",
        "plt.ylabel('Number of Attacks')\n",
        "plt.xticks(count_by_month.index)\n",
        "plt.show()"
      ],
      "metadata": {
        "id": "t5Y4bL2yNf8a"
      },
      "execution_count": null,
      "outputs": []
    },
    {
      "cell_type": "markdown",
      "source": [
        "##### 1. Why did you pick the specific chart?"
      ],
      "metadata": {
        "id": "t6dVpIINYklI"
      }
    },
    {
      "cell_type": "markdown",
      "source": [
        "Bar chart is best choice for comparing the values. I need to compare the No.of Attacks across the months."
      ],
      "metadata": {
        "id": "5aaW0BYyYklI"
      }
    },
    {
      "cell_type": "markdown",
      "source": [
        "##### 2. What is/are the insight(s) found from the chart?"
      ],
      "metadata": {
        "id": "ijmpgYnKYklI"
      }
    },
    {
      "cell_type": "markdown",
      "source": [
        "1. May month has the highest number of attacks.\n",
        "2. July has the next highest attacks after May.\n",
        "3. Comprehensively, all the months have higher attacks."
      ],
      "metadata": {
        "id": "PSx9atu2YklI"
      }
    },
    {
      "cell_type": "markdown",
      "source": [
        "##### 3. Will the gained insights help creating a positive business impact?\n",
        "Are there any insights that lead to negative growth? Justify with specific reason."
      ],
      "metadata": {
        "id": "-JiQyfWJYklI"
      }
    },
    {
      "cell_type": "markdown",
      "source": [
        "1. It is important the governing body of a state should be vigourously prepared to extend the safety measures all over the territory at all times.\n",
        "2. There is no month that, there are less attacks seen."
      ],
      "metadata": {
        "id": "BcBbebzrYklV"
      }
    },
    {
      "cell_type": "markdown",
      "source": [
        "#### Chart - 3"
      ],
      "metadata": {
        "id": "EM7whBJCYoAo"
      }
    },
    {
      "cell_type": "code",
      "source": [
        "# Visualization of \"Number of Attacks by Day\" - \"LINE GRAPH\"\n",
        "# Calculating the number of attacks for each day and sort by day index\n",
        "count_by_day = Gtd_df['Day'].value_counts().sort_index()\n",
        "\n",
        "plt.figure(figsize=(10,5))\n",
        "plt.plot(count_by_day.index, count_by_day.values, marker='o', linestyle='-')\n",
        "plt.grid(True, linestyle='--', alpha=0.7)\n",
        "plt.title('Number of Attacks by day',size=20)\n",
        "plt.xlabel('Day',size=15)\n",
        "plt.ylabel('Number of Attacks',size=15)\n",
        "plt.xticks(count_by_day.index, rotation=45)\n",
        "\n",
        "plt.show()"
      ],
      "metadata": {
        "id": "t6GMdE67YoAp"
      },
      "execution_count": null,
      "outputs": []
    },
    {
      "cell_type": "markdown",
      "source": [
        "##### 1. Why did you pick the specific chart?"
      ],
      "metadata": {
        "id": "fge-S5ZAYoAp"
      }
    },
    {
      "cell_type": "markdown",
      "source": [
        "I need to check the pattern of no.of attacks on each day. To check this trend, line chart is the best choice."
      ],
      "metadata": {
        "id": "5dBItgRVYoAp"
      }
    },
    {
      "cell_type": "markdown",
      "source": [
        "##### 2. What is/are the insight(s) found from the chart?"
      ],
      "metadata": {
        "id": "85gYPyotYoAp"
      }
    },
    {
      "cell_type": "markdown",
      "source": [
        "1. I see that no.of attaks are at highest at the mid of the month i.e 15th and equally high on day 1 of the month.\n",
        "2. Attacks are comparitively less at the month end.\n",
        "3. Day \"0\" is indicated for the events where exact date is not known."
      ],
      "metadata": {
        "id": "4jstXR6OYoAp"
      }
    },
    {
      "cell_type": "markdown",
      "source": [
        "##### 3. Will the gained insights help creating a positive business impact?\n",
        "Are there any insights that lead to negative growth? Justify with specific reason."
      ],
      "metadata": {
        "id": "RoGjAbkUYoAp"
      }
    },
    {
      "cell_type": "markdown",
      "source": [
        "1. The Security or Police Officials must be extra vigilant at the start of month and mid of the month.\n",
        "2. Deploying extra force at areas of importance would be suggested."
      ],
      "metadata": {
        "id": "zfJ8IqMcYoAp"
      }
    },
    {
      "cell_type": "markdown",
      "source": [
        "#### Chart - 4"
      ],
      "metadata": {
        "id": "4Of9eVA-YrdM"
      }
    },
    {
      "cell_type": "code",
      "source": [
        "# Visualizing the events for which Approx Date was recorded rather than exact date - \"COUNT PLOT\"\n",
        "# Defining conditions to categorize the 'Approx_date' column\n",
        "conditions = [\n",
        "    (Gtd_df['Approx_date'] == 'Not Applicable'),\n",
        "    (Gtd_df['Approx_date'] == 'Not given'),\n",
        "    (~Gtd_df['Approx_date'].isin(['Not Applicable', 'Not given']))\n",
        "]\n",
        "\n",
        "# Defining values corresponding to each condition\n",
        "values = [-1, 0, 1]\n",
        "\n",
        "# Using np.select to apply the conditions and values, to update 'Approx_date' column\n",
        "Gtd_df['Approx_date'] = np.select(conditions, values, default=None)\n",
        "\n",
        "# Count the number of attacks for each category\n",
        "count_by_category = Gtd_df['Approx_date'].value_counts()\n",
        "\n",
        "# Define labels for each value\n",
        "labels = {0: 'Not given', 1: 'Approx Date', -1: 'Exact Date'}\n",
        "\n",
        "# Map labels to the index of count_by_category\n",
        "label_values = [labels[val] for val in count_by_category.index]\n",
        "\n",
        "# Define explode to highlight 'Not given' and 'Approx Date' wedges\n",
        "explode = (0.1, 0.2, 0)\n",
        "\n",
        "# Create a pie chart\n",
        "plt.pie(count_by_category, labels=label_values, autopct='%1.1f%%', startangle=360, explode=explode)\n",
        "plt.title('Distribution of Date Categories')\n",
        "plt.show()"
      ],
      "metadata": {
        "id": "3a_wRBGVQ6G4"
      },
      "execution_count": null,
      "outputs": []
    },
    {
      "cell_type": "markdown",
      "source": [
        "##### 1. Why did you pick the specific chart?"
      ],
      "metadata": {
        "id": "iky9q4vBYrdO"
      }
    },
    {
      "cell_type": "markdown",
      "source": [
        "1. To show the proportion of the dataset, where Exact Date was known for the events. For the events where Exact Date is not known, Approximate Date was recorded.\n",
        "2. To visualize those portion of events with Approx Dates from the whole Database, Pie Diagram best suits the purpose."
      ],
      "metadata": {
        "id": "aJRCwT6DYrdO"
      }
    },
    {
      "cell_type": "markdown",
      "source": [
        "##### 2. What is/are the insight(s) found from the chart?"
      ],
      "metadata": {
        "id": "F6T5p64dYrdO"
      }
    },
    {
      "cell_type": "markdown",
      "source": [
        "1. Almost 5.4 percent of the attacks were not recorded with Exact incident Date.\n",
        "2. Amongst the 5.4 percent, 0.3 percent donot have Approx Date either. Rest of the 5.1 percent recorded the Approximate Dates for the Attacks happened.\n",
        "3. 94.6 percent of the Attacks recorded exact incident Date."
      ],
      "metadata": {
        "id": "Xx8WAJvtYrdO"
      }
    },
    {
      "cell_type": "markdown",
      "source": [
        "##### 3. Will the gained insights help creating a positive business impact?\n",
        "Are there any insights that lead to negative growth? Justify with specific reason."
      ],
      "metadata": {
        "id": "y-Ehk30pYrdP"
      }
    },
    {
      "cell_type": "markdown",
      "source": [
        "1. It is important for the Anti-Terror Combating Teams to be recording the Exact incident happenings and reporting it.\n",
        "2. It helps to track the incidents and be cautious accordingly to avoid the future attacks."
      ],
      "metadata": {
        "id": "jLNxxz7MYrdP"
      }
    },
    {
      "cell_type": "markdown",
      "source": [
        "#### Chart - 5"
      ],
      "metadata": {
        "id": "bamQiAODYuh1"
      }
    },
    {
      "cell_type": "code",
      "source": [
        "# To Visualize Events that extended more than 24 hours - \"PIE CHART\"\n",
        "# Counting the number of extended and not extended events\n",
        "extended = Gtd_df['Extended'].value_counts()\n",
        "plt.pie(extended,labels=['Not Extended', 'Extended'], autopct='%1.1f%%', startangle=45, explode=(0, 0.2))\n",
        "plt.title('Events Extended more than 24 hrs')\n",
        "plt.show()"
      ],
      "metadata": {
        "id": "TIJwrbroYuh3"
      },
      "execution_count": null,
      "outputs": []
    },
    {
      "cell_type": "markdown",
      "source": [
        "##### 1. Why did you pick the specific chart?"
      ],
      "metadata": {
        "id": "QHF8YVU7Yuh3"
      }
    },
    {
      "cell_type": "markdown",
      "source": [
        "1. To visualize the portion of GTD, the attacking incidents that extended more than 24 hrs and continued to the next day.\n",
        "2. In order to look at the proportion, Pie chart helps to visualize with clarity."
      ],
      "metadata": {
        "id": "dcxuIMRPYuh3"
      }
    },
    {
      "cell_type": "markdown",
      "source": [
        "##### 2. What is/are the insight(s) found from the chart?"
      ],
      "metadata": {
        "id": "GwzvFGzlYuh3"
      }
    },
    {
      "cell_type": "markdown",
      "source": [
        "1. 4.5 percent of the GTD i.e., almost 8200 Terrorist Attacks lasted more than 24 hours.\n",
        "2. It shows that the Terrorist groups are strong at destroying capabilities."
      ],
      "metadata": {
        "id": "uyqkiB8YYuh3"
      }
    },
    {
      "cell_type": "markdown",
      "source": [
        "##### 3. Will the gained insights help creating a positive business impact?\n",
        "Are there any insights that lead to negative growth? Justify with specific reason."
      ],
      "metadata": {
        "id": "qYpmQ266Yuh3"
      }
    },
    {
      "cell_type": "markdown",
      "source": [
        " It is required that, we strengthen the Police or Security Force to next level by providing good equipment to defend and destroy the longlasting terrorist activities."
      ],
      "metadata": {
        "id": "_WtzZ_hCYuh4"
      }
    },
    {
      "cell_type": "markdown",
      "source": [
        "#### Chart - 6"
      ],
      "metadata": {
        "id": "OH-pJp9IphqM"
      }
    },
    {
      "cell_type": "code",
      "source": [
        "# To Visualize Top 10 Countries with Higher number of Attacks - \"SCATTER PLOT\"\n",
        "# Grouping by country, counting the number of attacks, then selecting the top 10\n",
        "count_by_country=Gtd_df.groupby('Country')['Country'].count().sort_values(ascending=False)[:10]\n",
        "plt.figure(figsize=(10,5))\n",
        "sns.scatterplot(data=count_by_country,x=count_by_country.index,y=count_by_country.values)\n",
        "plt.grid(True, linestyle='--', alpha=0.7)\n",
        "plt.xlabel('Country')\n",
        "plt.ylabel('Count of Attacks')\n",
        "plt.title('Top 10 Countries with Higher number of Attacks')\n",
        "plt.xticks(rotation=90)\n",
        "plt.show()"
      ],
      "metadata": {
        "id": "kuRf4wtuphqN"
      },
      "execution_count": null,
      "outputs": []
    },
    {
      "cell_type": "markdown",
      "source": [
        "##### 1. Why did you pick the specific chart?"
      ],
      "metadata": {
        "id": "bbFf2-_FphqN"
      }
    },
    {
      "cell_type": "markdown",
      "source": [
        "1. I need to compare the Countries with most number of Terrorist Attacks.\n",
        "2. Scatter plot helps to visualize the No.of Attacks for different countries."
      ],
      "metadata": {
        "id": "loh7H2nzphqN"
      }
    },
    {
      "cell_type": "markdown",
      "source": [
        "##### 2. What is/are the insight(s) found from the chart?"
      ],
      "metadata": {
        "id": "_ouA3fa0phqN"
      }
    },
    {
      "cell_type": "markdown",
      "source": [
        "1. Iraq has drastically huge number of Terrorist Attacks near to 25,000 since 1970.\n",
        "2. Followed by Pakistan and Afghanistan with 15,000 and 12,500 terrorist attacks.\n",
        "3. Making it evident from the picture, after the neighbouring countries having faced huge attacks, India is the next country with amounting to 12,500 attacks."
      ],
      "metadata": {
        "id": "VECbqPI7phqN"
      }
    },
    {
      "cell_type": "markdown",
      "source": [
        "##### 3. Will the gained insights help creating a positive business impact?\n",
        "Are there any insights that lead to negative growth? Justify with specific reason."
      ],
      "metadata": {
        "id": "Seke61FWphqN"
      }
    },
    {
      "cell_type": "markdown",
      "source": [
        "1. Iraq, Pakistan and Afghanistan being terrorist attack prone areas.\n",
        "2. These are deadly places are less safe for the individuals to make a livelihood.\n",
        "3. India should get more Security measures to safeguard the country against the growing Terrorism. It is the Fourth most country that is facing Terrorism related attacks."
      ],
      "metadata": {
        "id": "DW4_bGpfphqN"
      }
    },
    {
      "cell_type": "markdown",
      "source": [
        "#### Chart - 7"
      ],
      "metadata": {
        "id": "PIIx-8_IphqN"
      }
    },
    {
      "cell_type": "code",
      "source": [
        "# Visualizing Attacks in specific Regions - \"PIE CHART\"\n",
        "# Group by region and count the number of attacks, then select the top 10\n",
        "count_by_region=Gtd_df.groupby('Region')['Region'].count().sort_values(ascending=False)[:10]\n",
        "plt.pie(count_by_region.values,labels=count_by_region.index,autopct='%1.1f%%')\n",
        "plt.title('Attacks by Region')\n",
        "plt.show()"
      ],
      "metadata": {
        "id": "lqAIGUfyphqO"
      },
      "execution_count": null,
      "outputs": []
    },
    {
      "cell_type": "markdown",
      "source": [
        "##### 1. Why did you pick the specific chart?"
      ],
      "metadata": {
        "id": "t27r6nlMphqO"
      }
    },
    {
      "cell_type": "markdown",
      "source": [
        "To visualize the regions with Terrorist Attacks, pie chart helps to visualize clearly the top 10 regions."
      ],
      "metadata": {
        "id": "iv6ro40sphqO"
      }
    },
    {
      "cell_type": "markdown",
      "source": [
        "##### 2. What is/are the insight(s) found from the chart?"
      ],
      "metadata": {
        "id": "r2jJGEOYphqO"
      }
    },
    {
      "cell_type": "markdown",
      "source": [
        "1. Middle East and North Africa have seen most of the Terrorist Attacks.\n",
        "2. Algeria, Bahrain, Egypt, Iran, Iraq, Israel, Kuwait, Lebanon, Libya, Morocco, Qatar, Saudi Arabia, Syria, Turkey, United Arab Emirates are some of the areas under \"Middle East and North Africa\".\n",
        "3. South Asia and South America are next two regions that are most effected by Terrorism.\n",
        "4. These includes regions like Afghanistan, Bangladesh, India, Pakistan etc. under South Asia and Argentina, Brazil, Chile, Colombia, Ecuador, Paraguay, Peru,  Venezuela  etc. under South America."
      ],
      "metadata": {
        "id": "Po6ZPi4hphqO"
      }
    },
    {
      "cell_type": "markdown",
      "source": [
        "##### 3. Will the gained insights help creating a positive business impact?\n",
        "Are there any insights that lead to negative growth? Justify with specific reason."
      ],
      "metadata": {
        "id": "b0JNsNcRphqO"
      }
    },
    {
      "cell_type": "markdown",
      "source": [
        "1. UAE, Saudi Arabia, Qatar are the areas where many international citizens visit for holidays and stay for the livelihood or job purposes, these are categorized under Middle East and North Africa that are highly prone to Terrorist Attacks.\n",
        "2. Especially Indians move to these places, Indian government can make robust security measures by collaborating with specific countries and enhance the safety for the individuals."
      ],
      "metadata": {
        "id": "xvSq8iUTphqO"
      }
    },
    {
      "cell_type": "markdown",
      "source": [
        "#### Chart - 8"
      ],
      "metadata": {
        "id": "BZR9WyysphqO"
      }
    },
    {
      "cell_type": "code",
      "source": [
        "# Visualizing Cities with Most Attacks - \"DONUT CHART\"\n",
        "# Removing the unknown cities from the column and filteing the dataframe\n",
        "city_df = Gtd_df[Gtd_df['City']!='Unknown']\n",
        "\n",
        "# Counting the number of attacks for each city and select the top 10\n",
        "count_by_city = city_df['City'].value_counts().sort_values(ascending=False)[:10]\n",
        "\n",
        "# Setting the explode values to highlight a specific wedge (e.g., the first one with 0.2)\n",
        "explode = (0.2,0.2,0,0,0,0,0,0,0,0)\n",
        "plt.figure(figsize=(8,8))\n",
        "\n",
        "# Creating a donut pie chart\n",
        "plt.pie(count_by_city, labels=count_by_city.index, autopct='%1.1f%%', startangle=90, wedgeprops=dict(width=0.2), explode=explode)\n",
        "\n",
        "# Drawing a white circle in the center to create the donut effect\n",
        "centre_circle = plt.Circle((0,0),0.70,fc='white')\n",
        "fig = plt.gcf()\n",
        "fig.gca().add_artist(centre_circle)\n",
        "\n",
        "plt.title('Cities with Most Attacks')\n",
        "plt.show()"
      ],
      "metadata": {
        "id": "TdPTWpAVphqO"
      },
      "execution_count": null,
      "outputs": []
    },
    {
      "cell_type": "markdown",
      "source": [
        "##### 1. Why did you pick the specific chart?"
      ],
      "metadata": {
        "id": "jj7wYXLtphqO"
      }
    },
    {
      "cell_type": "markdown",
      "source": [
        "I need to demarcate the Cities with most Terrorist Attacks. By using a Donut Chart I can clearly make the details visualize as above."
      ],
      "metadata": {
        "id": "Ob8u6rCTphqO"
      }
    },
    {
      "cell_type": "markdown",
      "source": [
        "##### 2. What is/are the insight(s) found from the chart?"
      ],
      "metadata": {
        "id": "eZrbJ2SmphqO"
      }
    },
    {
      "cell_type": "markdown",
      "source": [
        "Baghdad had highest incidents of Terrorism, followed by Karachi and Lima.\n"
      ],
      "metadata": {
        "id": "mZtgC_hjphqO"
      }
    },
    {
      "cell_type": "markdown",
      "source": [
        "##### 3. Will the gained insights help creating a positive business impact?\n",
        "Are there any insights that lead to negative growth? Justify with specific reason."
      ],
      "metadata": {
        "id": "rFu4xreNphqO"
      }
    },
    {
      "cell_type": "markdown",
      "source": [
        "1. Baghdad, the capital city of Iraq is very much prone to Terrorist Attacks. It is less likely suitable for the International citizens to create any livelihood or holiday trips.\n",
        "2. Couter Terrorism Activities should be initiated by the International Authorities at these areas."
      ],
      "metadata": {
        "id": "ey_0qi68phqO"
      }
    },
    {
      "cell_type": "markdown",
      "source": [
        "#### Chart - 9"
      ],
      "metadata": {
        "id": "YJ55k-q6phqO"
      }
    },
    {
      "cell_type": "code",
      "source": [
        "# Visualizing the attacks happend inside City or Vicinity/Surroundings of City\n",
        "# Filtering the DataFrame to include only rows where 'Vicinity' is 0 or 1\n",
        "filtered_df_vicinity = Gtd_df[(Gtd_df['Vicinity']==0) | (Gtd_df['Vicinity']==1)]\n",
        "\n",
        "# Creating a count plot using seaborn\n",
        "sns.countplot(x='Vicinity', data=filtered_df_vicinity)\n",
        "plt.title('Attacks Inside City or Vicinity',size=15)\n",
        "plt.xlabel('Location',size=12)\n",
        "plt.ylabel('Count of Attacks',size=12)\n",
        "plt.xticks([0,1],['Inside City','City Surroundings'])\n",
        "plt.show()"
      ],
      "metadata": {
        "id": "B2aS4O1ophqO"
      },
      "execution_count": null,
      "outputs": []
    },
    {
      "cell_type": "markdown",
      "source": [
        "##### 1. Why did you pick the specific chart?"
      ],
      "metadata": {
        "id": "gCFgpxoyphqP"
      }
    },
    {
      "cell_type": "markdown",
      "source": [
        "To compare the no.of attacks took place either in the city or the surroundings of the city. Bar Chart helps the purpose."
      ],
      "metadata": {
        "id": "TVxDimi2phqP"
      }
    },
    {
      "cell_type": "markdown",
      "source": [
        "##### 2. What is/are the insight(s) found from the chart?"
      ],
      "metadata": {
        "id": "OVtJsKN_phqQ"
      }
    },
    {
      "cell_type": "markdown",
      "source": [
        "1. The Terrorist activities are held mostly within the city, it pertains to nearly 1,70,000 attacks.\n",
        "2. The incidents took place in the surroundings of the city amounts to less than 15,000 attacks."
      ],
      "metadata": {
        "id": "ngGi97qjphqQ"
      }
    },
    {
      "cell_type": "markdown",
      "source": [
        "##### 3. Will the gained insights help creating a positive business impact?\n",
        "Are there any insights that lead to negative growth? Justify with specific reason."
      ],
      "metadata": {
        "id": "lssrdh5qphqQ"
      }
    },
    {
      "cell_type": "markdown",
      "source": [
        "1. It can be infered that the security measures are insufficient in the city centres as there are many attacks in such places.\n",
        "2. Deploying extra force at the city centres can enhance safety for the public living within the city."
      ],
      "metadata": {
        "id": "tBpY5ekJphqQ"
      }
    },
    {
      "cell_type": "markdown",
      "source": [
        "#### Chart - 10"
      ],
      "metadata": {
        "id": "U2RJ9gkRphqQ"
      }
    },
    {
      "cell_type": "code",
      "source": [
        "# Visualizing the attacks categorised according to fulfilment of Criteria - \"BAR PLOTS\"\n",
        "# Creating subplots\n",
        "fig, axes = plt.subplots(nrows=1, ncols=3, figsize=(15, 5), sharey=True)\n",
        "\n",
        "# Plot for Criteria_1 (political, economic, religious, or social goal)\n",
        "Gtd_df['Criteria_1'].value_counts().plot(kind='bar', ax=axes[0], color=['orange', 'skyblue'])\n",
        "axes[0].set_title('Political/Economic/Religious/Social Goal')\n",
        "\n",
        "# Plot for Criteria_2 (coerce, intimidate, or convey message to a larger audience than the immediate victims)\n",
        "Gtd_df['Criteria_2'].value_counts().plot(kind='bar', ax=axes[1], color=['orange', 'skyblue'])\n",
        "axes[1].set_title('Coerce/Intimidate/Publicize to Larger Audience')\n",
        "\n",
        "# Plot for Criteria_3 (outside the context of legitimate warfare activities)\n",
        "Gtd_df['Criteria_3'].value_counts().plot(kind='bar', ax=axes[2], color=['orange', 'skyblue'])\n",
        "axes[2].set_title('Outside International Humanitarian Law')\n",
        "\n",
        "# Set common x and y axis labels\n",
        "fig.text(0.5, 0.04, 'Following Criteria', ha='center', va='center', fontsize=12)\n",
        "fig.text(0.06, 0.5, 'Attack Count', ha='center', va='center', rotation='vertical', fontsize=12)\n",
        "\n",
        "plt.show()"
      ],
      "metadata": {
        "id": "GM7a4YP4phqQ"
      },
      "execution_count": null,
      "outputs": []
    },
    {
      "cell_type": "markdown",
      "source": [
        "##### 1. Why did you pick the specific chart?"
      ],
      "metadata": {
        "id": "1M8mcRywphqQ"
      }
    },
    {
      "cell_type": "markdown",
      "source": [
        "To compare the number of Terrorist Activities that are fulfilling each of the criteria to be included into the Terrorism database. Bar Charts are best visualizations for the said work."
      ],
      "metadata": {
        "id": "8agQvks0phqQ"
      }
    },
    {
      "cell_type": "markdown",
      "source": [
        "##### 2. What is/are the insight(s) found from the chart?"
      ],
      "metadata": {
        "id": "tgIPom80phqQ"
      }
    },
    {
      "cell_type": "markdown",
      "source": [
        "1. Nearly 1,80,000 attacks are targeted towards political, economic, religious, or social goal.\n",
        "2. More than 1,80,000 attacks are to intimidate or convey message to a larger audience than the immediate victims.\n",
        "3. Nearly 1,60,000 attacks were againt the International Humanitarian Law."
      ],
      "metadata": {
        "id": "Qp13pnNzphqQ"
      }
    },
    {
      "cell_type": "markdown",
      "source": [
        "##### 3. Will the gained insights help creating a positive business impact?\n",
        "Are there any insights that lead to negative growth? Justify with specific reason."
      ],
      "metadata": {
        "id": "JMzcOPDDphqR"
      }
    },
    {
      "cell_type": "markdown",
      "source": [
        "1. Large number of innocent people were the victims of Terrorist activities to either achieving a political goal or conveying message to the larger audience.\n",
        "2. The Authorities should initiate strict actions and punish the Perpetrators for harming the innocent people.\n",
        "3. For the activities against the Humanitarian law, should be severely punished as it targets non-combatants."
      ],
      "metadata": {
        "id": "R4Ka1PC2phqR"
      }
    },
    {
      "cell_type": "markdown",
      "source": [
        "#### Chart - 11"
      ],
      "metadata": {
        "id": "x-EpHcCOp1ci"
      }
    },
    {
      "cell_type": "code",
      "source": [
        "# Visualizing Doubtful Attacks and their Most likely Crime Type other than Terrorism\n",
        "filtered_df_Doubtful = Gtd_df[(Gtd_df['Doubtful']==0) | (Gtd_df['Doubtful']==1)]\n",
        "filtered_df_Alternate = Gtd_df[(Gtd_df['Alternate']!='Not given')]\n",
        "\n",
        "# Creating subplots with two columns\n",
        "fig, axes = plt.subplots(nrows=1, ncols=2, figsize=(15, 5))\n",
        "\n",
        "# Plot for Doubtful Attacks\n",
        "sns.countplot(x='Doubtful', data=filtered_df_Doubtful, ax=axes[0], palette=['orange', 'skyblue'])\n",
        "axes[0].set_title('Doubtful Attacks')\n",
        "axes[0].set_xlabel('Doubtful')\n",
        "axes[0].set_ylabel('Count')\n",
        "axes[0].set_xticks([0,1],['Terrorism','Doubtful'])\n",
        "\n",
        "# Plot for Most Likely Crime Types other than Terrorism\n",
        "crime_type_counts = filtered_df_Alternate['Alternate'].value_counts()\n",
        "crime_type_counts.plot(kind='bar', ax=axes[1], color='skyblue')\n",
        "axes[1].set_title('Most Likely Crime Types (Other than Terrorism)')\n",
        "axes[1].set_xlabel('Crime Type')\n",
        "axes[1].set_ylabel('Count')\n",
        "\n",
        "# Rotating x-axis labels for better readability in the second plot\n",
        "axes[1].tick_params(axis='x', rotation=45)\n",
        "\n",
        "plt.show()"
      ],
      "metadata": {
        "id": "mAQTIvtqp1cj"
      },
      "execution_count": null,
      "outputs": []
    },
    {
      "cell_type": "markdown",
      "source": [
        "##### 1. Why did you pick the specific chart?"
      ],
      "metadata": {
        "id": "X_VqEhTip1ck"
      }
    },
    {
      "cell_type": "markdown",
      "source": [
        "1. To visualize the number of attacks that are purely terrorist related or other crime related. And, to visualize the different crimes recorded other than Terrorism.\n",
        "2. Bar chart helps to compare the attacks under different categories."
      ],
      "metadata": {
        "id": "-vsMzt_np1ck"
      }
    },
    {
      "cell_type": "markdown",
      "source": [
        "##### 2. What is/are the insight(s) found from the chart?"
      ],
      "metadata": {
        "id": "8zGJKyg5p1ck"
      }
    },
    {
      "cell_type": "markdown",
      "source": [
        "1. Nearly 1,40,000 attacks were purely Terrorist attacks.\n",
        "2. More than 30,000 attacks were related to other crimes.\n",
        "3. Amongst other crimes, most of them i.e., 25,000 attacks related to Insurgency and Guerilla actions."
      ],
      "metadata": {
        "id": "ZYdMsrqVp1ck"
      }
    },
    {
      "cell_type": "markdown",
      "source": [
        "##### 3. Will the gained insights help creating a positive business impact?\n",
        "Are there any insights that lead to negative growth? Justify with specific reason."
      ],
      "metadata": {
        "id": "PVzmfK_Ep1ck"
      }
    },
    {
      "cell_type": "markdown",
      "source": [
        "Larger portion of the attacks related to Terrorism, counterfeit the terrorism action by blocking their ways could be helpfull."
      ],
      "metadata": {
        "id": "druuKYZpp1ck"
      }
    },
    {
      "cell_type": "markdown",
      "source": [
        "#### Chart - 12"
      ],
      "metadata": {
        "id": "n3dbpmDWp1ck"
      }
    },
    {
      "cell_type": "code",
      "source": [
        "# Visualizing the Attacks that are part of Multiple Planned Events, events that are Related to One Another. - \"COUNT PLOT\"\n",
        "\n",
        "# Filtering the DataFrame to include only rows where 'Multiple' is 0 or 1\n",
        "filtered_df_multiple=Gtd_df[(Gtd_df['Multiple']==0) | (Gtd_df['Multiple']==1)]\n",
        "\n",
        "# Create a binary variable indicating whether attacks are related or not\n",
        "filtered_df_related=np.where(Gtd_df['Related'] == 'Not Applicable', 0, 1)\n",
        "\n",
        "# Creating subplots with two columns\n",
        "fig, axes = plt.subplots(nrows=1, ncols=2, figsize=(15, 5))\n",
        "\n",
        "# Plot for Attacks that are part of Multiple Planned Events\n",
        "sns.countplot(x='Multiple', data=filtered_df_multiple, ax=axes[0], palette=['skyblue', 'orange'])\n",
        "axes[0].set_title('Attacks Part of Multiple Planned Events')\n",
        "axes[0].set_xlabel('Multiple')\n",
        "axes[0].set_ylabel('Count')\n",
        "axes[0].set_xticks([0, 1],['Not Part of Multiple', 'Part of Multiple'])\n",
        "\n",
        "\n",
        "# Plot for Attacks Related to One Another\n",
        "sns.countplot(x=filtered_df_related, ax=axes[1], palette=['skyblue', 'orange'])\n",
        "axes[1].set_title('Attacks Related to One Another')\n",
        "axes[1].set_xlabel('Related')\n",
        "axes[1].set_ylabel('Count')\n",
        "axes[1].set_xticks([0, 1],['Not Related', 'Related'])\n",
        "\n",
        "plt.show()"
      ],
      "metadata": {
        "id": "bwevp1tKp1ck"
      },
      "execution_count": null,
      "outputs": []
    },
    {
      "cell_type": "markdown",
      "source": [
        "##### 1. Why did you pick the specific chart?"
      ],
      "metadata": {
        "id": "ylSl6qgtp1ck"
      }
    },
    {
      "cell_type": "markdown",
      "source": [
        "In order to visualize the attacks that are part of multiple planned coordinated attacks, and to check what portion of attacks are related to other attacks, here bar chart serves the purpose with clear visibility."
      ],
      "metadata": {
        "id": "m2xqNkiQp1ck"
      }
    },
    {
      "cell_type": "markdown",
      "source": [
        "##### 2. What is/are the insight(s) found from the chart?"
      ],
      "metadata": {
        "id": "ZWILFDl5p1ck"
      }
    },
    {
      "cell_type": "markdown",
      "source": [
        "1. Nearly 22,000 attacks are connected, each of these attack is connected with other attacks.\n",
        "2. The attacks that are connected with each of the above attacks can be seen under \"related\" feature.\n",
        "3. And so, we can identify that 22,000 attacks listed above are having related and connected attacks. Let's view the features side by side as below."
      ],
      "metadata": {
        "id": "x-lUsV2mp1ck"
      }
    },
    {
      "cell_type": "code",
      "source": [
        "Gtd_df_filtered = Gtd_df[(Gtd_df['Multiple']==1) & (Gtd_df['Related']!='Not Applicable')]\n",
        "Gtd_df_filtered[['Event_ID','Multiple','Related','Success','Attack_type','Target_type']].head(10)"
      ],
      "metadata": {
        "id": "HGYwALkV4Jt-"
      },
      "execution_count": null,
      "outputs": []
    },
    {
      "cell_type": "markdown",
      "source": [
        "##### 3. Will the gained insights help creating a positive business impact?\n",
        "Are there any insights that lead to negative growth? Justify with specific reason."
      ],
      "metadata": {
        "id": "M7G43BXep1ck"
      }
    },
    {
      "cell_type": "markdown",
      "source": [
        "1. As seen, atleast 22,000 attacks were preplanned and coordinated to be executed at a time at different places.\n",
        "2. Those Terrorist activities used Bombing/Explosion and against Infrastructure, ultimately targeting the Business.\n",
        "3. It can be infered that these are for monetary hijacks aiming to receive huge ransom amounts.\n",
        "4. Chemicals used for Bombs or Explosives manfacturing must be inspected and their buying partners should be scrutinised to avoid Terrorism Financing."
      ],
      "metadata": {
        "id": "5wwDJXsLp1cl"
      }
    },
    {
      "cell_type": "markdown",
      "source": [
        "#### Chart - 13"
      ],
      "metadata": {
        "id": "Ag9LCva-p1cl"
      }
    },
    {
      "cell_type": "code",
      "source": [
        "# Visualizing the Succesfull Attacks, Suicidal Attacks, Attacked by Independent Individuals/Terrorist Groups - \"BAR, PIE, HORIZONTAL BAR CHARTS\"\n",
        "# Counting the attacks for successful, suicidal, individual\n",
        "success_count=Gtd_df['Success'].value_counts()\n",
        "suicide_count=Gtd_df['Suicide'].value_counts()\n",
        "individual_count=Gtd_df['Individual'].value_counts()\n",
        "\n",
        "# Plotting\n",
        "fig, axes = plt.subplots(1, 3, figsize=(15, 5))\n",
        "\n",
        "# Bar Chart for Successful Attacks\n",
        "axes[0].bar(success_count.index, success_count.values, color=['orange', 'skyblue'])\n",
        "axes[0].set_title('Successful Attacks')\n",
        "axes[0].set_xticks([0, 1], ['Failed', 'Successful'])\n",
        "\n",
        "# Pie Chart for Suicidal Attacks\n",
        "axes[1].pie(suicide_count.values, autopct='%1.1f%%', colors=['skyblue', 'orange'],labels=['Not Suicidal','Suicidal'])\n",
        "axes[1].set_title('Suicidal Attacks')\n",
        "\n",
        "# Horizontal Bar Chart for Attacks by Individuals\n",
        "axes[2].bar(individual_count.index, individual_count.values, color=['orange', 'skyblue'])\n",
        "axes[2].set_title('Attacks by Individuals')\n",
        "axes[2].set_xticks([0, 1],['Terrorist Groups', 'Independent Individuals'])\n",
        "\n",
        "# Adjusting layout for better spacing\n",
        "plt.tight_layout()\n",
        "\n",
        "plt.show()"
      ],
      "metadata": {
        "id": "EUfxeq9-p1cl"
      },
      "execution_count": null,
      "outputs": []
    },
    {
      "cell_type": "markdown",
      "source": [
        "##### 1. Why did you pick the specific chart?"
      ],
      "metadata": {
        "id": "E6MkPsBcp1cl"
      }
    },
    {
      "cell_type": "markdown",
      "source": [
        "1. To view the attacks that are succesfully accomplished (tangible effects seen) or not - Bar graph helps to view clearly.\n",
        "2. To see the proportion of attacks that are suicidal attacks - Pie Chart best suits the purpose.\n",
        "3. Visualizing the attacks carried out by sole independent individuals or by the well known Terrorist groups - Bar graph is best choice."
      ],
      "metadata": {
        "id": "V22bRsFWp1cl"
      }
    },
    {
      "cell_type": "markdown",
      "source": [
        "##### 2. What is/are the insight(s) found from the chart?"
      ],
      "metadata": {
        "id": "2cELzS2fp1cl"
      }
    },
    {
      "cell_type": "markdown",
      "source": [
        "1. About 20,000 attacks were failed or the incident was not successful i.e., no tangible effects seen.\n",
        "2. More than 1,60,000 incidents were succesfull and the destroying effects are visible.\n",
        "3. It is seen that about 3.7 percent of the total attacks were suicidal attacks. There is evidence that the perpetrator did not intend to escape from the attack alive.\n",
        "4. About, 0.3 percent or 537 attacks were carried out by Individuals not known to be affiliated with a Terrorist group or Organization.\n",
        "5. Nearly 1,80,000 attacks were carried out by Terrorist groups."
      ],
      "metadata": {
        "id": "ozQPc2_Ip1cl"
      }
    },
    {
      "cell_type": "markdown",
      "source": [
        "##### 3. Will the gained insights help creating a positive business impact?\n",
        "Are there any insights that lead to negative growth? Justify with specific reason."
      ],
      "metadata": {
        "id": "3MPXvC8up1cl"
      }
    },
    {
      "cell_type": "markdown",
      "source": [
        "1. In most cases tangible effects are seen, Counterfeit the Terrorism Financing so as to bring down the terrorist activities.\n",
        "2. About 3.7 % i.e., 6634 attacks were suicidal attacks, itself declares that terrorist individuals are thoroughly brain washed to attempt suicide while attacking for no good.\n",
        "3. These people are mentally vulnerable to the affairs of strong modulations by the terrorist groups.\n",
        "4. People at the very young age should have gone with Cognitive Behavioural Therapy or consulting Psychologist for the better mental health and making the individuals aware about the social affairs to safeguard themselves from being vulnerable.\n",
        "5. Most of the attacks are carried by Terrorist groups, tracing out the activities and regular screening for the terror groups should be highly vigilant."
      ],
      "metadata": {
        "id": "GL8l1tdLp1cl"
      }
    },
    {
      "cell_type": "markdown",
      "source": [
        "#### Chart - 14"
      ],
      "metadata": {
        "id": "Pw84niZ88d4X"
      }
    },
    {
      "cell_type": "code",
      "source": [
        "# Visualizing the AttackType, TargetType - \"PIE, DONUT CHART\"\n",
        "# Filtering out unknown attack types and target types, then grouping and counting the top 5\n",
        "attacktype=Gtd_df[Gtd_df['Attack_type']!='Unknown'].groupby('Attack_type')['Attack_type'].count().sort_values(ascending=False)[:5]\n",
        "targettype=Gtd_df[Gtd_df['Target_type']!='Unknown'].groupby('Target_type')['Target_type'].count().sort_values(ascending=False)[:5]\n",
        "\n",
        "# Creating Subplots\n",
        "fig, axes = plt.subplots(1, 2, figsize=(18, 6))\n",
        "\n",
        "# Pie Chart for Attack Types\n",
        "axes[0].pie(attacktype, labels=attacktype.index, autopct='%1.1f%%', startangle=90)\n",
        "axes[0].set_title('Attack Types',size=20)\n",
        "\n",
        "# Donut Chart for Target Types\n",
        "axes[1].pie(targettype, labels=targettype.index, autopct='%1.1f%%', startangle=90, wedgeprops=dict(width=0.3))\n",
        "axes[1].set_title('Target Types',size=20)\n",
        "\n",
        "plt.tight_layout()\n",
        "plt.show()"
      ],
      "metadata": {
        "id": "k8Weh8Vg7zw6"
      },
      "execution_count": null,
      "outputs": []
    },
    {
      "cell_type": "markdown",
      "source": [
        "### Observations:\n",
        "1. Majority of the terrorist attacks involved Bombing/Explosions for attacking.\n",
        "2. Followed by Armed Assault, Assassination and Hostage taking/kidnapping the victims.\n",
        "3. Private citizens/property are targeted at the highest, followed by Military, Polic and the Government.\n",
        "### Suggestions:\n",
        "1. The chemical factories involving the supply for the manufacturing of Bombing/Explosions should be identified and shut down to stop supply to terrorism activities.\n",
        "2. Control, Security, Safety measures to be improved for the Properties, Military and Police etc."
      ],
      "metadata": {
        "id": "arH9qVa9ZkVp"
      }
    },
    {
      "cell_type": "markdown",
      "source": [
        "#### Chart 15"
      ],
      "metadata": {
        "id": "qHjAZCVeIgkx"
      }
    },
    {
      "cell_type": "code",
      "source": [
        "# Visualizing the Weapon_type used in different years - \"VIOLIN PLOT\"\n",
        "# Filter out unknown weapon types and sample a subset for visualization\n",
        "subset_weapontype = Gtd_df[Gtd_df['Weapon_type'] != 'Unknown'].groupby('Weapon_type')['Year'].apply(lambda x: x.sample(min(500, len(x)))).reset_index()\n",
        "\n",
        "# Creating a Violin Plot\n",
        "plt.figure(figsize=(12, 8))\n",
        "sns.violinplot(x='Year', y='Weapon_type', data=subset_weapontype, palette='viridis', inner='quartile')\n",
        "plt.title('Violin Plot of Weapon Types Over the Years')\n",
        "plt.xlabel('Year')\n",
        "plt.ylabel('Weapon Type')\n",
        "plt.show()"
      ],
      "metadata": {
        "id": "By7wpj6H7zpZ"
      },
      "execution_count": null,
      "outputs": []
    },
    {
      "cell_type": "markdown",
      "source": [
        "### Observations\n",
        "1. Biological weapons whose components produced from toxic substances of biological origins mostly used during 1995 to 2005. But, normally used by terrorist during late 1970's till present.\n",
        "2. Explosives were mostly used as weapons during 2010 to 2020.\n",
        "3. Radiological weapons mostly used during 1995 to 2005.\n",
        "4. Explosives, Firearms, Vehicle borne bombs, Sabotage equipment, harmful chemicals are broadly used as weapon types in the recent times.\n",
        "### Suggestions\n",
        "1. Explosives, Harmful chemicals, Radiological preparations are to be banned for the production in the private sector.\n",
        "2. Full Authority should be held by the Government to curb these objects being used as weapons by terrorists.\n"
      ],
      "metadata": {
        "id": "MCckksBsiR2R"
      }
    },
    {
      "cell_type": "markdown",
      "source": [
        "#### Chart 16"
      ],
      "metadata": {
        "id": "Cq4DaTgQVFZu"
      }
    },
    {
      "cell_type": "code",
      "source": [
        "# Visualizing the most Active Terrorist Groups - \"HORIZONTAL BAR CHART\"\n",
        "# Filtering out unknown terrorist groups and count the attacks for the top 10 groups\n",
        "terrorist=Gtd_df[Gtd_df['Terrorist_grp']!='Unknown'].groupby('Terrorist_grp')['Terrorist_grp'].count().sort_values(ascending=False)[:10]\n",
        "# Creating a horizontal bar chart\n",
        "plt.figure(figsize=(12, 8))\n",
        "sns.barplot(x=terrorist.values, y=terrorist.index, palette='viridis')\n",
        "plt.title('Top 10 Most Active Terrorist Groups')\n",
        "plt.xlabel('Number of Attacks')\n",
        "plt.ylabel('Terrorist Group')\n",
        "plt.show()"
      ],
      "metadata": {
        "id": "lt0TGi9y7xJ_"
      },
      "execution_count": null,
      "outputs": []
    },
    {
      "cell_type": "markdown",
      "source": [
        "### Observations\n",
        "1. Taliban Terrosism Activities are on the highest levels of about 7000 attacks.\n",
        "2. Followed by Islamic State of Iraq and the Levant (ISIL) and Shining Path (SL) with next most terrorist activities with 5500 and 4500 attacks done respectively.\n",
        "### Suggestions\n",
        "1. These are the most common active Terrorist groups identified to be reiteratively performing attacks for many years.\n",
        "2. High grade vigilance should be sought over these vigorously active groups to help mitigate the attacks by these groups in the future."
      ],
      "metadata": {
        "id": "bwzF_bNpnVy2"
      }
    },
    {
      "cell_type": "markdown",
      "source": [
        "#### Chart 17"
      ],
      "metadata": {
        "id": "WvqNWejqVJwU"
      }
    },
    {
      "cell_type": "code",
      "source": [
        "# Visualizing the Victims and Perpetrators killed during Attacks done by Active Terrorist Groups - \"BAR CHART\"\n",
        "# Filter out rows with unknown terrorist groups and where the number of killed is -1\n",
        "filtered = Gtd_df[(Gtd_df['Killed'] != -1) & (Gtd_df['Terrorist_grp'] != 'Unknown')]\n",
        "\n",
        "# Grouping by each Terrorist_grp and calculating the no.of total killed\n",
        "terrorist_groups = filtered.groupby('Terrorist_grp')['Killed'].sum().sort_values(ascending=False)[:10]\n",
        "\n",
        "# Identifying the highest value for coloring\n",
        "max_value = terrorist_groups.max()\n",
        "\n",
        "# Creating a list of colors for each bar, highlighting the bar with the highest value\n",
        "colors = ['orange' if value == max_value else 'skyblue' for value in terrorist_groups.values]\n",
        "\n",
        "# Creating a bar chart with colored bars\n",
        "plt.figure(figsize=(12, 8))\n",
        "bars = plt.bar(terrorist_groups.index, terrorist_groups.values, color=colors)\n",
        "plt.title('Top 10 Most Active Terrorist Groups and Total Number of People Killed')\n",
        "plt.xlabel('Terrorist Group')\n",
        "plt.ylabel('Total Number of People Killed')\n",
        "plt.xticks(rotation=45, ha='right')\n",
        "\n",
        "# Adding a legend for the highlighted bar\n",
        "plt.legend([bars[colors.index('orange')]], ['Highest Value'], loc='upper right')\n",
        "\n",
        "plt.show()"
      ],
      "metadata": {
        "id": "SUAasgTZU1zF"
      },
      "execution_count": null,
      "outputs": []
    },
    {
      "cell_type": "markdown",
      "source": [
        "### Observations\n",
        "1. Islamic State of Iraq and the Levant (ISIL) Terrorist group attacks have resulted in death of about 39,000 people including victims and perpetrators themselves. The death count due to the Terrorist attacks is highest here.\n",
        "2. Followed by Taliban group attacks resulted in almost 30,000 deaths, Boko Haram group attacks with 20,000 deaths.\n",
        "### Suggestions\n",
        "Most of the victims were killed due to the attacks of ISIL, Taliban and Boko Haram groups, this itself shows stopping these deadly groups alone could save lakhs of innocent lifes."
      ],
      "metadata": {
        "id": "hwoxEmgw1X5F"
      }
    },
    {
      "cell_type": "markdown",
      "source": [
        "#### Chart 18"
      ],
      "metadata": {
        "id": "55v7UsiPXz_m"
      }
    },
    {
      "cell_type": "code",
      "source": [
        "# Visuaizing the relation between No.of people Wounded during usage of different Attacking Modes - \"HORIZONTAL BAR CHART\"\n",
        "# Filtering the data to include only rows where wounded count is not -1 and attack type is known\n",
        "filtered_w = Gtd_df[(Gtd_df['Wounded']!=-1)&(Gtd_df['Attack_type']!='Unknown')]\n",
        "\n",
        "# Grouping by attack type and calculating the sum of wounded people for each type\n",
        "attack_types = filtered_w.groupby('Attack_type')['Wounded'].sum().sort_values(ascending=False)\n",
        "\n",
        "# Creating a bar chart\n",
        "sns.barplot(x=attack_types.values, y=attack_types.index, palette='viridis')\n",
        "plt.title('Total Number of People Wounded by Attack Type')\n",
        "plt.xlabel('Total Number of People Wounded')\n",
        "plt.ylabel('Attack Type')\n",
        "plt.show()"
      ],
      "metadata": {
        "id": "mUbE4T6H7uQu"
      },
      "execution_count": null,
      "outputs": []
    },
    {
      "cell_type": "markdown",
      "source": [
        "### Observation\n",
        "1. More than 3,50,000 people were wounded due to the Terrorists while using Bombing/Explosions while attacking.\n",
        "2. Followed by wounds encountered due to the attacking mode of Armed Assaults or Hijacking by the Terrorists.\n",
        "### Suggestions\n",
        "1. Manufacturing of Bombs/Explosives must be strictly banned.\n",
        "2. Prevention of Hijacks by implementing proper security controls."
      ],
      "metadata": {
        "id": "61zdy9Cw-D0m"
      }
    },
    {
      "cell_type": "markdown",
      "source": [
        "#### Chart 19"
      ],
      "metadata": {
        "id": "lQCYZA0Dt_Hr"
      }
    },
    {
      "cell_type": "code",
      "source": [
        "# Visualizing Cases with Property Damage by Terrorist Groups - \"BAR CHART\"\n",
        "# Filtering the data to include only rows where property damage is not -9 and terrorist group is known\n",
        "filtered_d = Gtd_df[(Gtd_df['Prop_damage'] != -9) & (Gtd_df['Terrorist_grp'] != 'Unknown')]\n",
        "\n",
        "# Grouping by 'Terrorist_grp' and 'Prop_damage', filtering where 'Prop_damage' is 1, and counting occurrences\n",
        "grouped_data = filtered_d[filtered_d['Prop_damage'] == 1].groupby(['Terrorist_grp', 'Prop_damage']).size().reset_index(name='Attack Count')\n",
        "\n",
        "# Selecting the top 10 rows based on attack count\n",
        "top_groups = grouped_data.sort_values(by='Attack Count', ascending=False).head(10)\n",
        "\n",
        "# Creating a gradient color palette\n",
        "colors = sns.color_palette(\"viridis\", len(top_groups))\n",
        "\n",
        "# Creating a count plot with a gradient color palette\n",
        "ax = sns.barplot(x='Terrorist_grp', y='Attack Count', data=top_groups, palette=colors)\n",
        "plt.title('Cases of Property Damage by Terrorist Groups')\n",
        "plt.xlabel('Terrorist Group')\n",
        "plt.ylabel('Attack Count')\n",
        "plt.xticks(rotation=45, ha='right')\n",
        "\n",
        "plt.show()"
      ],
      "metadata": {
        "id": "uZyyI6K9X74-"
      },
      "execution_count": null,
      "outputs": []
    },
    {
      "cell_type": "markdown",
      "source": [
        "### Observations\n",
        "1. Terrorist group Shining Path(SL) caused property damages during their 3,500 destructive attacks.\n",
        "2. Farabundo Marti National Liberation Front (FMLN) Terrorist group caused property damages during their 3,200 disruptive attacks.\n",
        "3. Taliban Terrorists has caused property damages during their 2,600 destructive attacks.\n",
        "### Suggestions\n",
        "1. Government agencies should analyze the root causes and motivations behind Shining Path's destructive attacks.\n",
        "2. Develop a comprehensive strategy to counter the Shining Path's destructive attacks.\n",
        "3. Collaborate with international partners to address cross-border security concerns.\n",
        "\n",
        "\n"
      ],
      "metadata": {
        "id": "sD0bx-jOOeZQ"
      }
    },
    {
      "cell_type": "markdown",
      "source": [
        "#### Chart 20"
      ],
      "metadata": {
        "id": "rEWuK72I0zSM"
      }
    },
    {
      "cell_type": "code",
      "source": [
        "# Visualizing the Highest Kidnapped Cases across the Years - \"BAR CHART\"\n",
        "# Filtering the data for kidnapped cases\n",
        "filtered_k = Gtd_df[Gtd_df['kidnapped'] == 1]\n",
        "\n",
        "# Grouping by 'Year' and counting occurrences for kidnapped, and sorting in descending order\n",
        "kidnapped_counts = filtered_k.groupby('Year')['kidnapped'].count().sort_values(ascending=False)\n",
        "\n",
        "# Taking the top 10 years with highest kidnapped cases\n",
        "top_10_years = kidnapped_counts.head(10)\n",
        "\n",
        "# Creating a gradient color palette\n",
        "colors = sns.color_palette('magma', len(top_10_years))\n",
        "\n",
        "# Creating a bar plot with adjusted parameters\n",
        "ax = top_10_years.plot(kind='bar', color=colors)\n",
        "plt.title('Top 10 Years with Highest Number of Kidnapped Cases')\n",
        "plt.xlabel('Year')\n",
        "plt.ylabel('Number of Cases')\n",
        "\n",
        "# Adjusting x-label rotation\n",
        "plt.xticks(rotation=45, ha='right')\n",
        "\n",
        "plt.show()"
      ],
      "metadata": {
        "id": "ryPK-zPCxex7"
      },
      "execution_count": null,
      "outputs": []
    },
    {
      "cell_type": "markdown",
      "source": [
        "### Observations\n",
        "1. 2014 year had the highest number kidnaps by the Terrorists i.e., about 1600 kidnapping cases were recorded.\n",
        "2. Followed by 2015 had the second highest i.e., 1350 kidnaping cases and 2016 had the third highest i.e., 1250 kidnaping cases by the Terrorists were recorded.\n",
        "3. The period of 2009-2012, each year encountered for about 400 kidnaping cases.\n",
        "### Suggestions\n",
        "1. Allocate resources and efforts to address the specific years identified as having the highest number of kidnapping cases (e.g., 2014, 2015, and 2016).\n",
        "2. Timely and accurate information exchange can play a crucial role in preventing and responding to kidnapping incidents."
      ],
      "metadata": {
        "id": "5bQk0VuZ9Sev"
      }
    },
    {
      "cell_type": "markdown",
      "source": [
        "#### Chart 21"
      ],
      "metadata": {
        "id": "v3CU5OBy4Rrn"
      }
    },
    {
      "cell_type": "code",
      "source": [
        "# Visualizing the Claim mode used by top Terrorist groups - \"STACKED BAR CHART\"\n",
        "# Filtering the data for valid data\n",
        "filtered_c = Gtd_df[(Gtd_df['Claim_mode'] != 'Not Applicable') & (Gtd_df['Claim_mode'] != 'Unknown')]\n",
        "\n",
        "# Finding out the top 3 terrorist groups with highest number of attacks\n",
        "top_3_groups = Gtd_df[Gtd_df['Terrorist_grp'] != 'Unknown']['Terrorist_grp'].value_counts().sort_values(ascending=False).head(10).index.tolist()\n",
        "\n",
        "# Filtering data for the top 3 groups\n",
        "filtered_top_groups = filtered_c[filtered_c['Terrorist_grp'].isin(top_3_groups)]\n",
        "\n",
        "# Grouping by 'Terrorist_grp' and 'Claim_mode' and counting occurrences\n",
        "grouped_data = filtered_top_groups.groupby(['Terrorist_grp', 'Claim_mode']).size().unstack().fillna(0)\n",
        "\n",
        "# Creating a stacked bar plot\n",
        "plt.figure(figsize=(12, 8))\n",
        "ax = grouped_data.T.plot(kind='bar', stacked=True, cmap='viridis_r')\n",
        "plt.title('Claim Mode used by Top 10 Terrorist Groups')\n",
        "plt.xlabel('Claim Mode')\n",
        "plt.ylabel('Number of times claim mode used by each group')\n",
        "plt.legend(title='Terrorist Group', bbox_to_anchor=(1.05, 1), loc='upper left')\n",
        "\n",
        "plt.show()"
      ],
      "metadata": {
        "id": "KEcdgqv-1UdK"
      },
      "execution_count": null,
      "outputs": []
    },
    {
      "cell_type": "markdown",
      "source": [
        "### Observations\n",
        "1. \"Personal Claims\" were the most used mode of claims by the top Terrorists.\n",
        "2. In more than 3,200 Terrorists attacks, responsibility was claimed as said above.\n",
        "3. Amongst those attacks 1,500 were by the Taliban group and 1,000 attacks by ISIL group.\n",
        "4. Next highest claim mode was \"Posting to website/blog\" amounting to more than 2,200 attacks.\n",
        "5. It comprised of ISIL contributing to almost 1500 attacks and Taliban for 800 attacks.\n",
        "### Suggestions\n",
        "1. Given the significant number of attacks claimed by the Taliban and ISIL, prioritize efforts to counter these specific groups.\n",
        "2. Implement strategies that focus on dismantling Terrorists networks, disrupting funding sources, and countering their propaganda.\n"
      ],
      "metadata": {
        "id": "UkGUP87nKyUM"
      }
    },
    {
      "cell_type": "markdown",
      "source": [
        "#### Chart 22"
      ],
      "metadata": {
        "id": "Vb5ts4DO_s-D"
      }
    },
    {
      "cell_type": "code",
      "source": [
        "# Visualizing Attacks recorded by Source across Years - \"LINE PLOT\"\n",
        "# Grouping by 'Db_source' and 'Year' and counting events recorded by source in each year, selecting highest recorded sources\n",
        "top_sources_by_year = Gtd_df.groupby(['Db_source','Year'])['Db_source'].count().sort_values(ascending=False)[:30]\n",
        "\n",
        "# sorting the years for preparing legible graph by showing years in ascending order\n",
        "top_sources_df = top_sources_by_year.reset_index(name='Count').sort_values('Year',ascending=True)\n",
        "\n",
        "# plotting Line graph\n",
        "sns.lineplot(x='Year', y='Count', hue='Db_source', data=top_sources_df, marker='o')\n",
        "\n",
        "# Adding grid lines for better readability\n",
        "plt.grid(True, linestyle='--', alpha=0.7)\n",
        "\n",
        "plt.title('Attacks recorded by Db_Source across Years')\n",
        "plt.xlabel('Year')\n",
        "plt.ylabel('Count')\n",
        "plt.legend(title='Db_source', loc='upper left', bbox_to_anchor=(1, 1))\n",
        "plt.show()"
      ],
      "metadata": {
        "id": "9TbtcZJ-4uca"
      },
      "execution_count": null,
      "outputs": []
    },
    {
      "cell_type": "markdown",
      "source": [
        "### Observations\n",
        "1. It is evident that **Pinkerton Global Intelligence Service (PGIS)**—a private security agency has collected the information(hand-written) regarding Terrorist events occurred between **1970 and 1997**.\n",
        "2. START digitized these handwritten records in 2005 and collaborated with the **Center for Terrorism and Intelligence Studies (CETIS)** to continue data collection **beyond 1997**.\n",
        "3.  CETIS collected GTD data for terrorist attacks that occurred from **January 1998 through March 2008**, after which ongoing data collection transitioned to the **Institute for the Study of Violent Groups (ISVG)**.\n",
        "4. ISVG continued as the primary collector of data on attacks that occurred from **April 2008 through October 2011**.\n",
        "5. Beginning with cases that occurred in **November 2011**, all ongoing GTD data collection is conducted by **National Consortium for the Study of Terrorism and Responses to Terrorism (START)** staff at the University of Maryland.\n",
        "6. **START** has recorded all the previous records till present i.e., from **1/1/1970 to 6/31/2020 and ongoing** as per the published.\n",
        "### Suggestions\n",
        "1. Implement systems for continuous monitoring of trends in terrorism.\n",
        "2. Real-time analysis allows for proactive decision-making and response strategies, contributing to improved national security.\n",
        "3. Strengthen collaboration with international counterparts to share intelligence and insights on global terrorism trends.\n",
        "4. Working collaboratively with other nations enhances the government's ability to address transnational threats and contributes to a more coordinated global response.\n",
        "5. Regularly update data collection methodologies and adjust strategies to address new tactics employed by terrorist organizations."
      ],
      "metadata": {
        "id": "gBszoYiqaXbE"
      }
    },
    {
      "cell_type": "markdown",
      "source": [
        "#### Chart 23"
      ],
      "metadata": {
        "id": "dDoybbT3D-vH"
      }
    },
    {
      "cell_type": "code",
      "source": [
        "# Visualizing the No. of Attacks that are Int_logistics, Int_ideological, Int_Miscellaneous - \"COUNT PLOT\"\n",
        "# Filtering data that follows the conditions\n",
        "filtered_IL = Gtd_df[Gtd_df['Int_logistics']==1]\n",
        "filtered_II = Gtd_df[Gtd_df['Int_ideological']==1]\n",
        "filtered_IM = Gtd_df[Gtd_df['Int_Miscellaneous']==1]\n",
        "\n",
        "# Creating subplots with three columns\n",
        "fig, axes = plt.subplots(1, 3, figsize=(20, 5))\n",
        "\n",
        "# For having same y-axis values for three figures\n",
        "y_limit = max(filtered_IL['Int_logistics'].value_counts().max(),\n",
        "        filtered_II['Int_ideological'].value_counts().max(),\n",
        "        filtered_IM['Int_Miscellaneous'].value_counts().max())+5000\n",
        "\n",
        "# Bar plot for Logistically International - \"Nationality of Perpetrator group differs from location of attack\"\n",
        "sns.countplot(x='Int_logistics', data=filtered_IL, ax=axes[0])\n",
        "axes[0].set_title('Nationality of Perpetrator differs from Location of Attack')\n",
        "axes[0].set_xlabel('Int_logistics')\n",
        "axes[0].set_ylabel('Count')\n",
        "axes[0].set_ylim(0, y_limit)\n",
        "\n",
        "# Bar plot for Ideologically International - \"Nationality of Perpetrator differs from Nationality of Victim\"\n",
        "sns.countplot(x='Int_ideological', data=filtered_II, ax=axes[1])\n",
        "axes[1].set_title('Nationality of Perpetrator differs from Nationality of Victim')\n",
        "axes[1].set_xlabel('Int_ideological')\n",
        "axes[1].set_ylabel('Count')\n",
        "axes[1].set_ylim(0, y_limit)\n",
        "\n",
        "# Bar plot for Miscellaneous International - \"Location of Attack differs from Nationality of Victim\"\n",
        "sns.countplot(x='Int_Miscellaneous', data=filtered_IM, ax=axes[2])\n",
        "axes[2].set_title('Location of Attack differs from Nationality of Victim')\n",
        "axes[2].set_xlabel('Int_Miscellaneous')\n",
        "axes[2].set_ylabel('Count')\n",
        "axes[2].set_ylim(0, y_limit)\n",
        "\n",
        "plt.tight_layout()\n",
        "plt.show()"
      ],
      "metadata": {
        "id": "PIElktaMXkra"
      },
      "execution_count": null,
      "outputs": []
    },
    {
      "cell_type": "markdown",
      "source": [
        "### Observations\n",
        "1. Nearly 7,200 Terrorist attacks were Logistically International, which means Nationality of Perpetrator group differs from location of attack for the said number of events.\n",
        "2. For about 22,800 attacks by Terrorists were found to be Ideologically International, that means Nationality of Perpetrator differs from Nationality of Victim.\n",
        "3. More than 20,700 Terrorist attacks were Miscellaneous International, that is Location of Attack differs from Nationality of Victim.\n",
        "### Suggestions\n",
        "1. Strengthen border security measures to monitor and control the movement of individuals across national boundaries. Improved border control can help prevent the international logistics of terrorist activities.\n",
        "2. Engage in diplomatic efforts to address the root causes of transnational terrorism.\n",
        "3. Participate in joint counter-terrorism initiatives with other countries to pool resources, share expertise, and coordinate efforts.\n",
        "4. Multilateral approaches can be more effective in tackling international terrorist networks."
      ],
      "metadata": {
        "id": "ZPAGFGkRWZFk"
      }
    },
    {
      "cell_type": "markdown",
      "source": [
        "#### Chart 24"
      ],
      "metadata": {
        "id": "dXyq8KWbbN15"
      }
    },
    {
      "cell_type": "code",
      "source": [
        "# Visualizing the doubtful cases across the years - \"LINE PLOT\"\n",
        "# Filtering the cases that are only doubtful cases other than Terrorism\n",
        "filtered_d = Gtd_df[Gtd_df['Doubtful'] == 1]\n",
        "filtered_d = filtered_d.groupby('Year').size().reset_index(name='count')\n",
        "\n",
        "# Creating a line plot\n",
        "plt.figure(figsize=(16, 5))\n",
        "sns.lineplot(x='Year', y='count', data=filtered_d, marker='o', color='red', linewidth=2)\n",
        "plt.grid(True, linestyle='--', alpha=0.7)\n",
        "plt.title('Number of Doubtful Cases across the Years')\n",
        "plt.xlabel('Year')\n",
        "plt.ylabel('Number of Cases')\n",
        "\n",
        "# Explicitly setting ticks for each year\n",
        "plt.xticks(filtered_d['Year'], rotation=90)\n",
        "\n",
        "plt.show()"
      ],
      "metadata": {
        "id": "RVfXFSpUcueF"
      },
      "execution_count": null,
      "outputs": []
    },
    {
      "cell_type": "markdown",
      "source": [
        "### Observations\n",
        "1. The doubtful cases which are not categorised as purely Terrorism related are shown in the figure.\n",
        "2. Such doubtful cases are further categorised into \"Insurgency/Guerilla Action, Other Crime Type, Inter/Intra-Group Conflict, Lack of Intentionality,State Actors.\n",
        "3. The doubtful cases were on the rise from 1978 and continued to have decent number of cases across the years and lowered by the year 1998.\n",
        "4. Again the soike in doubtful attacks were on the rise suddenly since 2010, and spike is exponentially high after that.\n",
        "5. In 2014, it touched the peaks of about 3,500 attacks in just one year.\n",
        "6. Thereafter, we can visualize a gradual fall in the number of doubtful attacks.\n",
        "### Suggestions\n",
        "1. Investigate the reasons behind the peak in doubtful attacks in 2014, with approximately 3,500 incidents.\n",
        "2. Look into geopolitical events, policy changes, or any significant occurrences that might explain this sudden surge.\n",
        "3. Consider changes in global politics, technological advancements, or other relevant factors that may have influenced the increase in the cases after 2010.\n"
      ],
      "metadata": {
        "id": "-vz2vKNTjmJb"
      }
    },
    {
      "cell_type": "markdown",
      "source": [
        "#### Chart 25"
      ],
      "metadata": {
        "id": "hOaskwlibSgG"
      }
    },
    {
      "cell_type": "code",
      "source": [
        "# Visualizing the number of attacks succesful/failed over the years - \"STACKED BAR CHART\"\n",
        "# Filtering Sucess/failed attacks data across the years\n",
        "success_data = Gtd_df.groupby(['Year', 'Success']).size().unstack().fillna(0)\n",
        "\n",
        "# Creating a stacked bar plot\n",
        "success_data.plot(kind='bar', stacked=True, color=['skyblue', 'orange'], figsize=(12, 8))\n",
        "plt.title('Successful and Failed Cases Over the Years')\n",
        "plt.xlabel('Year')\n",
        "plt.ylabel('Number of Cases')\n",
        "plt.legend(title='Success', labels=['Failed', 'Successful'])\n",
        "plt.show()"
      ],
      "metadata": {
        "id": "0_qp0akxcMqI"
      },
      "execution_count": null,
      "outputs": []
    },
    {
      "cell_type": "markdown",
      "source": [
        "### Observations\n",
        "1. Nearly 4,500 cases were succesful Terrorism Attacks in 1992 year alone.\n",
        "2. In 2012, nearly 7,600 succesful terrorist attacks were seen and nearly 920 cases were failed.\n",
        "3. In 2013 - succesful attacks (approx 10,500) and failed cases(1,500).\n",
        "4. In 2014 - succesful attacks (approx 15,000) and failed cases(1,900).\n",
        "5. In 2015 - succesful attacks (approx 12,600) and failed cases(2,300).\n",
        "6. In 2016 - succesful attacks (approx 11,000) and failed cases(2,600).\n",
        "7. In 2017 - succesful attacks (approx 8,650) and failed cases(2,250).\n",
        "### Suggestions\n",
        "1. Analyze and learn from failed terrorist attempts to identify weaknesses in the terrorists' strategies and improve security measures accordingly.\n",
        "2. Understanding failed cases can provide valuable insights into potential vulnerabilities\n"
      ],
      "metadata": {
        "id": "Cmt4DUIqvx3s"
      }
    },
    {
      "cell_type": "markdown",
      "source": [
        "#### Chart 26"
      ],
      "metadata": {
        "id": "blXBV823bdAY"
      }
    },
    {
      "cell_type": "code",
      "source": [
        "#. Most Succesfull cases across Region\n",
        "# Filtering the attacks that were succesfull and counting values across regions, selecting top 10\n",
        "successful_cases = Gtd_df[Gtd_df['Success'] == 1]\n",
        "success_by_region = successful_cases['Region'].value_counts().sort_values(ascending=False)\n",
        "top_regions = success_by_region.head(10)\n",
        "\n",
        "# Creating a bar plot\n",
        "sns.barplot(x=top_regions.values, y=top_regions.index, palette='viridis')\n",
        "plt.title('Top 10 Regions with the Most Successful Cases')\n",
        "plt.xlabel('Number of Successful Cases')\n",
        "plt.ylabel('Region')\n",
        "plt.show()"
      ],
      "metadata": {
        "id": "aP4fsy7UcMVo"
      },
      "execution_count": null,
      "outputs": []
    },
    {
      "cell_type": "markdown",
      "source": [
        "### Observations\n",
        "1. About 44,300 cases were succesful Terrorist attacks seen in the region of Middle East & North Africa being the first highest.\n",
        "2. South Asia encountered for about 39,300 succesful Terrorist attacks and was second highest.\n",
        "3. South-America and Sub-Saharan Africa experienced less than 20,000 succesful Terrorist attacks.\n",
        "### Suggestions\n",
        "1. Implement stringent measures to counter the financing of terrorism, targeting the flow of funds to terrorist organizations.\n",
        "2. This involves cooperation with the international community to track and disrupt illicit financial networks.\n"
      ],
      "metadata": {
        "id": "uPlqGfR064Q2"
      }
    },
    {
      "cell_type": "markdown",
      "source": [
        "#### Chart 27"
      ],
      "metadata": {
        "id": "e0cvnKvvbjJO"
      }
    },
    {
      "cell_type": "code",
      "source": [
        "# Most Suicidal cases across Region - \"BAR CHART\"\n",
        "# Filtering for suicidal attacks\n",
        "suicidal_cases = Gtd_df[Gtd_df['Suicide'] == 1]\n",
        "\n",
        "# Group by 'Region' and count the number of suicidal attacks in each region\n",
        "suicide_by_region = suicidal_cases['Region'].value_counts().sort_values(ascending=False).reset_index()[:5]\n",
        "suicide_by_region.columns = ['Region', 'Number of Suicidal Cases']\n",
        "\n",
        "# Create a count plot\n",
        "sns.barplot(x='Region', y='Number of Suicidal Cases', data=suicide_by_region, palette='viridis')\n",
        "plt.title('Most Suicidal Cases by Region')\n",
        "plt.xlabel('Region')\n",
        "plt.ylabel('Number of Suicidal Cases')\n",
        "plt.xticks(rotation=45, ha='right')\n",
        "plt.show()"
      ],
      "metadata": {
        "id": "P-R2XGlUfpAi"
      },
      "execution_count": null,
      "outputs": []
    },
    {
      "cell_type": "markdown",
      "source": [
        "### Observations\n",
        "1. There were about 4,000 Terrorists Suicidal Attacks seen in Middle East & North Africa. The Perpetrator who engaged in Terrorist attack performed suicidal attack.\n",
        "2. Abot 2,000 Terrorist Suicidal attacks seen in South Asia.\n",
        "3. More than 500 Suicidal attacks seen in Sub-Saharan Africa.\n",
        "### Suggestions\n",
        "1. Investing in mental health programs and outreach can help identify individuals who may be susceptible to extremist ideologies or coercion.\n",
        "2. Implement security measures in public spaces such as transportation hubs, markets, and crowded areas where suicide attacks are more likely to occur\n"
      ],
      "metadata": {
        "id": "Fdn_j0pOCghy"
      }
    },
    {
      "cell_type": "markdown",
      "source": [
        "#### Chart 28"
      ],
      "metadata": {
        "id": "RAx8kNkKb4L9"
      }
    },
    {
      "cell_type": "code",
      "source": [
        "# Visualizing Attack types in Most Suicidal attacks\n",
        "# Filtering the Suicidal Attacks\n",
        "suicidal_cases = Gtd_df[Gtd_df['Suicide'] == 1]\n",
        "\n",
        "# Grouping by 'Attack_type' and counting the number of cases, selecting top 5\n",
        "suicidal_by_attack = suicidal_cases.groupby(['Attack_type']).size().sort_values(ascending=False)[:5]\n",
        "\n",
        "# Create a bar plot\n",
        "suicidal_by_attack.plot(kind='bar', color='orange')\n",
        "plt.title('Attack type used in Most Suicidal attacks')\n",
        "plt.xlabel('Attack Type')\n",
        "plt.ylabel('Number of Suicidal Cases')\n",
        "plt.xticks(rotation=45, ha='right')\n",
        "plt.show()"
      ],
      "metadata": {
        "id": "WLVMfWlIcMQZ"
      },
      "execution_count": null,
      "outputs": []
    },
    {
      "cell_type": "markdown",
      "source": [
        "### Observations\n",
        "1. Most of the suicidal attacks i.e., more than 6,000 attacks involved usage of  Bombing/Explosions for attacking and killing themselves at a time.\n",
        "### Suggestions\n",
        "1. Taking measures to stop supply of harmfull chemicals may help."
      ],
      "metadata": {
        "id": "h39BN4leJGs6"
      }
    },
    {
      "cell_type": "markdown",
      "source": [
        "#### Chart 29"
      ],
      "metadata": {
        "id": "jNeKPAHeb9PM"
      }
    },
    {
      "cell_type": "code",
      "source": [
        "# Visualizing the Most prominent Claim Mode for Kidnapped Cases\n",
        "# Filtering data for kidnapped cases\n",
        "filtered_kc = Gtd_df[(Gtd_df['kidnapped'] == 1) & (Gtd_df['Claim_mode']!='Not Applicable') & (Gtd_df['Claim_mode']!='Unknown')]\n",
        "\n",
        "# Grouping by 'Claim_mode' and counting occurrences\n",
        "claim_mode_counts = filtered_kc['Claim_mode'].value_counts().sort_values(ascending=False).reset_index()\n",
        "\n",
        "# Creating a bar plot\n",
        "sns.barplot(x='index', y='Claim_mode',data=claim_mode_counts, palette='viridis')\n",
        "plt.title('Most Prominent Claim Mode for Kidnapped Cases')\n",
        "plt.xlabel('Claim Mode')\n",
        "plt.ylabel('Number of Kidnapped Cases')\n",
        "plt.xticks(rotation=45, ha='right')\n",
        "plt.show()"
      ],
      "metadata": {
        "id": "kDasClltcMLb"
      },
      "execution_count": null,
      "outputs": []
    },
    {
      "cell_type": "markdown",
      "source": [
        "### Observations\n",
        "1. For about 580 Terrorist attacks involved Kidnapping the victims and information was conveyed through Personal claims.\n",
        "2. More than 210 Terrorist attacks involving Kidnapping the victims have conveyed information by leaving Note at Scene.\n",
        "3. Similarly, 210 attacks by the Terrorist who also kidnapped the victims have informed by posting to websites/blogs.\n",
        "### Suggestions\n",
        "1. Collaborate with technology companies to monitor and take down websites or blogs used by terrorists to convey information related to kidnappings.\n",
        "2. This involves leveraging technology to counter the use of online platforms for spreading terror-related content."
      ],
      "metadata": {
        "id": "opDg--d8RtHx"
      }
    },
    {
      "cell_type": "markdown",
      "source": [
        "#### Chart 30"
      ],
      "metadata": {
        "id": "bZBjxOyucBN2"
      }
    },
    {
      "cell_type": "code",
      "source": [
        "# Visualizing Regions with Most Extended Cases\n",
        "# Filtering the attacks those extended more than 24 hrs\n",
        "filtered_e = Gtd_df[Gtd_df['Extended']==1]\n",
        "# Grouping and counting Regions with highest Extended attacks, selcting top 5\n",
        "extended_cases_by_region = filtered_e.groupby('Region')['Region'].count().sort_values(ascending=False).reset_index(name='count')[:5]\n",
        "\n",
        "# Creating a pie chart\n",
        "plt.pie(extended_cases_by_region['count'], labels=extended_cases_by_region['Region'], autopct='%1.1f%%', startangle=90)\n",
        "plt.title('Distribution of Extended Cases by Region')\n",
        "plt.show()"
      ],
      "metadata": {
        "id": "Ij-ChLFSdi-z"
      },
      "execution_count": null,
      "outputs": []
    },
    {
      "cell_type": "markdown",
      "source": [
        "### Observations\n",
        "1. South Asia has highest Extended Terrorist attacks.\n",
        "2. Followed by Second highest Extended attacks in Middle East & North Africa, and third highest being Sub-Saharan Africa.\n",
        "### Suggestions\n",
        "1. South Asia, Middle East & North Africa being deadliest regions for livelihood.\n",
        "2. The authorities in the said areas should take stringent actions and enhance the security forces to extend aid in swift resolution."
      ],
      "metadata": {
        "id": "woy1swaBKk1F"
      }
    },
    {
      "cell_type": "markdown",
      "source": [
        "#### Chart 31"
      ],
      "metadata": {
        "id": "9JyD0EHwcFR7"
      }
    },
    {
      "cell_type": "code",
      "source": [
        "# Visualizing Terrorists groups targeting different victims - \"HEAT MAP\"\n",
        "# Selecting the top 5 active terrorist groups\n",
        "filtered_t = Gtd_df[Gtd_df['Terrorist_grp'] != 'Unknown']\n",
        "top_5_groups = filtered_t['Terrorist_grp'].value_counts().sort_values(ascending=False).head(5).index\n",
        "\n",
        "# Filtering dataframe for the top 5 groups\n",
        "filtered_top_groups = Gtd_df[Gtd_df['Terrorist_grp'].isin(top_5_groups)]\n",
        "\n",
        "# Grouping by 'Terrorist_grp' and 'Target_type' and counting occurrences\n",
        "grouped_data = filtered_top_groups.groupby(['Terrorist_grp', 'Target_type']).size().unstack().fillna(0)\n",
        "\n",
        "# Creating a heatmap for the grouped data\n",
        "plt.figure(figsize=(12, 8))\n",
        "sns.heatmap(grouped_data, cmap='coolwarm', annot=True, fmt='g', linewidths=.5, cbar_kws={'label': 'Number of Attacks'})\n",
        "plt.title('Terrorist Groups vs Target Types')\n",
        "plt.xlabel('Target Type')\n",
        "plt.ylabel('Terrorist Group')\n",
        "plt.show()"
      ],
      "metadata": {
        "id": "sLknpVgWcLkf"
      },
      "execution_count": null,
      "outputs": []
    },
    {
      "cell_type": "markdown",
      "source": [
        "### Observations\n",
        "1. Taliban Terrorist group has attacked the Police Officials during their 2,535 attacks which is highest targeted amongst the targeted victims.\n",
        "2. Taliban targeted Military in their 1,455 attacks and targeted Private Citizens and Property in 1,407 attacks.\n",
        "3. ISIL has targeted Private Citizens and Property in their 2,240 attacks which is highest among targeted by ISIL.\n",
        "4. Second highest targeted by ISIL being Military with1,454 attacks.\n",
        "# Suggestions\n",
        "1. Implement and strengthen security measures specifically designed to protect police officials.\n",
        "2. This may include increased patrols, fortified police stations, and improved intelligence gathering to identify potential threats.\n",
        "3. Implement measures to protect private citizens and property from ISIL attacks. This may involve increased security in public spaces, markets, and residential areas to prevent indiscriminate attacks.\n",
        "4. Enhance military preparedness and intelligence capabilities to counter ISIL attacks on military targets."
      ],
      "metadata": {
        "id": "yOvksCnXVy5p"
      }
    },
    {
      "cell_type": "markdown",
      "source": [
        "#### Chart 32"
      ],
      "metadata": {
        "id": "nQFaUXubcIcg"
      }
    },
    {
      "cell_type": "code",
      "source": [
        "# Visualizing Terrorist groups with most succesfull cases\n",
        "# Filtering data for successful cases and excluding 'Unknown' terrorist group\n",
        "successful_cases = Gtd_df[(Gtd_df['Success'] == 1) & (Gtd_df['Terrorist_grp'] != 'Unknown')]\n",
        "\n",
        "# Grouping by 'Terrorist_grp' and counting the number of successful cases for each group\n",
        "success_by_group = successful_cases['Terrorist_grp'].value_counts().sort_values(ascending=False)[:10]\n",
        "\n",
        "# Creating a bar plot\n",
        "sns.barplot(x=success_by_group.index, y=success_by_group.values,palette='viridis')\n",
        "plt.title('Successful attacks by Top Terrorist Groups')\n",
        "plt.xlabel('Terrorist Group')\n",
        "plt.ylabel('Number of Successful Attacks')\n",
        "plt.xticks(rotation=45, ha='right')\n",
        "plt.show()"
      ],
      "metadata": {
        "id": "ejRank9SgWV8"
      },
      "execution_count": null,
      "outputs": []
    },
    {
      "cell_type": "markdown",
      "source": [
        "### Observations\n",
        "1. Taliban has highest succesful attacks that is more than 6,500 in number.\n",
        "2. Second highest is ISIL Terrorist group having more than 4,500 succesful attacks.\n",
        "### Suggestions\n",
        "1. Conduct targeted military operations against Taliban strongholds to disrupt their operational capabilities.\n",
        "2. Collaborate with the international community to strengthen global counterterrorism efforts against ISIL."
      ],
      "metadata": {
        "id": "ThxNHiGYsVcl"
      }
    },
    {
      "cell_type": "markdown",
      "source": [
        "#### Chart - 33 - Correlation Heatmap"
      ],
      "metadata": {
        "id": "NC_X3p0fY2L0"
      }
    },
    {
      "cell_type": "code",
      "source": [
        "# Correlation Heatmap visualization for Numerical Variables\n",
        "# Selecting numerical columns\n",
        "numerical_columns = ['Year', 'Month', 'Day', 'Extended','Vicinity','Criteria_1','Criteria_2','Criteria_3','Doubtful','Multiple',\n",
        "                     'Success', 'Suicide','Individual', 'Killed', 'Wounded', 'Prop_damage','kidnapped', 'Int_logistics',\n",
        "                     'Int_ideological', 'Int_Miscellaneous']\n",
        "\n",
        "# Creating a subset dataframe with numerical columns\n",
        "numerical_data = Gtd_df[numerical_columns]\n",
        "\n",
        "# Calculating correlation matrix\n",
        "correlation_matrix = numerical_data.corr()\n",
        "\n",
        "# Plotting the heatmap\n",
        "plt.figure(figsize=(12, 10))\n",
        "sns.heatmap(correlation_matrix, annot=True, cmap='coolwarm', fmt='.2f', linewidths=.5)\n",
        "plt.title('Correlation Heatmap')\n",
        "plt.show()"
      ],
      "metadata": {
        "id": "xyC9zolEZNRQ"
      },
      "execution_count": null,
      "outputs": []
    },
    {
      "cell_type": "markdown",
      "source": [
        "##### 1. Why did you pick the specific chart?"
      ],
      "metadata": {
        "id": "UV0SzAkaZNRQ"
      }
    },
    {
      "cell_type": "markdown",
      "source": [
        "Heat Map is best suited to check the corelation between numerical variables."
      ],
      "metadata": {
        "id": "DVPuT8LYZNRQ"
      }
    },
    {
      "cell_type": "markdown",
      "source": [
        "##### 2. What is/are the insight(s) found from the chart?"
      ],
      "metadata": {
        "id": "YPEH6qLeZNRQ"
      }
    },
    {
      "cell_type": "markdown",
      "source": [
        "1. The Numerical variables listed here are mostly either date related or binary data formats except for number of killed and wounded.\n",
        "2. So, we can identify visible strength and direction of corelation between killed an wounded variables.\n",
        "3. In the Terrorist attacks caused by different Terrorist groups, it is seen that approximately similar number of victims are killed or wounded due to the effects of the Terrorist attacks, nd there is positive relation between these two variables."
      ],
      "metadata": {
        "id": "bfSqtnDqZNRR"
      }
    },
    {
      "cell_type": "markdown",
      "source": [
        "#### Chart - 34"
      ],
      "metadata": {
        "id": "q29F0dvdveiT"
      }
    },
    {
      "cell_type": "code",
      "source": [
        "# Visualizing relation with killed and wounded - \"SCATTER PLOT\"\n",
        "sns.scatterplot(data=Gtd_df, x='Killed', y='Wounded')\n",
        "plt.grid(True, linestyle='--', alpha=0.7)\n",
        "plt.title(\"Relation b/w Killed and Wounded\")\n",
        "plt.show()"
      ],
      "metadata": {
        "id": "o58-TEIhveiU"
      },
      "execution_count": null,
      "outputs": []
    },
    {
      "cell_type": "markdown",
      "source": [
        "##### 1. Why did you pick the specific chart?"
      ],
      "metadata": {
        "id": "EXh0U9oCveiU"
      }
    },
    {
      "cell_type": "markdown",
      "source": [
        "Scatter plot is best suited for finding relationship between two variables."
      ],
      "metadata": {
        "id": "eMmPjTByveiU"
      }
    },
    {
      "cell_type": "markdown",
      "source": [
        "##### 2. What is/are the insight(s) found from the chart?"
      ],
      "metadata": {
        "id": "22aHeOlLveiV"
      }
    },
    {
      "cell_type": "markdown",
      "source": [
        "It is inherent that the corelation between killed and wounded is positive and linear."
      ],
      "metadata": {
        "id": "uPQ8RGwHveiV"
      }
    },
    {
      "cell_type": "markdown",
      "source": [
        "## **5. Solution to Business Objective**"
      ],
      "metadata": {
        "id": "JcMwzZxoAimU"
      }
    },
    {
      "cell_type": "markdown",
      "source": [
        "#### What do you suggest the client to achieve Business Objective ?\n",
        "Explain Briefly."
      ],
      "metadata": {
        "id": "8G2x9gOozGDZ"
      }
    },
    {
      "cell_type": "markdown",
      "source": [
        "### Solutions\n",
        "1. In the **21st century**, there has been a notable **increase** in terrorist attacks worldwide.\n",
        "2. The governing bodies of states must enhance **safety** measures across their **territories** continuously.\n",
        "3. Security forces should be extra vigilant at the **start and mid of each month**, especially in **city centers**.\n",
        "4. Strengthening the **police** and security forces with **advanced equipment** is crucial to combat terrorism effectively.\n",
        "5. Certain regions like **Iraq, Pakistan, and Afghanistan** are prone to terrorist attacks, requiring heightened **security** measures.\n",
        "6. The **Middle East and North Africa**, particularly **UAE, Saudi Arabia, and Qatar**, need robust security due to **high international citizen** presence.\n",
        "7. **Baghdad** is highly susceptible to terrorist attacks, necessitating international counter-terrorism efforts.\n",
        "8. **Strict actions and punishment** for perpetrators are essential to deter attacks and protect innocent lives.\n",
        "9. Combating **terrorism financing**, especially tracking and scrutinizing **chemical purchases**, is crucial.\n",
        "10. **Cognitive Behavioral Therapy** and awareness programs can help prevent vulnerable individuals from becoming involved in terrorism.\n",
        "11. Governments should ban the production of **bombs/explosives**, control **harmful chemicals**, and hold full authority over potentially dangerous items.\n",
        "12. Vigilance over active terrorist groups, especially **ISIL, Taliban, and Boko Haram**, is vital to mitigating **future attacks**.\n",
        "13. The focus should be on **dismantling terrorist networks**, disrupting funding sources, and countering propaganda.\n",
        "14. Continuous **monitoring** of terrorism trends, **collaboration** with international partners, and timely adjustments to **strategies** are crucial for **national security**.\n",
        "15. Strengthening **border security** and engaging in **diplomatic efforts** to address root causes can help prevent **transnational terrorism**.\n",
        "16. Analysis of **peak years and failed attempts** provides insights for refining security measures and understanding **terrorist strategies**.\n",
        "17. Stricter measures against terrorism financing, **collaboration with technology** companies, and **mental health** programs are necessary preventive measures.\n",
        "18. **South Asia, the Middle East, and North Africa** are identified as the **deadliest** regions, requiring stringent actions and enhanced security forces.\n",
        "19. Specific security measures to **protect police officials** and targeted **military operations** against terrorist strongholds are imperative.\n",
        "20. Collaboration with the **international community** and a comprehensive **strategy** are essential for effective **global counter-terrorism efforts**."
      ],
      "metadata": {
        "id": "pASKb0qOza21"
      }
    },
    {
      "cell_type": "markdown",
      "source": [
        "# **Conclusion**"
      ],
      "metadata": {
        "id": "gCX9965dhzqZ"
      }
    },
    {
      "cell_type": "markdown",
      "source": [
        "Observations from the analysis of the terrorism data reveal significant patterns and trends:\n",
        "\n",
        "1. **Trend in Terrorist Attacks:**\n",
        "   - Exponential increase in terrorist attacks from 2012 to 2017, with the peak in 2014, followed by high levels in 2015 and 2016.\n",
        "   - Low attack levels during the period of 1970 to 1976.\n",
        "\n",
        "2. **Monthly Patterns:**\n",
        "   - May has the highest number of attacks, followed by July.\n",
        "   - Attacks are concentrated around the mid and first day of the month, while lower at the month-end.\n",
        "\n",
        "3. **Date-related Insights:**\n",
        "   - 5.4% of attacks lack an exact incident date, with 0.3% having no approximate date.\n",
        "   - 94.6% of attacks recorded have an exact incident date.\n",
        "\n",
        "4. **Duration of Attacks:**\n",
        "   - 4.5% of attacks lasted more than 24 hours, indicating sustained terrorist activities.\n",
        "\n",
        "5. **Global Hotspots:**\n",
        "   - Iraq leads with nearly 25,000 attacks, followed by Pakistan and Afghanistan.\n",
        "   - Middle East and North Africa experience the highest number of attacks.\n",
        "\n",
        "6. **Urban Focus:**\n",
        "   - Most attacks occur within cities, totaling nearly 1,70,000, while fewer attacks happen in the surroundings.\n",
        "\n",
        "7. **Motivations for Attacks:**\n",
        "   - Around 180,000 attacks are driven by political, economic, religious, or social goals.\n",
        "   - More than 180,000 attacks aim to intimidate or convey messages, while about 160,000 are outside legible warfare activities.\n",
        "\n",
        "8. **Connection and Success of Attacks:**\n",
        "   - About 22,000 attacks are connected, indicating a network of related incidents.\n",
        "   - Over 160,000 attacks were successful, with 3.7% being suicidal attacks.\n",
        "\n",
        "9. **Weapon Usage:**\n",
        "   - Bombs/explosions are the primary weapons, followed by armed assault, assassination, and hostage-taking.\n",
        "   - Usage of biological weapons peaked between 1995 and 2005.\n",
        "\n",
        "10. **Major Terrorist Groups:**\n",
        "    - Taliban tops the list with around 7,000 attacks, followed by ISIL and Shining Path.\n",
        "    - ISIL's attacks resulted in the highest death toll of approximately 39,000.\n",
        "\n",
        "11. **Casualties and Injuries:**\n",
        "    - Bombings/explosions caused over 350,000 injuries, followed by armed assaults and hijackings.\n",
        "    - Property damages caused by specific terrorist groups, such as Shining Path and FMLN.\n",
        "\n",
        "12. **Kidnappings:**\n",
        "    - Peak in kidnappings in 2014, with subsequent years maintaining relatively high numbers.\n",
        "\n",
        "13. **Claim Modes:**\n",
        "    - Personal claims are the most used, with over 3,200 attacks, followed by posting to websites/blogs.\n",
        "\n",
        "14. **Data Collection Evolution:**\n",
        "    - Pinkerton Global Intelligence Service (PGIS) initiated data collection, later continued by organizations like CETIS, ISVG, and currently managed by START.\n",
        "\n",
        "15. **International Aspects:**\n",
        "    - Over 7,200 logistically international attacks, 22,800 ideologically international attacks, and 20,700 miscellaneous international attacks.\n",
        "\n",
        "16. **Doubtful Cases:**\n",
        "    - Doubtful cases include insurgency/guerrilla action, other crime types, inter/intra-group conflict, lack of intentionality, and state actors.\n",
        "    - A spike in doubtful attacks in 2014, followed by a gradual decline.\n",
        "\n",
        "17. **Regional Success:**\n",
        "    - Middle East & North Africa and South Asia witness the highest number of successful terrorist attacks.\n",
        "\n",
        "18. **Suicidal Attacks:**\n",
        "    - Over 6,000 suicidal attacks involving bombings/explosions.\n",
        "\n",
        "19. **Extended Attacks:**\n",
        "    - South Asia leads in extended attacks, followed by Middle East & North Africa.\n",
        "\n",
        "20. **Targeted Victims:**\n",
        "    - Taliban targets police officials the most, followed by military and private citizens/property.\n",
        "    - ISIL targets private citizens/property the most, followed by military.\n",
        "\n",
        "21. **Group Success:**\n",
        "    - Taliban and ISIL have the highest number of successful attacks.\n",
        "\n",
        "22. **Correlation Analysis:**\n",
        "    - A positive and linear correlation between the number of victims killed and wounded in terrorist attacks.\n",
        "\n",
        "These insights provide a comprehensive understanding of the patterns, dynamics, and impact of terrorist activities globally."
      ],
      "metadata": {
        "id": "Fjb1IsQkh3yE"
      }
    },
    {
      "cell_type": "markdown",
      "source": [
        "### ***Hurrah! You have successfully completed your EDA Capstone Project !!!***"
      ],
      "metadata": {
        "id": "gIfDvo9L0UH2"
      }
    }
  ]
}