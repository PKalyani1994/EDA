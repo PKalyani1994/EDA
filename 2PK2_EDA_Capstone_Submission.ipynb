{
  "nbformat": 4,
  "nbformat_minor": 0,
  "metadata": {
    "colab": {
      "private_outputs": true,
      "provenance": [],
      "collapsed_sections": [
        "vncDsAP0Gaoa",
        "FJNUwmbgGyua",
        "w6K7xa23Elo4",
        "yQaldy8SH6Dl",
        "PH-0ReGfmX4f",
        "mDgbUHAGgjLW",
        "O_i_v8NEhb9l",
        "HhfV-JJviCcP",
        "Y3lxredqlCYt",
        "3RnN4peoiCZX",
        "x71ZqKXriCWQ",
        "7hBIi_osiCS2",
        "JlHwYmJAmNHm",
        "35m5QtbWiB9F",
        "PoPl-ycgm1ru",
        "H0kj-8xxnORC",
        "nA9Y7ga8ng1Z",
        "PBTbrJXOngz2",
        "u3PMJOP6ngxN",
        "dauF4eBmngu3",
        "bKJF3rekwFvQ",
        "MSa1f5Uengrz",
        "GF8Ens_Soomf",
        "0wOQAZs5pc--",
        "K5QZ13OEpz2H",
        "lQ7QKXXCp7Bj",
        "448CDAPjqfQr",
        "KSlN3yHqYklG",
        "t6dVpIINYklI",
        "ijmpgYnKYklI",
        "-JiQyfWJYklI",
        "EM7whBJCYoAo",
        "fge-S5ZAYoAp",
        "85gYPyotYoAp",
        "RoGjAbkUYoAp",
        "4Of9eVA-YrdM",
        "iky9q4vBYrdO",
        "F6T5p64dYrdO",
        "y-Ehk30pYrdP",
        "bamQiAODYuh1",
        "QHF8YVU7Yuh3",
        "GwzvFGzlYuh3",
        "qYpmQ266Yuh3",
        "OH-pJp9IphqM",
        "bbFf2-_FphqN",
        "_ouA3fa0phqN",
        "Seke61FWphqN",
        "PIIx-8_IphqN",
        "t27r6nlMphqO",
        "r2jJGEOYphqO",
        "b0JNsNcRphqO",
        "BZR9WyysphqO",
        "jj7wYXLtphqO",
        "eZrbJ2SmphqO",
        "rFu4xreNphqO",
        "YJ55k-q6phqO",
        "gCFgpxoyphqP",
        "OVtJsKN_phqQ",
        "lssrdh5qphqQ",
        "U2RJ9gkRphqQ",
        "1M8mcRywphqQ",
        "tgIPom80phqQ",
        "JMzcOPDDphqR",
        "x-EpHcCOp1ci",
        "X_VqEhTip1ck",
        "8zGJKyg5p1ck",
        "PVzmfK_Ep1ck",
        "n3dbpmDWp1ck",
        "ylSl6qgtp1ck",
        "ZWILFDl5p1ck",
        "M7G43BXep1ck",
        "Ag9LCva-p1cl",
        "E6MkPsBcp1cl",
        "2cELzS2fp1cl",
        "3MPXvC8up1cl",
        "NC_X3p0fY2L0",
        "UV0SzAkaZNRQ",
        "YPEH6qLeZNRQ",
        "q29F0dvdveiT",
        "EXh0U9oCveiU",
        "22aHeOlLveiV",
        "JcMwzZxoAimU",
        "8G2x9gOozGDZ",
        "gCX9965dhzqZ",
        "gIfDvo9L0UH2"
      ],
      "include_colab_link": true
    },
    "kernelspec": {
      "name": "python3",
      "display_name": "Python 3"
    },
    "language_info": {
      "name": "python"
    }
  },
  "cells": [
    {
      "cell_type": "markdown",
      "metadata": {
        "id": "view-in-github",
        "colab_type": "text"
      },
      "source": [
        "<a href=\"https://colab.research.google.com/github/PKalyani1994/EDA/blob/main/2PK2_EDA_Capstone_Submission.ipynb\" target=\"_parent\"><img src=\"https://colab.research.google.com/assets/colab-badge.svg\" alt=\"Open In Colab\"/></a>"
      ]
    },
    {
      "cell_type": "markdown",
      "source": [
        "# **Project Name**    -\n",
        "\n"
      ],
      "metadata": {
        "id": "vncDsAP0Gaoa"
      }
    },
    {
      "cell_type": "markdown",
      "source": [
        "##### **Project Type**    - EDA\n",
        "##### **Contribution**    - Individual\n"
      ],
      "metadata": {
        "id": "beRrZCGUAJYm"
      }
    },
    {
      "cell_type": "markdown",
      "source": [
        "# **Project Summary -**"
      ],
      "metadata": {
        "id": "FJNUwmbgGyua"
      }
    },
    {
      "cell_type": "markdown",
      "source": [
        "Write the summary here within 500-600 words."
      ],
      "metadata": {
        "id": "F6v_1wHtG2nS"
      }
    },
    {
      "cell_type": "markdown",
      "source": [
        "# **GitHub Link -**"
      ],
      "metadata": {
        "id": "w6K7xa23Elo4"
      }
    },
    {
      "cell_type": "markdown",
      "source": [
        "Provide your GitHub Link here."
      ],
      "metadata": {
        "id": "h1o69JH3Eqqn"
      }
    },
    {
      "cell_type": "markdown",
      "source": [
        "# **Problem Statement**\n"
      ],
      "metadata": {
        "id": "yQaldy8SH6Dl"
      }
    },
    {
      "cell_type": "markdown",
      "source": [
        "**Write Problem Statement Here.**"
      ],
      "metadata": {
        "id": "DpeJGUA3kjGy"
      }
    },
    {
      "cell_type": "markdown",
      "source": [
        "#### **Define Your Business Objective?**"
      ],
      "metadata": {
        "id": "PH-0ReGfmX4f"
      }
    },
    {
      "cell_type": "markdown",
      "source": [
        "Answer Here."
      ],
      "metadata": {
        "id": "PhDvGCAqmjP1"
      }
    },
    {
      "cell_type": "markdown",
      "source": [
        "# **General Guidelines** : -  "
      ],
      "metadata": {
        "id": "mDgbUHAGgjLW"
      }
    },
    {
      "cell_type": "markdown",
      "source": [
        "1.   Well-structured, formatted, and commented code is required.\n",
        "2.   Exception Handling, Production Grade Code & Deployment Ready Code will be a plus. Those students will be awarded some additional credits.\n",
        "     \n",
        "     The additional credits will have advantages over other students during Star Student selection.\n",
        "       \n",
        "             [ Note: - Deployment Ready Code is defined as, the whole .ipynb notebook should be executable in one go\n",
        "                       without a single error logged. ]\n",
        "\n",
        "3.   Each and every logic should have proper comments.\n",
        "4. You may add as many number of charts you want. Make Sure for each and every chart the following format should be answered.\n",
        "        \n",
        "\n",
        "```\n",
        "# Chart visualization code\n",
        "```\n",
        "            \n",
        "\n",
        "*   Why did you pick the specific chart?\n",
        "*   What is/are the insight(s) found from the chart?\n",
        "* Will the gained insights help creating a positive business impact?\n",
        "Are there any insights that lead to negative growth? Justify with specific reason.\n",
        "\n",
        "5. You have to create at least 20 logical & meaningful charts having important insights.\n",
        "\n",
        "\n",
        "[ Hints : - Do the Vizualization in  a structured way while following \"UBM\" Rule.\n",
        "\n",
        "U - Univariate Analysis,\n",
        "\n",
        "B - Bivariate Analysis (Numerical - Categorical, Numerical - Numerical, Categorical - Categorical)\n",
        "\n",
        "M - Multivariate Analysis\n",
        " ]\n",
        "\n",
        "\n",
        "\n"
      ],
      "metadata": {
        "id": "ZrxVaUj-hHfC"
      }
    },
    {
      "cell_type": "markdown",
      "source": [
        "# ***Let's Begin !***"
      ],
      "metadata": {
        "id": "O_i_v8NEhb9l"
      }
    },
    {
      "cell_type": "markdown",
      "source": [
        "## ***1. Know Your Data***"
      ],
      "metadata": {
        "id": "HhfV-JJviCcP"
      }
    },
    {
      "cell_type": "markdown",
      "source": [
        "### Import Libraries"
      ],
      "metadata": {
        "id": "Y3lxredqlCYt"
      }
    },
    {
      "cell_type": "code",
      "source": [
        "# Importing required Libraries\n",
        "import pandas as pd\n",
        "import numpy as np\n",
        "import matplotlib.pyplot as plt\n",
        "import seaborn as sns"
      ],
      "metadata": {
        "id": "M8Vqi-pPk-HR"
      },
      "execution_count": null,
      "outputs": []
    },
    {
      "cell_type": "markdown",
      "source": [
        "### Dataset Loading"
      ],
      "metadata": {
        "id": "3RnN4peoiCZX"
      }
    },
    {
      "cell_type": "code",
      "source": [
        "# Mounting the drive\n",
        "from google.colab import drive\n",
        "drive.mount('/content/drive')"
      ],
      "metadata": {
        "id": "4CkvbW_SlZ_R"
      },
      "execution_count": null,
      "outputs": []
    },
    {
      "cell_type": "code",
      "source": [
        "# Loading the dataset\n",
        "file_path = '/content/drive/MyDrive/Global Terrorism Data (1).csv'\n",
        "gtd_df = pd.read_csv(file_path,encoding='latin-1')"
      ],
      "metadata": {
        "id": "uwWuEcjN0yno"
      },
      "execution_count": null,
      "outputs": []
    },
    {
      "cell_type": "markdown",
      "source": [
        "### Dataset First View"
      ],
      "metadata": {
        "id": "x71ZqKXriCWQ"
      }
    },
    {
      "cell_type": "code",
      "source": [
        "# Dataset First Look\n",
        "gtd_df"
      ],
      "metadata": {
        "id": "LWNFOSvLl09H"
      },
      "execution_count": null,
      "outputs": []
    },
    {
      "cell_type": "code",
      "source": [
        "# Renaming the required columns\n",
        "gtd_df.rename(columns={'eventid':'Event_ID','iyear':'Year','imonth':'Month','iday':'Day','approxdate':'Approx_date','extended':'Extended','country_txt':'Country','region_txt':'Region',\n",
        "                       'city':'City','vicinity':'Vicinity','crit1':'Criteria_1','crit2':'Criteria_2','crit3':'Criteria_3',\n",
        "                       'doubtterr':'Doubtful','alternative_txt':'Alternate','multiple':'Multiple','success':'Success',\n",
        "                       'suicide':'Suicide','attacktype1_txt':'Attack_type','targtype1_txt':'Target_type','gname':'Terrorist_grp',\n",
        "                       'individual':'Individual','weaptype1_txt':'Weapon_type','nkill':'Killed','nwound':'Wounded',\n",
        "                       'property':'Prop_damage','ishostkid':'kidnapped','dbsource':'Db_source',\n",
        "                       'INT_LOG':'Int_logistics','INT_IDEO':'Int_ideological','INT_MISC':'Int_Miscellaneous','related':'Related','claimmode_txt':'Claim_mode'},inplace=True)\n"
      ],
      "metadata": {
        "id": "TlCL3GUa0x6y"
      },
      "execution_count": null,
      "outputs": []
    },
    {
      "cell_type": "code",
      "source": [
        "# Creating the Data Frame with necessary columns for EDA\n",
        "Gtd_df = gtd_df[['Event_ID','Year','Month','Day','Approx_date','Extended','Country','Region','City','Vicinity',\n",
        "                 'Criteria_1','Criteria_2','Criteria_3','Doubtful','Alternate','Multiple','Success','Suicide',\n",
        "                 'Attack_type','Target_type','Terrorist_grp','Individual','Weapon_type','Killed',\n",
        "                 'Wounded','Prop_damage','kidnapped','Db_source','Related','Claim_mode','Int_logistics','Int_ideological','Int_Miscellaneous']]\n",
        "Gtd_df"
      ],
      "metadata": {
        "id": "HqwS1wemGFI8"
      },
      "execution_count": null,
      "outputs": []
    },
    {
      "cell_type": "markdown",
      "source": [
        "### Dataset Rows & Columns count"
      ],
      "metadata": {
        "id": "7hBIi_osiCS2"
      }
    },
    {
      "cell_type": "code",
      "source": [
        "# Rows & Columns count\n",
        "rows = Gtd_df.shape[0]\n",
        "columns = Gtd_df.shape[1]\n",
        "print(f\"Rows - {rows}\\nColumns - {columns}\")"
      ],
      "metadata": {
        "id": "Kllu7SJgmLij"
      },
      "execution_count": null,
      "outputs": []
    },
    {
      "cell_type": "markdown",
      "source": [
        "### Dataset Information"
      ],
      "metadata": {
        "id": "JlHwYmJAmNHm"
      }
    },
    {
      "cell_type": "code",
      "source": [
        "# Dataset Info - displays no.of rows, no.of columns, specific column names, no.of Non-null values for each column, its Datatype\n",
        "Gtd_df.info()"
      ],
      "metadata": {
        "id": "e9hRXRi6meOf"
      },
      "execution_count": null,
      "outputs": []
    },
    {
      "cell_type": "markdown",
      "source": [
        "#### Duplicate Values"
      ],
      "metadata": {
        "id": "35m5QtbWiB9F"
      }
    },
    {
      "cell_type": "code",
      "source": [
        "# Dataset Duplicate Value Count\n",
        "duplicate_count = len(Gtd_df[Gtd_df.duplicated()])\n",
        "print(f\"Duplicate Rows = {duplicate_count}\")"
      ],
      "metadata": {
        "id": "1sLdpKYkmox0"
      },
      "execution_count": null,
      "outputs": []
    },
    {
      "cell_type": "markdown",
      "source": [
        "#### Missing Values/Null Values"
      ],
      "metadata": {
        "id": "PoPl-ycgm1ru"
      }
    },
    {
      "cell_type": "code",
      "source": [
        "# Missing Values/Null Values Count\n",
        "Gtd_df.isnull().sum()"
      ],
      "metadata": {
        "id": "GgHWkxvamxVg"
      },
      "execution_count": null,
      "outputs": []
    },
    {
      "cell_type": "code",
      "source": [
        "# Visualizing the missing values using \"Heatmap\" - columns with missing values\n",
        "sns.heatmap(Gtd_df.isnull(),yticklabels=False,cbar=False,cmap='viridis')\n",
        "plt.show()"
      ],
      "metadata": {
        "id": "3q5wnI3om9sJ"
      },
      "execution_count": null,
      "outputs": []
    },
    {
      "cell_type": "markdown",
      "source": [
        "### What did you know about your dataset?"
      ],
      "metadata": {
        "id": "H0kj-8xxnORC"
      }
    },
    {
      "cell_type": "markdown",
      "source": [
        "1. The Dataset is the **GTD (Global Terrorism Database)** containig the records of **Terrorist Attacks** that took place around the world **since 1970**.\n",
        "2. GTD is maintained by the **National Consortium for the Study of Terrorism\n",
        "and Responses to Terrorism (START)** at the University of Maryland.\n",
        "3. There are **181692 entries/rows** and **135 features/columns** in the dataset.\n",
        "4. The features broadly gives information about:\n",
        "\n",
        "\n",
        "> The **date and location** of the attack, the **criterion** the incident should meet, to get included in the database, **whether** incident is an **act of terrorism** or identifying the most likely **categorization** of the incident other than terrorism.\n",
        "\n",
        "\n",
        "> Was an attack a part of **multiple planned attacks** and which attacks were **related to each other**, is the act **succesfull**, is it a **suicidal attack**, the **type of attack**, type of **weapons** used, type of **target** and their **Nationality** .\n",
        "\n",
        "\n",
        "> Name of **Terrorist groups**, **motive** behind the attack, **no. of perpetrators** involved (individual/group), amongst them no.of them **captured** by the authority, **responsibility claimed** by terrorist group for an attack.\n",
        "\n",
        "\n",
        "> No. of people **killed or wounded**, the **property damaged** during attack, the **monetary value** of the damage occured, no. of **hostages kidnapped**, after how many **hours or days** the hostages were released.\n",
        "\n",
        "\n",
        "> Is the flight **hijacked**, the **alternate destination** it was diverted to. The **ransom amount** demanded. The attack categorised according to the **nationality of the perpetrator, target or location** of incident. At last, the name of the **original data collection team**.\n",
        "\n",
        "5. There are few **Dependent variables** like **region and city** for specific country, **resolution date** where the incident **extended** more than 1 day, **alternative crime** if incident was not terrorism related, no.of **hours or days** the hostages were under kidnap stage, date of hostages **released**, **ransom amount** demanded, **multiple attacks** if **related** to each other. And the rest of the variables are **Independent Variables**.\n",
        "6. I have selected **33 features/columns** and all rows for EDA. There are **6 Numerical** variables and **27 Categorical** Variables. But, in the information above, you can find **15 categorical variables in the form of Numerical format** here by **reflecting as 21 features as int/float datatype and 12 as object datatype**.\n",
        "7. We select only those **features that hold value** for the EDA analysis, care was taken to consider features which had **good amount of data with less null values**, if any **feature was selected** even after having **greater amount of null values**, it is because **I want to show specific trends in the available data that add value to the insights and outcome**.\n",
        "\n",
        "\n",
        "\n",
        "\n",
        "\n",
        "\n",
        "\n",
        "\n",
        "\n"
      ],
      "metadata": {
        "id": "gfoNAAC-nUe_"
      }
    },
    {
      "cell_type": "markdown",
      "source": [
        "## ***2. Understanding Your Variables***"
      ],
      "metadata": {
        "id": "nA9Y7ga8ng1Z"
      }
    },
    {
      "cell_type": "code",
      "source": [
        "# Dataset Columns\n",
        "Gtd_df.columns"
      ],
      "metadata": {
        "id": "j7xfkqrt5Ag5"
      },
      "execution_count": null,
      "outputs": []
    },
    {
      "cell_type": "code",
      "source": [
        "# Dataset Describe\n",
        "Gtd_df.describe()"
      ],
      "metadata": {
        "id": "DnOaZdaE5Q5t"
      },
      "execution_count": null,
      "outputs": []
    },
    {
      "cell_type": "markdown",
      "source": [
        "### Variables Description"
      ],
      "metadata": {
        "id": "PBTbrJXOngz2"
      }
    },
    {
      "cell_type": "markdown",
      "source": [
        "1. **Event_ID** - Each incident has 12-digits. First 8 digits is date(YYYYMMDD). Last 4 numbers is sequential case number for the given day (0001, 0002 etc).\n",
        "2. **Year,Month,Day** - These together indicates the date of incident happened. If the exact month/day of the event is unknown, this is recorded as “0”.\n",
        "3. **Approx_date** - If exact date of incident is unclear, this field records the approximate date of the incident.\n",
        "4. **Extended** - Affirms duration of an incident extended more than 24 hours.\n",
        "5. **Country** -  Identifies the country where the incident occurred.\n",
        "6. **Region** - Region in specific country where incident occured.\n",
        "7. **City** - Name of the city, village, or town in which the incident occurred.\n",
        "8. **Vicinity** - Incident occurred in the immediate vicinity of the city in question or in the city itself.\n",
        "\n",
        "**Inclusion Criteria (Criteria 1, 2 & 3)**- Records which of the inclusion criteria (in addition to the necessary criteria) are met. This allows to filter out those incidents whose inclusion was based on specific criterion to get added into GTD.\n",
        "> 9. **Criteria_1** - Aimed at attaining a political, economic, religious, or social goal.\n",
        "> 10. **Criteria_2** - Intention to coerce, intimidate, or convey some other message to a larger audience than the immediate victims.\n",
        "> 11. **Criteria_3** - The action is outside the context of legitimate warfare activities/ Outside the parameters permitted by international humanitarian law.\n",
        "\n",
        "12. **Doubtfull** - In some ambiguous cases, there is doubt as to whether the incident is an act of terrorism.\n",
        "13. **Alternate** - In case of doubtfull attack, identifies the most likely categorization of the incident other than terrorism.\n",
        "14. **Multiple** - Cases where several attacks are connected, but where the various actions do not constitute a single incident.\n",
        "15. **Success** - Defined according to the tangible effects of the attack. Success is not judged in terms of the larger goals of the perpetrators.\n",
        "16. **Suicide** - The attack where there is evidence that the perpetrator did not intend to escape from the attack alive.\n",
        "17. **Attack_type** - Captures the general method of attack and reflects the broad class of tactics used.\n",
        "18. **Target_type** - When a victim is attacked specifically because of his/her relationship to a prominent figure, the target type reflects that motive.\n",
        "19. **Terrorist_grp** - Name of the group that carried out the attack.\n",
        "20. **Individual** -Attack was carried out by an individual or several individuals not known to be affiliated with a specific terrorist group.\n",
        "21. **Weapon_type** - Weapons used in an attack are recorded.\n",
        "22. **Killed** - No.of total confirmed fatalities for the incident. Includes all victims and attackers who died as a direct result of the incident.\n",
        "23. **Wounded** - No.of confirmed non-fatal injuries to both perpetrators and victims.\n",
        "24. **Prop_damage** - Evidence of property damage from the incident.\n",
        "25. **kidnapped** - The victims were taken hostage or kidnapped.\n",
        "26. **Db_source** - This field identifies the original data collection group.\n",
        "27. **Related** - When an attack is part of a coordinated, multi-part incident, the Event_IDs of the related incidents are listed here.\n",
        "28. **Claim_mode** - Mode of claimants to claim responsibility for attack, is useful to verify authenticity, track trends in behavior.\n",
        "29. **Int_logistics** - Attack is logistically international if Nationality of the perpetrator group differs from the location of the attack.\n",
        "30. **Int_ideological** - Attack is ideologically international if Nationality of perpetrator group differs from the nationality of the target/victim.\n",
        "31. **Int_Miscellaneous** - Attack is Miscellaneous international if location of attack differs from the nationality of the target/victim."
      ],
      "metadata": {
        "id": "aJV4KIxSnxay"
      }
    },
    {
      "cell_type": "markdown",
      "source": [],
      "metadata": {
        "id": "V1IwBt9asEUv"
      }
    },
    {
      "cell_type": "markdown",
      "source": [
        "### Check Unique Values for each variable."
      ],
      "metadata": {
        "id": "u3PMJOP6ngxN"
      }
    },
    {
      "cell_type": "code",
      "source": [
        "# Check Unique No.of Values for each variable.\n",
        "for column in Gtd_df.columns:\n",
        "    num_unique_values = Gtd_df[column].nunique()\n",
        "    print(f\"\\033[1m{column}\\033[0m : {num_unique_values}\")"
      ],
      "metadata": {
        "id": "zms12Yq5n-jE"
      },
      "execution_count": null,
      "outputs": []
    },
    {
      "cell_type": "code",
      "source": [
        "# Unique values(181691) for \"Event ID\"\n",
        "Gtd_df['Event_ID'].unique()"
      ],
      "metadata": {
        "id": "dJ2kqKmM-uaX"
      },
      "execution_count": null,
      "outputs": []
    },
    {
      "cell_type": "code",
      "source": [
        "# Unique values(47) for \"Year\" - 1970 to 2017\n",
        "Gtd_df['Year'].unique()"
      ],
      "metadata": {
        "id": "0vHslkle-uHg"
      },
      "execution_count": null,
      "outputs": []
    },
    {
      "cell_type": "code",
      "source": [
        "# Unique values(13) for \"Month\" - 0 to 12 - (\"0\" - where exact month is unknown)\n",
        "Gtd_df['Month'].unique()"
      ],
      "metadata": {
        "id": "GsjbItsC-uBl"
      },
      "execution_count": null,
      "outputs": []
    },
    {
      "cell_type": "code",
      "source": [
        "# Unique values(32) for \"Day\" - 0 to 31 - (\"0\" - where exact day is unknown)\n",
        "Gtd_df['Day'].unique()"
      ],
      "metadata": {
        "id": "LZa3501V-t8Q"
      },
      "execution_count": null,
      "outputs": []
    },
    {
      "cell_type": "code",
      "source": [
        "# Unique values(2244) for \"Approx_date\" - range of date is given when exact date is not known.\n",
        "Gtd_df['Approx_date'].unique()"
      ],
      "metadata": {
        "id": "ITMOnP74-tx5"
      },
      "execution_count": null,
      "outputs": []
    },
    {
      "cell_type": "code",
      "source": [
        "# Unique values for \"Extended\" : \"1\"- attack incident extended more than 24 hours in a day.\n",
        "Gtd_df['Extended'].unique()"
      ],
      "metadata": {
        "id": "znjpvGDk-tud"
      },
      "execution_count": null,
      "outputs": []
    },
    {
      "cell_type": "code",
      "source": [
        "# Unique values(205) for \"Country\"\n",
        "Gtd_df['Country'].unique()"
      ],
      "metadata": {
        "id": "DJgMUIW_-tqA"
      },
      "execution_count": null,
      "outputs": []
    },
    {
      "cell_type": "code",
      "source": [
        "# Unique values(12) for \"Region\" - dependent on country coded for an incident\n",
        "Gtd_df['Region'].unique()"
      ],
      "metadata": {
        "id": "u4-fOtZX-tdH"
      },
      "execution_count": null,
      "outputs": []
    },
    {
      "cell_type": "code",
      "source": [
        "# Unique values(36674) for \"City\" - If city cannot be identified, it is coded as “Unknown”.\n",
        "Gtd_df['City'].unique()"
      ],
      "metadata": {
        "id": "xYRCuLBI-tYg"
      },
      "execution_count": null,
      "outputs": []
    },
    {
      "cell_type": "code",
      "source": [
        "# Unique values for \"Vicinity\" - \"1\" - incident occured in immediate vicinity of the city\n",
        "                             # - \"0\" - incident occured in city itself\n",
        "                             # - \"-9\" - if unknown\n",
        "Gtd_df['Vicinity'].unique()"
      ],
      "metadata": {
        "id": "fDNTT12M-tVC"
      },
      "execution_count": null,
      "outputs": []
    },
    {
      "cell_type": "code",
      "source": [
        "# Unique values for \"Criteria-1\" - \"1\" - meets criteria of \"POLITICAL, ECONOMIC, RELIGIOUS, OR SOCIAL GOAL\".\n",
        "Gtd_df['Criteria_1'].unique()"
      ],
      "metadata": {
        "id": "ufn83qPY-tFy"
      },
      "execution_count": null,
      "outputs": []
    },
    {
      "cell_type": "code",
      "source": [
        "# Unique values for \"Criteria-2\" - \"1\" - meets criteria of \"INTENTION TO COERCE, INTIMIDATE OR PUBLICIZE TO LARGER AUDIENCE\".\n",
        "Gtd_df['Criteria_2'].unique()"
      ],
      "metadata": {
        "id": "UdsPcQfR-tCb"
      },
      "execution_count": null,
      "outputs": []
    },
    {
      "cell_type": "code",
      "source": [
        "# Unique values for \"Criteria-3\" - \"1\" - meets criteria of \"OUTSIDE INTERNATIONAL HUMANITARIAN LAW\".\n",
        "Gtd_df['Criteria_3'].unique()"
      ],
      "metadata": {
        "id": "3EfH8mAe-s-Q"
      },
      "execution_count": null,
      "outputs": []
    },
    {
      "cell_type": "code",
      "source": [
        "# Unique values for \"Doubtful\" - \"1\" - doubt as to whether the incident is an act of terrorism.\n",
        "                              # \"-9\" - If this variable was not included in the data collection process at the time the case was coded.\n",
        "Gtd_df['Doubtful'].unique()"
      ],
      "metadata": {
        "id": "J4PsLKmh-swB"
      },
      "execution_count": null,
      "outputs": []
    },
    {
      "cell_type": "code",
      "source": [
        "# Unique values(5) for \"Alternate\" - dependent on \"Doubtful\" variable - most likely categorization of the incident other than terrorism.\n",
        "Gtd_df['Alternate'].unique()"
      ],
      "metadata": {
        "id": "Ec3Jfder-ssj"
      },
      "execution_count": null,
      "outputs": []
    },
    {
      "cell_type": "code",
      "source": [
        "# Unique values for \"Multiple\" - Where several attacks are connected\n",
        "                        # \"1\" - The attack is part of a multiple incident.\n",
        "                       # \"nan\" - If the value is unknown.\n",
        "Gtd_df['Multiple'].unique()"
      ],
      "metadata": {
        "id": "OzhVfYqz-sox"
      },
      "execution_count": null,
      "outputs": []
    },
    {
      "cell_type": "code",
      "source": [
        "# Unique values of \"Success\" - \"1\" - succesfull / evidence of tangible effects of the attack.\n",
        "Gtd_df['Success'].unique()"
      ],
      "metadata": {
        "id": "afb4_10O-sWw"
      },
      "execution_count": null,
      "outputs": []
    },
    {
      "cell_type": "code",
      "source": [
        "# Unique values of \"Suicide\" - \"1\" - The incident was a suicide attack.\n",
        "Gtd_df['Suicide'].unique()"
      ],
      "metadata": {
        "id": "WVbA6lJt-sTU"
      },
      "execution_count": null,
      "outputs": []
    },
    {
      "cell_type": "code",
      "source": [
        "# Unique values(9) for \"Attack-type\" - If an attacktype is not listed, coded as \"Unknown\".\n",
        "Gtd_df['Attack_type'].unique()"
      ],
      "metadata": {
        "id": "WocZcmah-sPO"
      },
      "execution_count": null,
      "outputs": []
    },
    {
      "cell_type": "code",
      "source": [
        "# Unique values(22) for \"Target-type\" - If an target type is not listed, coded as \"Unknown\".\n",
        "Gtd_df['Target_type'].unique()"
      ],
      "metadata": {
        "id": "V9D2TFF5-sCb"
      },
      "execution_count": null,
      "outputs": []
    },
    {
      "cell_type": "code",
      "source": [
        "# Unique values(3537) for \"Terrorist group\" - if group is not identified, coded as “Unknown”.\n",
        "Gtd_df['Terrorist_grp'].unique()"
      ],
      "metadata": {
        "id": "-S4DFtu1-r9U"
      },
      "execution_count": null,
      "outputs": []
    },
    {
      "cell_type": "code",
      "source": [
        "# Unique values for \"Individual\" - \"1\" - The perpetrator not known to be affiliated with a group or organization.\n",
        "Gtd_df['Individual'].unique()"
      ],
      "metadata": {
        "id": "SoRGB98J-r52"
      },
      "execution_count": null,
      "outputs": []
    },
    {
      "cell_type": "code",
      "source": [
        "# Unique values(12) for \"Weapon-type\" - (Unknown - if weapon type cannot be determined from the available information).\n",
        "Gtd_df['Weapon_type'].unique()"
      ],
      "metadata": {
        "id": "3Xau6ks7-rl8"
      },
      "execution_count": null,
      "outputs": []
    },
    {
      "cell_type": "code",
      "source": [
        "# Unique values(205) for \"Killed\".\n",
        "Gtd_df['Killed'].unique()"
      ],
      "metadata": {
        "id": "gI0wqa85-rii"
      },
      "execution_count": null,
      "outputs": []
    },
    {
      "cell_type": "code",
      "source": [
        "# Unique values(238) for \"Wounded\".\n",
        "Gtd_df['Wounded'].unique()"
      ],
      "metadata": {
        "id": "YmPauuWh-re-"
      },
      "execution_count": null,
      "outputs": []
    },
    {
      "cell_type": "code",
      "source": [
        "# Unique values for \"Property-damage\" - \"1\" - The incident resulted in property damage.\n",
        "                                     # \"-9\" - Unknown if the incident resulted in property damage.\n",
        "Gtd_df['Prop_damage'].unique()"
      ],
      "metadata": {
        "id": "SH_UcZRa-rRD"
      },
      "execution_count": null,
      "outputs": []
    },
    {
      "cell_type": "code",
      "source": [
        "# Unique values for \"Kidnapped\" - \"1\" - The victims were taken hostage or kidnapped.\n",
        "                               # \"-9\" - Unknown if the victims were taken hostage or kidnapped.\n",
        "Gtd_df['kidnapped'].unique()"
      ],
      "metadata": {
        "id": "fmVsovxz-rNi"
      },
      "execution_count": null,
      "outputs": []
    },
    {
      "cell_type": "code",
      "source": [
        "# Unique values(26) for \"Database-source\" - Original data collection effort team in which each event was recorded.\n",
        "Gtd_df['Db_source'].unique()"
      ],
      "metadata": {
        "id": "2j3Au_bx-rKS"
      },
      "execution_count": null,
      "outputs": []
    },
    {
      "cell_type": "code",
      "source": [
        "# Unique values(14306) for \"Related\" - When an attack is part of a coordinated, multi-part incident.\n",
        "                      # The GTD IDs of the related incidents are listed here, separated by commas.\n",
        "Gtd_df['Related'].unique()"
      ],
      "metadata": {
        "id": "83UifzcP-qYG"
      },
      "execution_count": null,
      "outputs": []
    },
    {
      "cell_type": "code",
      "source": [
        "# Unique values(10) for \"Mode for Claim of Responsibility\" - (Unknown - if claim-mode is not known)\n",
        "Gtd_df['Claim_mode'].unique()"
      ],
      "metadata": {
        "id": "0oGFrnYX-qT3"
      },
      "execution_count": null,
      "outputs": []
    },
    {
      "cell_type": "code",
      "source": [
        "# Unique values for \"International- Logistical\" - \"1\"- The nationality of the perpetrator group differs from the location of the attack.\n",
        "          # \"-9\" - Unknown if the attack was logistically international or domestic; the nationality of the perpetrator group is unknown.\n",
        "Gtd_df['Int_logistics'].unique()"
      ],
      "metadata": {
        "id": "kpUaLE41-qQR"
      },
      "execution_count": null,
      "outputs": []
    },
    {
      "cell_type": "code",
      "source": [
        "# Unique values for \"International- Ideological\" - \"1\" - Nationality of the perpetrator group differs from nationality of target/victim.\n",
        "      # \"-9\" - Unknown if the attack was logistically international or domestic; nationality of perpetrator group/target/victim is unknown.\n",
        "Gtd_df['Int_ideological'].unique()"
      ],
      "metadata": {
        "id": "v_3eZz7G-qNj"
      },
      "execution_count": null,
      "outputs": []
    },
    {
      "cell_type": "code",
      "source": [
        "# Unique values for \"International- Miscellaneous\" - \"1\" - Location of attack differs from nationality of target/victim.\n",
        "      # \"-9\" - Unknown if the attack was miscellaneous international or domestic; nationality of target/victim is unknown.\n",
        "Gtd_df['Int_Miscellaneous'].unique()"
      ],
      "metadata": {
        "id": "GsnI90DP-qK5"
      },
      "execution_count": null,
      "outputs": []
    },
    {
      "cell_type": "markdown",
      "source": [
        "## 3. ***Data Wrangling***"
      ],
      "metadata": {
        "id": "dauF4eBmngu3"
      }
    },
    {
      "cell_type": "markdown",
      "source": [
        "### Data Wrangling Code"
      ],
      "metadata": {
        "id": "bKJF3rekwFvQ"
      }
    },
    {
      "cell_type": "code",
      "source": [
        "# Write your code to make your dataset analysis ready.\n",
        "# Finding the columns with missing values.\n",
        "[(f\"{feature} : {Gtd_df[feature].isnull().sum()}\") for feature in Gtd_df.columns if Gtd_df[feature].isnull().sum()>0]"
      ],
      "metadata": {
        "id": "wk-9a2fpoLcV"
      },
      "execution_count": null,
      "outputs": []
    },
    {
      "cell_type": "code",
      "source": [
        "# Cleaning the \"Approx_date\" column with \"172452\" nan values - *Dependent variable*\n",
        "      # 1. filling nan with \"Not given\" where the day/month is \"0\" as approx date is dependent on day/month variables where exact value is notknown.\n",
        "      # 2. coding all the remaining nan as \"Not Appliable\" (approx date is valid only when exact date is not known)\n",
        "\n",
        "Gtd_df.loc[(Gtd_df['Day'] == 0) | (Gtd_df['Month'] == 0), ['Approx_date']] = Gtd_df['Approx_date'].fillna('Not given')\n",
        "Gtd_df = Gtd_df.copy()\n",
        "Gtd_df['Approx_date'] = Gtd_df['Approx_date'].fillna('Not Applicable')\n",
        "print(f\"No.of null values in Approx_date column is : {Gtd_df['Approx_date'].isnull().sum()}\")"
      ],
      "metadata": {
        "id": "cSX419PsVQ57"
      },
      "execution_count": null,
      "outputs": []
    },
    {
      "cell_type": "code",
      "source": [
        "# Cleaning the \"City\" column with \"434\" nan values\n",
        "Gtd_df.loc[:,'City'].fillna('Not given',inplace=True)\n",
        "print(f\"No.of null values in City column is : {Gtd_df['City'].isnull().sum()}\")"
      ],
      "metadata": {
        "id": "Xpmi4CwvbgI-"
      },
      "execution_count": null,
      "outputs": []
    },
    {
      "cell_type": "code",
      "source": [
        "# Cleaning the \"Doubtful\" column with \"1\" nan value\n",
        "Gtd_df.loc[:,'Doubtful'].fillna(-1,inplace=True)\n",
        "print(f\"No.of null values in Doubtful column is : {Gtd_df['Doubtful'].isnull().sum()}\")"
      ],
      "metadata": {
        "id": "iMzMCiVh7AgG"
      },
      "execution_count": null,
      "outputs": []
    },
    {
      "cell_type": "code",
      "source": [
        "# Cleaning the \"Alternate\" column with \"152680\" nan values\n",
        "Gtd_df.loc[:,'Alternate'].fillna('Not given',inplace=True)\n",
        "print(f\"No.of null values in Alternate column is : {Gtd_df['Alternate'].isnull().sum()}\")"
      ],
      "metadata": {
        "id": "U5aWaxf87Ac3"
      },
      "execution_count": null,
      "outputs": []
    },
    {
      "cell_type": "code",
      "source": [
        "# Cleaning the \"Multiple\" column with \"1\" nan value\n",
        "Gtd_df.loc[:,'Multiple'].fillna(-1,inplace=True)\n",
        "print(f\"No.of null values in Multiple column is : {Gtd_df['Multiple'].isnull().sum()}\")"
      ],
      "metadata": {
        "id": "WWPvjIZp7AaE"
      },
      "execution_count": null,
      "outputs": []
    },
    {
      "cell_type": "code",
      "source": [
        "# Cleaning the \"Killed\" column with \"10313\" nan values\n",
        "Gtd_df.loc[:,'Killed'].fillna(-1,inplace=True)\n",
        "print(f\"No.of null values in Killed column is : {Gtd_df['Killed'].isnull().sum()}\")"
      ],
      "metadata": {
        "id": "tdWzqU2_7AXC"
      },
      "execution_count": null,
      "outputs": []
    },
    {
      "cell_type": "code",
      "source": [
        "# Cleaning the \"Wounded\" column with \"16311\" nan values\n",
        "Gtd_df.loc[:,'Wounded'].fillna(-1,inplace=True)\n",
        "print(f\"No.of null values in Wounded column is : {Gtd_df['Wounded'].isnull().sum()}\")"
      ],
      "metadata": {
        "id": "nVx-M65W7AGW"
      },
      "execution_count": null,
      "outputs": []
    },
    {
      "cell_type": "code",
      "source": [
        "# Cleaning the \"kidnapped\" column with \"178\" nan values\n",
        "Gtd_df.loc[:,'kidnapped'].fillna(-1,inplace=True)\n",
        "print(f\"No.of null values in kidnapped column is : {Gtd_df['kidnapped'].isnull().sum()}\")"
      ],
      "metadata": {
        "id": "rzQS1oQ1HZtF"
      },
      "execution_count": null,
      "outputs": []
    },
    {
      "cell_type": "code",
      "source": [
        "# Cleaning the \"Related\" column with \"156653\" nan values - *Dependent Variable* - dependent on \"Multiple column\".\n",
        "    # For all the positive values under \"Multiple\" column, related incident's Event_IDs are given here, separated by commas.\n",
        "    # remaining nan values are the rows where it is not applicable as those incidents are not part of coordinated, multi-part incident.\n",
        "\n",
        "Gtd_df.loc[:,'Related'].fillna('Not Applicable',inplace=True)\n",
        "print(f\"No.of null values in Related column is : {Gtd_df['Related'].isnull().sum()}\")"
      ],
      "metadata": {
        "id": "pcUSk0TEJLkW"
      },
      "execution_count": null,
      "outputs": []
    },
    {
      "cell_type": "code",
      "source": [
        "# Cleaning the \"Claim_mode\" column with \"162608\" nan values\n",
        "Gtd_df.loc[:,'Claim_mode'].fillna('Not Applicable',inplace=True)\n",
        "print(f\"No.of null values in Claim_mode column is : {Gtd_df['Claim_mode'].isnull().sum()}\")"
      ],
      "metadata": {
        "id": "hMmM-B0LJLaH"
      },
      "execution_count": null,
      "outputs": []
    },
    {
      "cell_type": "code",
      "source": [
        "# Visualizing the missing values using \"Heatmap\" after cleaning the dataset\n",
        "sns.heatmap(Gtd_df.isnull(),yticklabels=False,cbar=False,cmap='viridis')\n",
        "plt.show()"
      ],
      "metadata": {
        "id": "T4EsqjHBJLO3"
      },
      "execution_count": null,
      "outputs": []
    },
    {
      "cell_type": "code",
      "source": [
        "Gtd_df.info()"
      ],
      "metadata": {
        "id": "KWisuW-gxvtm"
      },
      "execution_count": null,
      "outputs": []
    },
    {
      "cell_type": "code",
      "source": [
        "Gtd_df[['Doubtful','Multiple','Killed','Wounded','kidnapped']] = Gtd_df[['Doubtful','Multiple','Killed','Wounded','kidnapped']].astype(int)"
      ],
      "metadata": {
        "id": "x4DS6st6z05l"
      },
      "execution_count": null,
      "outputs": []
    },
    {
      "cell_type": "code",
      "source": [
        "Gtd_df.info()"
      ],
      "metadata": {
        "id": "3E9m17Hs6WTT"
      },
      "execution_count": null,
      "outputs": []
    },
    {
      "cell_type": "markdown",
      "source": [
        "### What all manipulations have you done and insights you found?"
      ],
      "metadata": {
        "id": "MSa1f5Uengrz"
      }
    },
    {
      "cell_type": "markdown",
      "source": [
        "**Manipulations** :-\n",
        "1. Checked for the columns with null values and listed them out.\n",
        "2. Filled the null values with suitable values.\n",
        "3. In Numerical columns, the null values are replaced with \"-1\" to represent the missing values and to maintain the consistency in the datatype.\n",
        "4. In Categorical columns, null values are replaced with \"Not given\" to represent the missing values and to maintain the consistency in the datatype.\n",
        "5. In Dependent variables, few missing values are replaced with \"Not Applicable\", as dependent variable's values depend on other Independent variables. In many cases, these dependent variables have missing values because variables did not meet a certain condition.\n",
        "6. Visualizing the dataframe to screen for any null values using heapmap.\n",
        "7. Converting the datatypes from float datatype to integer datatype to optimize the memory usage.\n",
        "**Insights** :-\n",
        "1. In visualization of heatmap after Data Wrangling process, it is seen that, null values from all the columns are handled.\n",
        "2. Datatype inconsistencies are handled, now data types are intact.\n",
        "3. The dataframe is ready for analysis in all ways."
      ],
      "metadata": {
        "id": "LbyXE7I1olp8"
      }
    },
    {
      "cell_type": "markdown",
      "source": [
        "## ***4. Data Vizualization, Storytelling & Experimenting with charts : Understand the relationships between variables***"
      ],
      "metadata": {
        "id": "GF8Ens_Soomf"
      }
    },
    {
      "cell_type": "markdown",
      "source": [
        "**YEAR WITH MOST ATTACKS**"
      ],
      "metadata": {
        "id": "dcu7ToU9l03N"
      }
    },
    {
      "cell_type": "markdown",
      "source": [
        "#### Chart - 1"
      ],
      "metadata": {
        "id": "0wOQAZs5pc--"
      }
    },
    {
      "cell_type": "code",
      "source": [
        "# Visualization of \"Number of Attacks by Year\"\n",
        "count_by_year = Gtd_df.groupby('Year')['Year'].count()\n",
        "\n",
        "plt.figure(figsize=(20,8))\n",
        "colors = plt.cm.viridis(count_by_year/float(max(count_by_year)))\n",
        "\n",
        "plt.bar(count_by_year.index,count_by_year.values, color=colors)\n",
        "plt.title('Number of Attacks by Year',size=20)\n",
        "plt.xlabel('Year',size=15)\n",
        "plt.ylabel('Number of Attacks',size=15)\n",
        "plt.xticks(count_by_year.index,rotation=45)\n",
        "\n",
        "cbar = plt.colorbar(plt.cm.ScalarMappable(cmap='viridis'), ax=plt.gca())\n",
        "cbar.set_label('Normalized Count')\n",
        "\n",
        "plt.show()"
      ],
      "metadata": {
        "id": "7v_ESjsspbW7"
      },
      "execution_count": null,
      "outputs": []
    },
    {
      "cell_type": "markdown",
      "source": [
        "##### 1. Why did you pick the specific chart?"
      ],
      "metadata": {
        "id": "K5QZ13OEpz2H"
      }
    },
    {
      "cell_type": "markdown",
      "source": [],
      "metadata": {
        "id": "XESiWehPqBRc"
      }
    },
    {
      "cell_type": "markdown",
      "source": [
        "##### 2. What is/are the insight(s) found from the chart?"
      ],
      "metadata": {
        "id": "lQ7QKXXCp7Bj"
      }
    },
    {
      "cell_type": "markdown",
      "source": [
        "Answer Here"
      ],
      "metadata": {
        "id": "C_j1G7yiqdRP"
      }
    },
    {
      "cell_type": "markdown",
      "source": [
        "##### 3. Will the gained insights help creating a positive business impact?\n",
        "Are there any insights that lead to negative growth? Justify with specific reason."
      ],
      "metadata": {
        "id": "448CDAPjqfQr"
      }
    },
    {
      "cell_type": "markdown",
      "source": [
        "Answer Here"
      ],
      "metadata": {
        "id": "3cspy4FjqxJW"
      }
    },
    {
      "cell_type": "markdown",
      "source": [
        "#### Chart - 2"
      ],
      "metadata": {
        "id": "KSlN3yHqYklG"
      }
    },
    {
      "cell_type": "code",
      "source": [
        "# Visualization of \"Number of Attacks by Month\"\n",
        "count_by_month = Gtd_df['Month'].value_counts().sort_index()\n",
        "max_month = count_by_month.idxmax()\n",
        "colors = ['#FF5733' if idx == max_month else '#3366CC' for idx in count_by_month.index]\n",
        "plt.bar(count_by_month.index, count_by_month.values, color=colors)\n",
        "plt.title('Number of Attacks by Month')\n",
        "plt.xlabel('Month')\n",
        "plt.ylabel('Number of Attacks')\n",
        "plt.xticks(count_by_month.index)\n",
        "plt.show()"
      ],
      "metadata": {
        "id": "t5Y4bL2yNf8a"
      },
      "execution_count": null,
      "outputs": []
    },
    {
      "cell_type": "markdown",
      "source": [
        "##### 1. Why did you pick the specific chart?"
      ],
      "metadata": {
        "id": "t6dVpIINYklI"
      }
    },
    {
      "cell_type": "markdown",
      "source": [
        "Answer Here."
      ],
      "metadata": {
        "id": "5aaW0BYyYklI"
      }
    },
    {
      "cell_type": "markdown",
      "source": [
        "##### 2. What is/are the insight(s) found from the chart?"
      ],
      "metadata": {
        "id": "ijmpgYnKYklI"
      }
    },
    {
      "cell_type": "markdown",
      "source": [
        "Answer Here"
      ],
      "metadata": {
        "id": "PSx9atu2YklI"
      }
    },
    {
      "cell_type": "markdown",
      "source": [
        "##### 3. Will the gained insights help creating a positive business impact?\n",
        "Are there any insights that lead to negative growth? Justify with specific reason."
      ],
      "metadata": {
        "id": "-JiQyfWJYklI"
      }
    },
    {
      "cell_type": "markdown",
      "source": [
        "Answer Here"
      ],
      "metadata": {
        "id": "BcBbebzrYklV"
      }
    },
    {
      "cell_type": "markdown",
      "source": [
        "#### Chart - 3"
      ],
      "metadata": {
        "id": "EM7whBJCYoAo"
      }
    },
    {
      "cell_type": "code",
      "source": [
        "# Visualization of \"Number of Attacks by Day\"\n",
        "count_by_day = Gtd_df['Day'].value_counts().sort_index()\n",
        "\n",
        "plt.figure(figsize=(10,5))\n",
        "plt.plot(count_by_day.index, count_by_day.values, marker='o', linestyle='-')\n",
        "plt.grid(True, linestyle='--', alpha=0.7)\n",
        "plt.title('Number of Attacks by day',size=20)\n",
        "plt.xlabel('Day',size=15)\n",
        "plt.ylabel('Number of Attacks',size=15)\n",
        "\n",
        "plt.xticks(count_by_day.index, rotation=45)\n",
        "\n",
        "plt.show()"
      ],
      "metadata": {
        "id": "t6GMdE67YoAp"
      },
      "execution_count": null,
      "outputs": []
    },
    {
      "cell_type": "markdown",
      "source": [
        "##### 1. Why did you pick the specific chart?"
      ],
      "metadata": {
        "id": "fge-S5ZAYoAp"
      }
    },
    {
      "cell_type": "markdown",
      "source": [
        "Answer Here."
      ],
      "metadata": {
        "id": "5dBItgRVYoAp"
      }
    },
    {
      "cell_type": "markdown",
      "source": [
        "##### 2. What is/are the insight(s) found from the chart?"
      ],
      "metadata": {
        "id": "85gYPyotYoAp"
      }
    },
    {
      "cell_type": "markdown",
      "source": [
        "Answer Here"
      ],
      "metadata": {
        "id": "4jstXR6OYoAp"
      }
    },
    {
      "cell_type": "markdown",
      "source": [
        "##### 3. Will the gained insights help creating a positive business impact?\n",
        "Are there any insights that lead to negative growth? Justify with specific reason."
      ],
      "metadata": {
        "id": "RoGjAbkUYoAp"
      }
    },
    {
      "cell_type": "markdown",
      "source": [
        "Answer Here"
      ],
      "metadata": {
        "id": "zfJ8IqMcYoAp"
      }
    },
    {
      "cell_type": "code",
      "source": [
        "Gtd_df['Approx_date'].unique()"
      ],
      "metadata": {
        "id": "0j9RJF5DBUsw"
      },
      "execution_count": null,
      "outputs": []
    },
    {
      "cell_type": "markdown",
      "source": [
        "#### Chart - 4"
      ],
      "metadata": {
        "id": "4Of9eVA-YrdM"
      }
    },
    {
      "cell_type": "code",
      "source": [
        "# Chart - 4 visualization code\n",
        "conditions = [\n",
        "    (Gtd_df['Approx_date'] == 'Not Applicable'),\n",
        "    (Gtd_df['Approx_date'] == 'Not given'),\n",
        "    (~Gtd_df['Approx_date'].isin(['Not Applicable', 'Not given']))\n",
        "]\n",
        "values = [-1, 0, 1]\n",
        "Gtd_df['Approx_date'] = np.select(conditions, values, default=None)\n",
        "filtered_df = Gtd_df[Gtd_df['Approx_date'].isin([0, 1])]\n",
        "\n",
        "sns.countplot(x='Approx_date', data=filtered_df)\n",
        "plt.xlabel('Exact/Approx Date')\n",
        "plt.ylabel('Count of Attacks')\n",
        "plt.title('Incidents with Exact/Approx Date Recorded')\n",
        "plt.xticks([0,1],['Exact Date','Approx Date'])\n",
        "plt.show()"
      ],
      "metadata": {
        "id": "3a_wRBGVQ6G4"
      },
      "execution_count": null,
      "outputs": []
    },
    {
      "cell_type": "markdown",
      "source": [
        "##### 1. Why did you pick the specific chart?"
      ],
      "metadata": {
        "id": "iky9q4vBYrdO"
      }
    },
    {
      "cell_type": "markdown",
      "source": [
        "Answer Here."
      ],
      "metadata": {
        "id": "aJRCwT6DYrdO"
      }
    },
    {
      "cell_type": "markdown",
      "source": [
        "##### 2. What is/are the insight(s) found from the chart?"
      ],
      "metadata": {
        "id": "F6T5p64dYrdO"
      }
    },
    {
      "cell_type": "markdown",
      "source": [
        "Answer Here"
      ],
      "metadata": {
        "id": "Xx8WAJvtYrdO"
      }
    },
    {
      "cell_type": "markdown",
      "source": [
        "##### 3. Will the gained insights help creating a positive business impact?\n",
        "Are there any insights that lead to negative growth? Justify with specific reason."
      ],
      "metadata": {
        "id": "y-Ehk30pYrdP"
      }
    },
    {
      "cell_type": "markdown",
      "source": [
        "Answer Here"
      ],
      "metadata": {
        "id": "jLNxxz7MYrdP"
      }
    },
    {
      "cell_type": "markdown",
      "source": [
        "#### Chart - 5"
      ],
      "metadata": {
        "id": "bamQiAODYuh1"
      }
    },
    {
      "cell_type": "code",
      "source": [
        "# To Visualize Events that extended more than 24 hours\n",
        "extended = Gtd_df['Extended'].value_counts()\n",
        "plt.pie(extended,labels=['Not Extended', 'Extended'], autopct='%1.1f%%', startangle=45, explode=(0, 0.2))\n",
        "plt.title('Events Extended more than 24 hrs')\n",
        "plt.show()"
      ],
      "metadata": {
        "id": "TIJwrbroYuh3"
      },
      "execution_count": null,
      "outputs": []
    },
    {
      "cell_type": "markdown",
      "source": [
        "##### 1. Why did you pick the specific chart?"
      ],
      "metadata": {
        "id": "QHF8YVU7Yuh3"
      }
    },
    {
      "cell_type": "markdown",
      "source": [
        "Answer Here."
      ],
      "metadata": {
        "id": "dcxuIMRPYuh3"
      }
    },
    {
      "cell_type": "markdown",
      "source": [
        "##### 2. What is/are the insight(s) found from the chart?"
      ],
      "metadata": {
        "id": "GwzvFGzlYuh3"
      }
    },
    {
      "cell_type": "markdown",
      "source": [
        "Answer Here"
      ],
      "metadata": {
        "id": "uyqkiB8YYuh3"
      }
    },
    {
      "cell_type": "markdown",
      "source": [
        "##### 3. Will the gained insights help creating a positive business impact?\n",
        "Are there any insights that lead to negative growth? Justify with specific reason."
      ],
      "metadata": {
        "id": "qYpmQ266Yuh3"
      }
    },
    {
      "cell_type": "markdown",
      "source": [
        "Answer Here"
      ],
      "metadata": {
        "id": "_WtzZ_hCYuh4"
      }
    },
    {
      "cell_type": "markdown",
      "source": [
        "#### Chart - 6"
      ],
      "metadata": {
        "id": "OH-pJp9IphqM"
      }
    },
    {
      "cell_type": "code",
      "source": [
        "# To Visualize Top 10 Countries with Higher number of Attacks\n",
        "count_by_country=Gtd_df.groupby('Country')['Country'].count().sort_values(ascending=False)[:10]\n",
        "plt.figure(figsize=(10,5))\n",
        "sns.scatterplot(data=count_by_country,x=count_by_country.index,y=count_by_country.values)\n",
        "plt.grid(True, linestyle='--', alpha=0.7)\n",
        "plt.xlabel('Country')\n",
        "plt.ylabel('Count of Attacks')\n",
        "plt.title('Top 10 Countries with Higher number of Attacks')\n",
        "plt.xticks(rotation=90)\n",
        "plt.show()"
      ],
      "metadata": {
        "id": "kuRf4wtuphqN"
      },
      "execution_count": null,
      "outputs": []
    },
    {
      "cell_type": "markdown",
      "source": [
        "##### 1. Why did you pick the specific chart?"
      ],
      "metadata": {
        "id": "bbFf2-_FphqN"
      }
    },
    {
      "cell_type": "markdown",
      "source": [
        "Answer Here."
      ],
      "metadata": {
        "id": "loh7H2nzphqN"
      }
    },
    {
      "cell_type": "markdown",
      "source": [
        "##### 2. What is/are the insight(s) found from the chart?"
      ],
      "metadata": {
        "id": "_ouA3fa0phqN"
      }
    },
    {
      "cell_type": "markdown",
      "source": [
        "Answer Here"
      ],
      "metadata": {
        "id": "VECbqPI7phqN"
      }
    },
    {
      "cell_type": "markdown",
      "source": [
        "##### 3. Will the gained insights help creating a positive business impact?\n",
        "Are there any insights that lead to negative growth? Justify with specific reason."
      ],
      "metadata": {
        "id": "Seke61FWphqN"
      }
    },
    {
      "cell_type": "markdown",
      "source": [
        "Answer Here"
      ],
      "metadata": {
        "id": "DW4_bGpfphqN"
      }
    },
    {
      "cell_type": "markdown",
      "source": [
        "#### Chart - 7"
      ],
      "metadata": {
        "id": "PIIx-8_IphqN"
      }
    },
    {
      "cell_type": "code",
      "source": [
        "# Visualizing Attacks in specific Regions\n",
        "count_by_region=Gtd_df.groupby('Region')['Region'].count().sort_values(ascending=False)[:10]\n",
        "plt.pie(count_by_region.values,labels=count_by_region.index,autopct='%1.1f%%')\n",
        "plt.title('Attacks by Region')\n",
        "plt.show()"
      ],
      "metadata": {
        "id": "lqAIGUfyphqO"
      },
      "execution_count": null,
      "outputs": []
    },
    {
      "cell_type": "markdown",
      "source": [
        "##### 1. Why did you pick the specific chart?"
      ],
      "metadata": {
        "id": "t27r6nlMphqO"
      }
    },
    {
      "cell_type": "markdown",
      "source": [
        "Answer Here."
      ],
      "metadata": {
        "id": "iv6ro40sphqO"
      }
    },
    {
      "cell_type": "markdown",
      "source": [
        "##### 2. What is/are the insight(s) found from the chart?"
      ],
      "metadata": {
        "id": "r2jJGEOYphqO"
      }
    },
    {
      "cell_type": "markdown",
      "source": [
        "Answer Here"
      ],
      "metadata": {
        "id": "Po6ZPi4hphqO"
      }
    },
    {
      "cell_type": "markdown",
      "source": [
        "##### 3. Will the gained insights help creating a positive business impact?\n",
        "Are there any insights that lead to negative growth? Justify with specific reason."
      ],
      "metadata": {
        "id": "b0JNsNcRphqO"
      }
    },
    {
      "cell_type": "markdown",
      "source": [
        "Answer Here"
      ],
      "metadata": {
        "id": "xvSq8iUTphqO"
      }
    },
    {
      "cell_type": "markdown",
      "source": [
        "#### Chart - 8"
      ],
      "metadata": {
        "id": "BZR9WyysphqO"
      }
    },
    {
      "cell_type": "code",
      "source": [
        "# Visualizing Cities with Most Attacks\n",
        "count_by_city = Gtd_df['City'].value_counts().sort_values(ascending=False)[:10]\n",
        "explode = (0,0.2,0,0,0,0,0,0,0,0)\n",
        "plt.figure(figsize=(8,8))\n",
        "\n",
        "# Creating a donut pie chart\n",
        "plt.pie(count_by_city, labels=count_by_city.index, autopct='%1.1f%%', startangle=90, wedgeprops=dict(width=0.2), explode=explode)\n",
        "\n",
        "# Drawing a white circle in the center to create the donut effect\n",
        "centre_circle = plt.Circle((0,0),0.70,fc='white')\n",
        "fig = plt.gcf()\n",
        "fig.gca().add_artist(centre_circle)\n",
        "\n",
        "plt.title('Cities with Most Attacks')\n",
        "plt.show()"
      ],
      "metadata": {
        "id": "TdPTWpAVphqO"
      },
      "execution_count": null,
      "outputs": []
    },
    {
      "cell_type": "markdown",
      "source": [
        "##### 1. Why did you pick the specific chart?"
      ],
      "metadata": {
        "id": "jj7wYXLtphqO"
      }
    },
    {
      "cell_type": "markdown",
      "source": [
        "Answer Here."
      ],
      "metadata": {
        "id": "Ob8u6rCTphqO"
      }
    },
    {
      "cell_type": "markdown",
      "source": [
        "##### 2. What is/are the insight(s) found from the chart?"
      ],
      "metadata": {
        "id": "eZrbJ2SmphqO"
      }
    },
    {
      "cell_type": "markdown",
      "source": [
        "Answer Here"
      ],
      "metadata": {
        "id": "mZtgC_hjphqO"
      }
    },
    {
      "cell_type": "markdown",
      "source": [
        "##### 3. Will the gained insights help creating a positive business impact?\n",
        "Are there any insights that lead to negative growth? Justify with specific reason."
      ],
      "metadata": {
        "id": "rFu4xreNphqO"
      }
    },
    {
      "cell_type": "markdown",
      "source": [
        "Answer Here"
      ],
      "metadata": {
        "id": "ey_0qi68phqO"
      }
    },
    {
      "cell_type": "markdown",
      "source": [
        "#### Chart - 9"
      ],
      "metadata": {
        "id": "YJ55k-q6phqO"
      }
    },
    {
      "cell_type": "code",
      "source": [
        "# Visualizing the attacks happend inside City or Vicinity/Surroundings of City\n",
        "filtered_df_vicinity = Gtd_df[(Gtd_df['Vicinity']==0) | (Gtd_df['Vicinity']==1)]\n",
        "plt.figure(figsize=(8, 6))\n",
        "sns.countplot(x='Vicinity', data=filtered_df_vicinity)\n",
        "plt.title('Attacks Inside City or Vicinity',size=15)\n",
        "plt.xlabel('Location',size=12)\n",
        "plt.ylabel('Count of Attacks',size=12)\n",
        "plt.xticks([0,1],['Inside City','City Surroundings'])\n",
        "plt.show()"
      ],
      "metadata": {
        "id": "B2aS4O1ophqO"
      },
      "execution_count": null,
      "outputs": []
    },
    {
      "cell_type": "markdown",
      "source": [
        "##### 1. Why did you pick the specific chart?"
      ],
      "metadata": {
        "id": "gCFgpxoyphqP"
      }
    },
    {
      "cell_type": "markdown",
      "source": [
        "Answer Here."
      ],
      "metadata": {
        "id": "TVxDimi2phqP"
      }
    },
    {
      "cell_type": "markdown",
      "source": [
        "##### 2. What is/are the insight(s) found from the chart?"
      ],
      "metadata": {
        "id": "OVtJsKN_phqQ"
      }
    },
    {
      "cell_type": "markdown",
      "source": [
        "Answer Here"
      ],
      "metadata": {
        "id": "ngGi97qjphqQ"
      }
    },
    {
      "cell_type": "markdown",
      "source": [
        "##### 3. Will the gained insights help creating a positive business impact?\n",
        "Are there any insights that lead to negative growth? Justify with specific reason."
      ],
      "metadata": {
        "id": "lssrdh5qphqQ"
      }
    },
    {
      "cell_type": "markdown",
      "source": [
        "Answer Here"
      ],
      "metadata": {
        "id": "tBpY5ekJphqQ"
      }
    },
    {
      "cell_type": "markdown",
      "source": [
        "#### Chart - 10"
      ],
      "metadata": {
        "id": "U2RJ9gkRphqQ"
      }
    },
    {
      "cell_type": "code",
      "source": [
        "# Visualizing the attacks categorised according to fulfilment of Criteria\n",
        "\n",
        "fig, axes = plt.subplots(nrows=1, ncols=3, figsize=(15, 5), sharey=True)\n",
        "\n",
        "# Plot for Criteria_1\n",
        "Gtd_df['Criteria_1'].value_counts().plot(kind='bar', ax=axes[0], color=['orange', 'skyblue'])\n",
        "axes[0].set_title('Political/Economic/Religious/Social Goal')\n",
        "\n",
        "# Plot for Criteria_2\n",
        "Gtd_df['Criteria_2'].value_counts().plot(kind='bar', ax=axes[1], color=['orange', 'skyblue'])\n",
        "axes[1].set_title('Coerce/Intimidate/Publicize to Larger Audience')\n",
        "\n",
        "# Plot for Criteria_3\n",
        "Gtd_df['Criteria_3'].value_counts().plot(kind='bar', ax=axes[2], color=['orange', 'skyblue'])\n",
        "axes[2].set_title('Outside International Humanitarian Law')\n",
        "\n",
        "# Set common y-axis label\n",
        "fig.text(0.5, 0.04, 'Following Criteria', ha='center', va='center', fontsize=12)\n",
        "fig.text(0.06, 0.5, 'Count', ha='center', va='center', rotation='vertical', fontsize=12)\n",
        "\n",
        "plt.show()"
      ],
      "metadata": {
        "id": "GM7a4YP4phqQ"
      },
      "execution_count": null,
      "outputs": []
    },
    {
      "cell_type": "markdown",
      "source": [
        "##### 1. Why did you pick the specific chart?"
      ],
      "metadata": {
        "id": "1M8mcRywphqQ"
      }
    },
    {
      "cell_type": "markdown",
      "source": [
        "Answer Here."
      ],
      "metadata": {
        "id": "8agQvks0phqQ"
      }
    },
    {
      "cell_type": "markdown",
      "source": [
        "##### 2. What is/are the insight(s) found from the chart?"
      ],
      "metadata": {
        "id": "tgIPom80phqQ"
      }
    },
    {
      "cell_type": "markdown",
      "source": [
        "Answer Here"
      ],
      "metadata": {
        "id": "Qp13pnNzphqQ"
      }
    },
    {
      "cell_type": "markdown",
      "source": [
        "##### 3. Will the gained insights help creating a positive business impact?\n",
        "Are there any insights that lead to negative growth? Justify with specific reason."
      ],
      "metadata": {
        "id": "JMzcOPDDphqR"
      }
    },
    {
      "cell_type": "markdown",
      "source": [
        "Answer Here"
      ],
      "metadata": {
        "id": "R4Ka1PC2phqR"
      }
    },
    {
      "cell_type": "markdown",
      "source": [
        "#### Chart - 11"
      ],
      "metadata": {
        "id": "x-EpHcCOp1ci"
      }
    },
    {
      "cell_type": "code",
      "source": [
        "# Visualizing Doubtful Attacks and their Most likely Crime Type other than Terrorism\n",
        "filtered_df_Doubtful = Gtd_df[(Gtd_df['Doubtful']==0) | (Gtd_df['Doubtful']==1)]\n",
        "filtered_df_Alternate = Gtd_df[(Gtd_df['Alternate']!='Not given')]\n",
        "\n",
        "# Creating subplots with two columns\n",
        "fig, axes = plt.subplots(nrows=1, ncols=2, figsize=(15, 5))\n",
        "\n",
        "# Plot for Doubtful Attacks\n",
        "sns.countplot(x='Doubtful', data=filtered_df_Doubtful, ax=axes[0], palette=['orange', 'skyblue'])\n",
        "axes[0].set_title('Doubtful Attacks')\n",
        "axes[0].set_xlabel('Doubtful')\n",
        "axes[0].set_ylabel('Count')\n",
        "axes[0].set_xticks([0,1],['Terrorism','Doubtful'])\n",
        "\n",
        "# Plot for Most Likely Crime Types other than Terrorism\n",
        "crime_type_counts = filtered_df_Alternate['Alternate'].value_counts()\n",
        "crime_type_counts.plot(kind='bar', ax=axes[1], color='skyblue')\n",
        "axes[1].set_title('Most Likely Crime Types (Other than Terrorism)')\n",
        "axes[1].set_xlabel('Crime Type')\n",
        "axes[1].set_ylabel('Count')\n",
        "\n",
        "# Rotating x-axis labels for better readability in the second plot\n",
        "axes[1].tick_params(axis='x', rotation=45)\n",
        "\n",
        "plt.show()"
      ],
      "metadata": {
        "id": "mAQTIvtqp1cj"
      },
      "execution_count": null,
      "outputs": []
    },
    {
      "cell_type": "markdown",
      "source": [
        "##### 1. Why did you pick the specific chart?"
      ],
      "metadata": {
        "id": "X_VqEhTip1ck"
      }
    },
    {
      "cell_type": "markdown",
      "source": [
        "Answer Here."
      ],
      "metadata": {
        "id": "-vsMzt_np1ck"
      }
    },
    {
      "cell_type": "markdown",
      "source": [
        "##### 2. What is/are the insight(s) found from the chart?"
      ],
      "metadata": {
        "id": "8zGJKyg5p1ck"
      }
    },
    {
      "cell_type": "markdown",
      "source": [
        "Answer Here"
      ],
      "metadata": {
        "id": "ZYdMsrqVp1ck"
      }
    },
    {
      "cell_type": "markdown",
      "source": [
        "##### 3. Will the gained insights help creating a positive business impact?\n",
        "Are there any insights that lead to negative growth? Justify with specific reason."
      ],
      "metadata": {
        "id": "PVzmfK_Ep1ck"
      }
    },
    {
      "cell_type": "markdown",
      "source": [
        "Answer Here"
      ],
      "metadata": {
        "id": "druuKYZpp1ck"
      }
    },
    {
      "cell_type": "markdown",
      "source": [
        "#### Chart - 12"
      ],
      "metadata": {
        "id": "n3dbpmDWp1ck"
      }
    },
    {
      "cell_type": "code",
      "source": [
        "# Visualizing the Attacks that are part of Multiple Planned Events, events that are Related to One Another.\n",
        "filtered_df_multiple=Gtd_df[(Gtd_df['Multiple']==0) | (Gtd_df['Multiple']==1)]\n",
        "filtered_df_related=np.where(Gtd_df['Related'] == 'Not Applicable', 0, 1)\n",
        "\n",
        "# Creating subplots with two columns\n",
        "fig, axes = plt.subplots(nrows=1, ncols=2, figsize=(15, 5))\n",
        "\n",
        "# Plot for Attacks that are part of Multiple Planned Events\n",
        "sns.countplot(x='Multiple', data=filtered_df_multiple, ax=axes[0], palette=['skyblue', 'orange'])\n",
        "axes[0].set_title('Attacks Part of Multiple Planned Events')\n",
        "axes[0].set_xlabel('Multiple')\n",
        "axes[0].set_ylabel('Count')\n",
        "axes[0].set_xticks([0, 1],['Not Part of Multiple', 'Part of Multiple'])\n",
        "\n",
        "\n",
        "# Plot for Attacks Related to One Another\n",
        "sns.countplot(x=filtered_df_related, ax=axes[1], palette=['skyblue', 'orange'])\n",
        "axes[1].set_title('Attacks Related to One Another')\n",
        "axes[1].set_xlabel('Related')\n",
        "axes[1].set_ylabel('Count')\n",
        "axes[1].set_xticks([0, 1],['Not Related', 'Related'])\n",
        "\n",
        "plt.show()"
      ],
      "metadata": {
        "id": "bwevp1tKp1ck"
      },
      "execution_count": null,
      "outputs": []
    },
    {
      "cell_type": "markdown",
      "source": [
        "##### 1. Why did you pick the specific chart?"
      ],
      "metadata": {
        "id": "ylSl6qgtp1ck"
      }
    },
    {
      "cell_type": "markdown",
      "source": [
        "Answer Here."
      ],
      "metadata": {
        "id": "m2xqNkiQp1ck"
      }
    },
    {
      "cell_type": "markdown",
      "source": [
        "##### 2. What is/are the insight(s) found from the chart?"
      ],
      "metadata": {
        "id": "ZWILFDl5p1ck"
      }
    },
    {
      "cell_type": "markdown",
      "source": [
        "Answer Here"
      ],
      "metadata": {
        "id": "x-lUsV2mp1ck"
      }
    },
    {
      "cell_type": "markdown",
      "source": [
        "##### 3. Will the gained insights help creating a positive business impact?\n",
        "Are there any insights that lead to negative growth? Justify with specific reason."
      ],
      "metadata": {
        "id": "M7G43BXep1ck"
      }
    },
    {
      "cell_type": "markdown",
      "source": [
        "Answer Here"
      ],
      "metadata": {
        "id": "5wwDJXsLp1cl"
      }
    },
    {
      "cell_type": "markdown",
      "source": [
        "#### Chart - 13"
      ],
      "metadata": {
        "id": "Ag9LCva-p1cl"
      }
    },
    {
      "cell_type": "code",
      "source": [
        "# Visualizing the Succesfull Attacks, Suicidal Attacks, Attacked by Independent Individuals/Terrorist Groups\n",
        "success_count=Gtd_df['Success'].value_counts()\n",
        "suicide_count=Gtd_df['Suicide'].value_counts()\n",
        "individual_count=Gtd_df['Individual'].value_counts()\n",
        "\n",
        "# Plotting\n",
        "fig, axes = plt.subplots(1, 3, figsize=(15, 5))\n",
        "\n",
        "# Bar Chart for Successful Attacks\n",
        "axes[0].bar(success_count.index, success_count.values, color=['orange', 'skyblue'])\n",
        "axes[0].set_title('Successful Attacks')\n",
        "axes[0].set_xticks([0, 1], ['Failed', 'Successful'])\n",
        "\n",
        "# Pie Chart for Suicidal Attacks\n",
        "axes[1].pie(suicide_count.values, autopct='%1.1f%%', colors=['skyblue', 'orange'],labels=['Not Suicidal','Suicidal'])\n",
        "axes[1].set_title('Suicidal Attacks')\n",
        "\n",
        "\n",
        "# Horizontal Bar Chart for Attacks by Individuals\n",
        "axes[2].bar(individual_count.index, individual_count.values, color=['orange', 'red'])\n",
        "axes[2].set_title('Attacks by Individuals')\n",
        "axes[2].set_xticks([0, 1],['Terrorist Groups', 'Independent Individuals'])\n",
        "\n",
        "plt.tight_layout()\n",
        "plt.show()"
      ],
      "metadata": {
        "id": "EUfxeq9-p1cl"
      },
      "execution_count": null,
      "outputs": []
    },
    {
      "cell_type": "markdown",
      "source": [
        "##### 1. Why did you pick the specific chart?"
      ],
      "metadata": {
        "id": "E6MkPsBcp1cl"
      }
    },
    {
      "cell_type": "markdown",
      "source": [
        "Answer Here."
      ],
      "metadata": {
        "id": "V22bRsFWp1cl"
      }
    },
    {
      "cell_type": "markdown",
      "source": [
        "##### 2. What is/are the insight(s) found from the chart?"
      ],
      "metadata": {
        "id": "2cELzS2fp1cl"
      }
    },
    {
      "cell_type": "markdown",
      "source": [
        "Answer Here"
      ],
      "metadata": {
        "id": "ozQPc2_Ip1cl"
      }
    },
    {
      "cell_type": "markdown",
      "source": [
        "##### 3. Will the gained insights help creating a positive business impact?\n",
        "Are there any insights that lead to negative growth? Justify with specific reason."
      ],
      "metadata": {
        "id": "3MPXvC8up1cl"
      }
    },
    {
      "cell_type": "markdown",
      "source": [
        "Answer Here"
      ],
      "metadata": {
        "id": "GL8l1tdLp1cl"
      }
    },
    {
      "cell_type": "markdown",
      "source": [
        "#### Chart - 14"
      ],
      "metadata": {
        "id": "Pw84niZ88d4X"
      }
    },
    {
      "cell_type": "code",
      "source": [
        "# Visualizing the AttackType, TargetType\n",
        "attacktype=Gtd_df[Gtd_df['Attack_type']!='Unknown'].groupby('Attack_type')['Attack_type'].count().sort_values(ascending=False)[:5]\n",
        "targettype=Gtd_df[Gtd_df['Target_type']!='Unknown'].groupby('Target_type')['Target_type'].count().sort_values(ascending=False)[:5]\n",
        "\n",
        "# Visualizing the AttackType, TargetType, WeaponType\n",
        "fig, axes = plt.subplots(1, 2, figsize=(18, 6))\n",
        "\n",
        "# Pie Chart for Attack Types\n",
        "axes[0].pie(attacktype, labels=attacktype.index, autopct='%1.1f%%', startangle=90)\n",
        "axes[0].set_title('Attack Types',size=20)\n",
        "\n",
        "# Donut Chart for Target Types\n",
        "axes[1].pie(targettype, labels=targettype.index, autopct='%1.1f%%', startangle=90, wedgeprops=dict(width=0.3))\n",
        "axes[1].set_title('Target Types',size=20)\n",
        "\n",
        "plt.tight_layout()\n",
        "plt.show()"
      ],
      "metadata": {
        "id": "k8Weh8Vg7zw6"
      },
      "execution_count": null,
      "outputs": []
    },
    {
      "cell_type": "markdown",
      "source": [
        "#### Chart 15"
      ],
      "metadata": {
        "id": "qHjAZCVeIgkx"
      }
    },
    {
      "cell_type": "code",
      "source": [
        "# Visualizing the Weapon_type used in different years\n",
        "subset_weapontype = Gtd_df[Gtd_df['Weapon_type'] != 'Unknown'].groupby('Weapon_type')['Year'].apply(lambda x: x.sample(min(500, len(x)))).reset_index()\n",
        "\n",
        "# Creating a Violin Plot\n",
        "plt.figure(figsize=(12, 8))\n",
        "sns.violinplot(x='Year', y='Weapon_type', data=subset_weapontype, palette='viridis', inner='quartile')\n",
        "plt.title('Violin Plot of Weapon Types Over the Years')\n",
        "plt.xlabel('Year')\n",
        "plt.ylabel('Weapon Type')\n",
        "plt.show()"
      ],
      "metadata": {
        "id": "By7wpj6H7zpZ"
      },
      "execution_count": null,
      "outputs": []
    },
    {
      "cell_type": "markdown",
      "source": [
        "#### Chart 16"
      ],
      "metadata": {
        "id": "Cq4DaTgQVFZu"
      }
    },
    {
      "cell_type": "code",
      "source": [
        "# Visualizing the most Active Terrorist Groups\n",
        "terrorist=Gtd_df[Gtd_df['Terrorist_grp']!='Unknown'].groupby('Terrorist_grp')['Terrorist_grp'].count().sort_values(ascending=False)[:10]\n",
        "# Creating a horizontal bar chart\n",
        "plt.figure(figsize=(12, 8))\n",
        "sns.barplot(x=terrorist.values, y=terrorist.index, palette='viridis')\n",
        "plt.title('Top 10 Most Active Terrorist Groups')\n",
        "plt.xlabel('Number of Attacks')\n",
        "plt.ylabel('Terrorist Group')\n",
        "plt.show()"
      ],
      "metadata": {
        "id": "lt0TGi9y7xJ_"
      },
      "execution_count": null,
      "outputs": []
    },
    {
      "cell_type": "markdown",
      "source": [
        "#### Chart 17"
      ],
      "metadata": {
        "id": "WvqNWejqVJwU"
      }
    },
    {
      "cell_type": "code",
      "source": [
        "# Visualizing the Victims and Perpetrators killed during Attacks while Attacks by Active Terrorist Groups\n",
        "# Grouping by terrorist group and calculating the sum of killed people for each group\n",
        "filtered = Gtd_df[(Gtd_df['Killed'] != -1) & (Gtd_df['Terrorist_grp'] != 'Unknown')]\n",
        "terrorist_groups = filtered.groupby('Terrorist_grp')['Killed'].sum().sort_values(ascending=False)[:10]\n",
        "\n",
        "# Identifying the highest value for coloring\n",
        "max_value = terrorist_groups.max()\n",
        "\n",
        "# Creating a list of colors for each bar\n",
        "colors = ['orange' if value == max_value else 'skyblue' for value in terrorist_groups.values]\n",
        "\n",
        "# Creating a bar chart with colored bars\n",
        "plt.figure(figsize=(12, 8))\n",
        "bars = plt.bar(terrorist_groups.index, terrorist_groups.values, color=colors)\n",
        "plt.title('Top 10 Most Active Terrorist Groups and Total Number of People Killed')\n",
        "plt.xlabel('Terrorist Group')\n",
        "plt.ylabel('Total Number of People Killed')\n",
        "plt.xticks(rotation=45, ha='right')\n",
        "\n",
        "# Adding a legend for the highlighted bar\n",
        "plt.legend([bars[colors.index('orange')]], ['Highest Value'], loc='upper right')\n",
        "\n",
        "plt.show()"
      ],
      "metadata": {
        "id": "SUAasgTZU1zF"
      },
      "execution_count": null,
      "outputs": []
    },
    {
      "cell_type": "markdown",
      "source": [
        "#### Chart 18"
      ],
      "metadata": {
        "id": "55v7UsiPXz_m"
      }
    },
    {
      "cell_type": "code",
      "source": [
        "# Visuaizing the relation between No.of people Wounded during usage of different Attacking Modes\n",
        "# Filtering the data\n",
        "filtered_w = Gtd_df[(Gtd_df['Wounded']!=-1)&(Gtd_df['Attack_type']!='Unknown')]\n",
        "\n",
        "# Grouping by attack type and calculating the sum of wounded people for each type\n",
        "attack_types = filtered_w.groupby('Attack_type')['Wounded'].sum().sort_values(ascending=False)\n",
        "\n",
        "# Creating a bar chart\n",
        "sns.barplot(x=attack_types.values, y=attack_types.index, palette='viridis')\n",
        "plt.title('Total Number of People Wounded by Attack Type')\n",
        "plt.xlabel('Total Number of People Wounded')\n",
        "plt.ylabel('Attack Type')\n",
        "plt.show()"
      ],
      "metadata": {
        "id": "mUbE4T6H7uQu"
      },
      "execution_count": null,
      "outputs": []
    },
    {
      "cell_type": "markdown",
      "source": [
        "#### Chart 19"
      ],
      "metadata": {
        "id": "lQCYZA0Dt_Hr"
      }
    },
    {
      "cell_type": "code",
      "source": [
        "# Visualizing the Top Terrorist group Attacks with visible Property Damage\n",
        "# Filtering the data\n",
        "filtered_d = Gtd_df[(Gtd_df['Prop_damage'] != -9) & (Gtd_df['Terrorist_grp'] != 'Unknown')]\n",
        "\n",
        "# Grouping by 'Terrorist_grp' and 'Prop_damage' and counting occurrences\n",
        "grouped_data = filtered_d.groupby(['Terrorist_grp', 'Prop_damage']).size().reset_index(name='Attack Count')\n",
        "\n",
        "# Selecting the top 10 rows based on attack count\n",
        "top_groups = grouped_data.sort_values(by='Attack Count', ascending=False).head(10)\n",
        "\n",
        "# Creating a count plot\n",
        "plt.figure(figsize=(12, 8))\n",
        "ax = sns.barplot(x='Terrorist_grp', y='Attack Count', hue='Prop_damage', data=top_groups, palette=['skyblue', 'orange'])\n",
        "plt.title('Property Damage by Top Terrorist Groups')\n",
        "plt.xlabel('Terrorist Group')\n",
        "plt.ylabel('Attack Count')\n",
        "plt.xticks(rotation=45, ha='right')\n",
        "\n",
        "# Customize legend labels\n",
        "legend_labels = {0: 'No Damage', 1: 'Property Damage'}\n",
        "handles, _ = ax.get_legend_handles_labels()\n",
        "ax.legend(handles=handles, labels=[legend_labels[int(label.get_text())] for label in ax.get_legend().get_texts()], title='Property Damage')\n",
        "\n",
        "plt.show()"
      ],
      "metadata": {
        "id": "uZyyI6K9X74-"
      },
      "execution_count": null,
      "outputs": []
    },
    {
      "cell_type": "markdown",
      "source": [
        "#### Chart 20"
      ],
      "metadata": {
        "id": "rEWuK72I0zSM"
      }
    },
    {
      "cell_type": "code",
      "source": [
        "# Visualizing the Higher Kidnapped Cases over the Years\n",
        "# Filtering the data for kidnapped cases\n",
        "filtered_k = Gtd_df[(Gtd_df['kidnapped'] == 0) | (Gtd_df['kidnapped'] == 1)]\n",
        "\n",
        "# Grouping by 'Year' and counting occurrences for both kidnapped and not kidnapped cases\n",
        "kidnapped_counts = filtered_k.groupby(['Year', 'kidnapped']).size().unstack().fillna(0)\n",
        "\n",
        "# Summing the total kidnapped cases for each year\n",
        "kidnapped_counts['Total'] = kidnapped_counts.sum(axis=1)\n",
        "\n",
        "# Sorting the values in descending order based on the total kidnapped cases\n",
        "kidnapped_counts = kidnapped_counts.sort_values(by='Total', ascending=False)\n",
        "\n",
        "# Taking the top 10 years\n",
        "top_10_years = kidnapped_counts.head(10)\n",
        "\n",
        "# Creating a bar plot with adjusted parameters\n",
        "plt.figure(figsize=(14, 8))\n",
        "ax = top_10_years.drop(columns='Total').plot(kind='bar', stacked=True, color=['skyblue', 'orange'], width=0.8)\n",
        "plt.title('Top 10 Years with Highest Number of Kidnapped Cases')\n",
        "plt.xlabel('Year')\n",
        "plt.ylabel('Number of Cases')\n",
        "plt.legend(title='Kidnapped', labels=['Not Kidnapped', 'Kidnapped'])\n",
        "\n",
        "# Adjusting x-label rotation\n",
        "plt.xticks(rotation=45, ha='right')\n",
        "\n",
        "plt.show()"
      ],
      "metadata": {
        "id": "ryPK-zPCxex7"
      },
      "execution_count": null,
      "outputs": []
    },
    {
      "cell_type": "markdown",
      "source": [
        "#### Chart 21"
      ],
      "metadata": {
        "id": "v3CU5OBy4Rrn"
      }
    },
    {
      "cell_type": "code",
      "source": [
        "# Visualizing the Claim mode by top Terrorist groups\n",
        "# Filtering the data for relevant columns\n",
        "filtered_c = Gtd_df[(Gtd_df['Claim_mode'] != 'Not Applicable') & (Gtd_df['Claim_mode'] != 'Unknown')]\n",
        "\n",
        "# Selecting the top 3 terrorist groups\n",
        "top_3_groups = Gtd_df[Gtd_df['Terrorist_grp'] != 'Unknown']['Terrorist_grp'].value_counts().sort_values(ascending=False).head(10).index.tolist()\n",
        "\n",
        "# Filtering data for the top 3 groups\n",
        "filtered_top_groups = filtered_c[filtered_c['Terrorist_grp'].isin(top_3_groups)]\n",
        "\n",
        "# Grouping by 'Terrorist_grp' and 'Claim_mode' and counting occurrences\n",
        "grouped_data = filtered_top_groups.groupby(['Terrorist_grp', 'Claim_mode']).size().unstack().fillna(0)\n",
        "\n",
        "# Creating a stacked bar plot\n",
        "plt.figure(figsize=(12, 8))\n",
        "ax = grouped_data.T.plot(kind='bar', stacked=True, cmap='viridis')\n",
        "plt.title('Claim Mode in Attacks by Top 3 Terrorist Groups')\n",
        "plt.xlabel('Claim Mode')\n",
        "plt.ylabel('Number of Attacks')\n",
        "plt.legend(title='Terrorist Group', bbox_to_anchor=(1.05, 1), loc='upper left')\n",
        "\n",
        "plt.show()"
      ],
      "metadata": {
        "id": "KEcdgqv-1UdK"
      },
      "execution_count": null,
      "outputs": []
    },
    {
      "cell_type": "markdown",
      "source": [
        "#### Chart 22"
      ],
      "metadata": {
        "id": "Vb5ts4DO_s-D"
      }
    },
    {
      "cell_type": "code",
      "source": [
        "top_sources_by_year = Gtd_df.groupby(['Db_source','Year'])['Db_source'].count().sort_values(ascending=False)[:30]\n",
        "top_sources_df = top_sources_by_year.reset_index(name='Count')\n",
        "\n",
        "sns.lineplot(x='Year', y='Count', hue='Db_source', data=top_sources_df, marker='o')\n",
        "plt.title('Count of Events by Source Over Years')\n",
        "plt.xlabel('Year')\n",
        "plt.ylabel('Count')\n",
        "plt.legend(title='Db_source', loc='upper left', bbox_to_anchor=(1, 1))\n",
        "plt.show()"
      ],
      "metadata": {
        "id": "9TbtcZJ-4uca"
      },
      "execution_count": null,
      "outputs": []
    },
    {
      "cell_type": "markdown",
      "source": [
        "#### Chart 23"
      ],
      "metadata": {
        "id": "dDoybbT3D-vH"
      }
    },
    {
      "cell_type": "code",
      "source": [
        "# Visualizing Int_logistics, Int_ideological, Int_Miscellaneous by the No. of Attacks\n",
        "# Filtering data for each column\n",
        "filtered_IL = Gtd_df[Gtd_df['Int_logistics']!=-9]\n",
        "filtered_II = Gtd_df[Gtd_df['Int_ideological']!=-9]\n",
        "filtered_IM = Gtd_df[Gtd_df['Int_Miscellaneous']!=-9]\n",
        "\n",
        "# Creating subplots with three columns\n",
        "fig, axes = plt.subplots(1, 3, figsize=(15, 5))\n",
        "\n",
        "# For having same y-axis values for three figures\n",
        "y = max(filtered_IL['Int_logistics'].value_counts().max(), filtered_II['Int_ideological'].value_counts().max(),\n",
        "      filtered_IM['Int_Miscellaneous'].value_counts().max())\n",
        "\n",
        "# Bar plot for Int_logistics\n",
        "sns.countplot(x='Int_logistics', data=filtered_IL, ax=axes[0], palette='Set2')\n",
        "axes[0].set_title('Int_logistics')\n",
        "axes[0].set_xlabel('Value')\n",
        "axes[0].set_ylabel('Count')\n",
        "axes[0].set_xticklabels(['No', 'Yes'])\n",
        "axes[0].set_ylim(0, y)\n",
        "\n",
        "# Bar plot for Int_ideological\n",
        "sns.countplot(x='Int_ideological', data=filtered_II, ax=axes[1], palette='Set2')\n",
        "axes[1].set_title('Int_ideological')\n",
        "axes[1].set_xlabel('Value')\n",
        "axes[1].set_ylabel('Count')\n",
        "axes[1].set_xticklabels(['No', 'Yes'])\n",
        "axes[1].set_ylim(0, y)\n",
        "\n",
        "# Bar plot for Int_Miscellaneous\n",
        "sns.countplot(x='Int_Miscellaneous', data=filtered_IM, ax=axes[2], palette='Set2')\n",
        "axes[2].set_title('Int_Miscellaneous')\n",
        "axes[2].set_xlabel('Value')\n",
        "axes[2].set_ylabel('Count')\n",
        "axes[2].set_xticklabels(['No', 'Yes'])\n",
        "axes[2].set_ylim(0, y)\n",
        "\n",
        "plt.tight_layout()\n",
        "plt.show()"
      ],
      "metadata": {
        "id": "wtf11Wkh_yka"
      },
      "execution_count": null,
      "outputs": []
    },
    {
      "cell_type": "code",
      "source": [
        "# Number of Doubtful cases or purely Terrorism cases every Year\n",
        "\n",
        "filtered_d = Gtd_df[(Gtd_df['Doubtful']==0)|(Gtd_df['Doubtful']==1)]\n",
        "grouped_data = filtered_d.groupby(['Year','Doubtful'])['Event_ID'].count().sort_values(ascending=False).unstack()[-18:]\n",
        "\n",
        "# Creating a bar plot\n",
        "grouped_data.plot(kind='bar', stacked=True, color=['orange','skyblue'])\n",
        "plt.title('Number of Doubtful and Terrorism Cases Over the Years')\n",
        "plt.xlabel('Year')\n",
        "plt.ylabel('Number of Cases')\n",
        "plt.legend(title='Doubtful', labels=['Terrorism', 'Doubtful'])\n",
        "plt.show()"
      ],
      "metadata": {
        "id": "LQoa71U-g0nB"
      },
      "execution_count": null,
      "outputs": []
    },
    {
      "cell_type": "code",
      "source": [
        "# Number of Succesful Cases every Year\n",
        "success_data = Gtd_df.groupby(['Year', 'Success']).size().unstack().fillna(0)\n",
        "\n",
        "# Creating a stacked bar plot\n",
        "success_data.plot(kind='bar', stacked=True, color=['skyblue', 'orange'], figsize=(12, 8))\n",
        "plt.title('Successful and Unsuccessful Cases Over the Years')\n",
        "plt.xlabel('Year')\n",
        "plt.ylabel('Number of Cases')\n",
        "plt.legend(title='Success', labels=['Unsuccessful', 'Successful'])\n",
        "plt.show()"
      ],
      "metadata": {
        "id": "0_qp0akxcMqI"
      },
      "execution_count": null,
      "outputs": []
    },
    {
      "cell_type": "code",
      "source": [
        "#. Most Succesfull cases in which Region\n",
        "successful_cases = Gtd_df[Gtd_df['Success'] == 1]\n",
        "success_by_region = successful_cases['Region'].value_counts().sort_values(ascending=False)\n",
        "top_regions = success_by_region.head(10)\n",
        "\n",
        "# Creating a bar plot\n",
        "sns.barplot(x=top_regions.values, y=top_regions.index, palette='viridis')\n",
        "plt.title('Top 10 Regions with the Most Successful Cases')\n",
        "plt.xlabel('Number of Successful Cases')\n",
        "plt.ylabel('Region')\n",
        "plt.show()"
      ],
      "metadata": {
        "id": "aP4fsy7UcMVo"
      },
      "execution_count": null,
      "outputs": []
    },
    {
      "cell_type": "code",
      "source": [
        "Gtd_df.columns"
      ],
      "metadata": {
        "id": "ycdxSTAwlYri"
      },
      "execution_count": null,
      "outputs": []
    },
    {
      "cell_type": "code",
      "source": [
        "# Suicidal cases mostly in which Region\n",
        "suicidal_cases = Gtd_df[Gtd_df['Suicide'] == 1]\n",
        "\n",
        "# Group by 'Region' and count the number of suicidal cases in each region\n",
        "suicide_by_region = suicidal_cases['Region'].value_counts().reset_index()[:5]\n",
        "suicide_by_region.columns = ['Region', 'Number of Suicidal Cases']\n",
        "\n",
        "# Create a count plot\n",
        "sns.barplot(x='Region', y='Number of Suicidal Cases', data=suicide_by_region, palette='viridis')\n",
        "plt.title('Suicidal Cases by Region')\n",
        "plt.xlabel('Region')\n",
        "plt.ylabel('Number of Suicidal Cases')\n",
        "plt.xticks(rotation=45, ha='right')\n",
        "plt.show()"
      ],
      "metadata": {
        "id": "P-R2XGlUfpAi"
      },
      "execution_count": null,
      "outputs": []
    },
    {
      "cell_type": "code",
      "source": [
        "suicidal_cases = Gtd_df[Gtd_df['Suicide'] == 1]\n",
        "\n",
        "# Group by 'Attack_type' and count the number of cases\n",
        "suicidal_by_attack = suicidal_cases.groupby(['Attack_type']).size().fillna(0).sort_values(ascending=False)[:5]\n",
        "\n",
        "# Create a bar plot\n",
        "suicidal_by_attack.plot(kind='bar', color='orange')\n",
        "plt.title('Suicidal Cases by Attack Type')\n",
        "plt.xlabel('Attack Type')\n",
        "plt.ylabel('Number of Suicidal Cases')\n",
        "plt.xticks(rotation=45, ha='right')\n",
        "plt.show()"
      ],
      "metadata": {
        "id": "WLVMfWlIcMQZ"
      },
      "execution_count": null,
      "outputs": []
    },
    {
      "cell_type": "code",
      "source": [
        "Gtd_df['Claim_mode'].unique()"
      ],
      "metadata": {
        "id": "zHBrZ2Pd4Xtl"
      },
      "execution_count": null,
      "outputs": []
    },
    {
      "cell_type": "code",
      "source": [
        "# What is the Most prominent Claim Mode for Kidnapped Cases\n",
        "# Filtering data for kidnapped cases\n",
        "filtered_kc = Gtd_df[(Gtd_df['kidnapped'] == 1)&(Gtd_df['Claim_mode']!='Not Applicable')& (Gtd_df['Claim_mode']!='Unknown')]\n",
        "\n",
        "# Grouping by 'Claim_mode' and counting occurrences\n",
        "claim_mode_counts = filtered_kc['Claim_mode'].value_counts()\n",
        "\n",
        "# Creating a bar plot\n",
        "sns.barplot(x=claim_mode_counts.index, y=claim_mode_counts.values, palette='viridis')\n",
        "plt.title('Most Prominent Claim Mode for Kidnapped Cases')\n",
        "plt.xlabel('Claim Mode')\n",
        "plt.ylabel('Number of Kidnapped Cases')\n",
        "plt.xticks(rotation=45, ha='right')\n",
        "plt.show()"
      ],
      "metadata": {
        "id": "kDasClltcMLb"
      },
      "execution_count": null,
      "outputs": []
    },
    {
      "cell_type": "code",
      "source": [
        "# Which Region has Most Extended Cases\n",
        "# Grouping by 'Region' and calculating the total number of extended cases in each region\n",
        "extended_cases_by_region = Gtd_df.groupby('Region')['Extended'].sum().sort_values(ascending=False)[:5]\n",
        "\n",
        "# Creating a pie chart\n",
        "plt.pie(extended_cases_by_region, labels=extended_cases_by_region.index, autopct='%1.1f%%', startangle=140)\n",
        "plt.title('Distribution of Extended Cases by Region')\n",
        "plt.show()"
      ],
      "metadata": {
        "id": "Ch9mU_lQcLpD"
      },
      "execution_count": null,
      "outputs": []
    },
    {
      "cell_type": "code",
      "source": [
        "# Which group has targeted which target type mostly\n",
        "# Selecting the top 5 active terrorist groups\n",
        "top_5_groups = Gtd_df[Gtd_df['Terrorist_grp'] != 'Unknown']['Terrorist_grp'].value_counts().sort_values(ascending=False).head(5).index\n",
        "\n",
        "# Filtering data for the top 5 groups\n",
        "filtered_top_groups = Gtd_df[Gtd_df['Terrorist_grp'].isin(top_5_groups)]\n",
        "\n",
        "# Grouping by 'Terrorist_grp' and 'Target_type' and counting occurrences\n",
        "grouped_data = filtered_top_groups.groupby(['Terrorist_grp', 'Target_type']).size().unstack().fillna(0)\n",
        "\n",
        "# Creating a heatmap for the grouped data\n",
        "plt.figure(figsize=(12, 8))\n",
        "sns.heatmap(grouped_data, cmap='coolwarm', annot=True, fmt='g', linewidths=.5, cbar_kws={'label': 'Number of Attacks'})\n",
        "plt.title('Terrorist Groups vs Target Types')\n",
        "plt.xlabel('Target Type')\n",
        "plt.ylabel('Terrorist Group')\n",
        "plt.show()"
      ],
      "metadata": {
        "id": "sLknpVgWcLkf"
      },
      "execution_count": null,
      "outputs": []
    },
    {
      "cell_type": "code",
      "source": [
        "# Which Terrorist group has most succesfull cases\n",
        "# Filtering data for successful cases and excluding 'Unknown' terrorist group\n",
        "successful_cases = Gtd_df[(Gtd_df['Success'] == 1) & (Gtd_df['Terrorist_grp'] != 'Unknown')]\n",
        "\n",
        "# Grouping by 'Terrorist_grp' and counting the number of successful cases for each group\n",
        "success_by_group = successful_cases['Terrorist_grp'].value_counts().sort_values(ascending=False)[:10]\n",
        "\n",
        "# Creating a bar plot\n",
        "sns.barplot(x=success_by_group.index, y=success_by_group.values)\n",
        "plt.title('Successful Cases by Terrorist Group')\n",
        "plt.xlabel('Terrorist Group')\n",
        "plt.ylabel('Number of Successful Cases')\n",
        "plt.xticks(rotation=45, ha='right')\n",
        "plt.show()"
      ],
      "metadata": {
        "id": "ejRank9SgWV8"
      },
      "execution_count": null,
      "outputs": []
    },
    {
      "cell_type": "markdown",
      "source": [
        "#### Chart - 14 - Correlation Heatmap"
      ],
      "metadata": {
        "id": "NC_X3p0fY2L0"
      }
    },
    {
      "cell_type": "code",
      "source": [
        "# Correlation Heatmap visualization code"
      ],
      "metadata": {
        "id": "xyC9zolEZNRQ"
      },
      "execution_count": null,
      "outputs": []
    },
    {
      "cell_type": "markdown",
      "source": [
        "##### 1. Why did you pick the specific chart?"
      ],
      "metadata": {
        "id": "UV0SzAkaZNRQ"
      }
    },
    {
      "cell_type": "markdown",
      "source": [
        "Answer Here."
      ],
      "metadata": {
        "id": "DVPuT8LYZNRQ"
      }
    },
    {
      "cell_type": "markdown",
      "source": [
        "##### 2. What is/are the insight(s) found from the chart?"
      ],
      "metadata": {
        "id": "YPEH6qLeZNRQ"
      }
    },
    {
      "cell_type": "markdown",
      "source": [
        "Answer Here"
      ],
      "metadata": {
        "id": "bfSqtnDqZNRR"
      }
    },
    {
      "cell_type": "markdown",
      "source": [
        "#### Chart - 15 - Pair Plot"
      ],
      "metadata": {
        "id": "q29F0dvdveiT"
      }
    },
    {
      "cell_type": "code",
      "source": [
        "# Pair Plot visualization code"
      ],
      "metadata": {
        "id": "o58-TEIhveiU"
      },
      "execution_count": null,
      "outputs": []
    },
    {
      "cell_type": "markdown",
      "source": [
        "##### 1. Why did you pick the specific chart?"
      ],
      "metadata": {
        "id": "EXh0U9oCveiU"
      }
    },
    {
      "cell_type": "markdown",
      "source": [
        "Answer Here."
      ],
      "metadata": {
        "id": "eMmPjTByveiU"
      }
    },
    {
      "cell_type": "markdown",
      "source": [
        "##### 2. What is/are the insight(s) found from the chart?"
      ],
      "metadata": {
        "id": "22aHeOlLveiV"
      }
    },
    {
      "cell_type": "markdown",
      "source": [
        "Answer Here"
      ],
      "metadata": {
        "id": "uPQ8RGwHveiV"
      }
    },
    {
      "cell_type": "markdown",
      "source": [
        "## **5. Solution to Business Objective**"
      ],
      "metadata": {
        "id": "JcMwzZxoAimU"
      }
    },
    {
      "cell_type": "markdown",
      "source": [
        "#### What do you suggest the client to achieve Business Objective ?\n",
        "Explain Briefly."
      ],
      "metadata": {
        "id": "8G2x9gOozGDZ"
      }
    },
    {
      "cell_type": "markdown",
      "source": [
        "Answer Here."
      ],
      "metadata": {
        "id": "pASKb0qOza21"
      }
    },
    {
      "cell_type": "markdown",
      "source": [
        "# **Conclusion**"
      ],
      "metadata": {
        "id": "gCX9965dhzqZ"
      }
    },
    {
      "cell_type": "markdown",
      "source": [
        "Write the conclusion here."
      ],
      "metadata": {
        "id": "Fjb1IsQkh3yE"
      }
    },
    {
      "cell_type": "markdown",
      "source": [
        "### ***Hurrah! You have successfully completed your EDA Capstone Project !!!***"
      ],
      "metadata": {
        "id": "gIfDvo9L0UH2"
      }
    }
  ]
}